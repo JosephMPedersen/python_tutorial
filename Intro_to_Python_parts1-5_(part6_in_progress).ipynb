{
 "cells": [
  {
   "cell_type": "markdown",
   "id": "9aee8a84-f23a-47cc-a7f8-f6e938f0d1e5",
   "metadata": {
    "tags": []
   },
   "source": [
    "#### Intro to Python (and Jupyter notebooks)\n",
    "For the official Python tutorial, go to:\n",
    "https://docs.python.org/3/tutorial/\n",
    "\n",
    "I provide links to that and other parts of the documentation for many topics, so that this tutorial can also serve as a quick reference.\n",
    "\n",
    "This tutorial was developed by me, Joseph Pedersen. I am not affiliated with the Python Software Foundation, and this tutorial is not endorsed by the Python Software Foundation.\n",
    "\n",
    "This tutorial is intended for an audience with no Python experience.  It only covers basic Python, not third-party packages (it does show a few examples that use third-party packages, e.g. NumPy and pandas, but does not cover them in any depth).\n",
    "\n",
    "This notebook was written for Python version 3.10, meaning that you should have version 3.10 or newer to use this tutorial.\n",
    "\n",
    "tutorial version 20250323\n",
    "\n",
    "Please send any errors found or suggestions for improvement to:  \n",
    "[joseph.m.pedersen@gmail.com](mailto:joseph.m.pedersen@gmail.com?subject=Python_Tutorial) with ***SUBJECT: Python_Tutorial***"
   ]
  },
  {
   "cell_type": "markdown",
   "id": "85f45078-87d2-49fc-84de-7399a8ad4252",
   "metadata": {
    "tags": []
   },
   "source": [
    "## Part 1: Basic syntax and some built-ins"
   ]
  },
  {
   "cell_type": "markdown",
   "id": "3c4d0772-95a3-4293-89c0-d4cec1378098",
   "metadata": {
    "tags": []
   },
   "source": [
    "### 1.1 Beginning\n",
    "\n",
    "***Instructions:***\n",
    "\n",
    "<span style=\"background:yellow\">To complete this tutorial, RUN ***EVERY*** code cell, and complete all of the EXERCISES!</span>\n",
    "\n",
    "If a cell produces an <span style=\"color:red\">***Error***</span>, there should be an exercise right after it telling you how to fix the error, or an explanation of the error explaining why the error was produced. \n",
    "\n",
    "Sometimes the explanation may be ***hidden*** in a cell like the next one that says ***Remember***. Click on that cell to expand it."
   ]
  },
  {
   "cell_type": "markdown",
   "id": "176b768f-7a8e-46e0-b2c3-bb794af6f7e4",
   "metadata": {
    "jp-MarkdownHeadingCollapsed": true,
    "tags": []
   },
   "source": [
    "<details>\n",
    "    <summary><b>Remember</b></summary>\n",
    "    \n",
    "Explanations or solutions that I don't want you to see until after you have run a cell are hidden like this.\n",
    "</details>"
   ]
  },
  {
   "cell_type": "markdown",
   "id": "9e6a0968-7610-4d97-aa71-695100eae7c4",
   "metadata": {},
   "source": [
    "There are many links in this tutorial, mostly to the [***Python documentation***](https://docs.python.org/3/), that you can click on to learn more about a topic!\n",
    "\n",
    "<span style=\"background:yellow; color:red\">***WARNING: Make sure that you got this notebook from a trustworthy source. Never run code that may have been compromised, since it could contain malicious code that can harm your computer or compromise the data on it!***</span>\n",
    "\n",
    "Why did I take the time to write that?  If this notebook was comprised, wouldn't the attacker remove the warning?\n",
    "\n",
    "Maybe that's what they want you to think! 🤔"
   ]
  },
  {
   "cell_type": "markdown",
   "id": "479fabe2-fa31-4544-916d-b7a77b9ceb68",
   "metadata": {},
   "source": [
    "#### 1.1.1 Run a code cell in a [Jupyter notebook](https://jupyter-notebook.readthedocs.io/en/stable/examples/Notebook/What%20is%20the%20Jupyter%20Notebook.html) <a id=\"run_code\"></a>\n",
    "\n",
    "One way to [run a code cell](https://jupyter-notebook.readthedocs.io/en/stable/examples/Notebook/Running%20Code.html) is:\n",
    "1) highlight the cell by clicking to the left of it (or in it), then\n",
    "2) hold shift and press enter"
   ]
  },
  {
   "cell_type": "code",
   "execution_count": null,
   "id": "3e58b336-84db-4c84-8fb3-62a8726f966e",
   "metadata": {
    "tags": []
   },
   "outputs": [],
   "source": [
    "# Execute your first command in Python\n",
    "print(\"hello, world!\")"
   ]
  },
  {
   "cell_type": "markdown",
   "id": "39d5c85c-abb7-40de-bc4a-d6224b3f2650",
   "metadata": {},
   "source": [
    "If you ran the [***code cell***](https://jupyter-notebook.readthedocs.io/en/stable/notebook.html#code-cells) above, the code in the cell was read and executed, [***printing***](https://docs.python.org/3/library/functions.html#print) `hello, world!` below the cell.\n",
    "\n",
    "Then, the next cell (this one) was highlighted. \n",
    "\n",
    "This is a [***markdown cell***](https://jupyter-notebook.readthedocs.io/en/stable/examples/Notebook/Working%20With%20Markdown%20Cells.html#Markdown-Cells), so it doesn't have any code, but you can still hold shift and press enter to highlight the next cell."
   ]
  },
  {
   "cell_type": "markdown",
   "id": "6efd345e-a59d-472a-8c76-81f11b8f7f00",
   "metadata": {},
   "source": [
    "#### 1.1.2 Check which Python you are running <a id=\"python_version\"></a>\n",
    "\n",
    "This tutorial is written for Python version 3.10 or greater. Running the next cell will show you which version you are using, and the path to that executable."
   ]
  },
  {
   "cell_type": "code",
   "execution_count": null,
   "id": "2a9f68b6-4281-465d-8c04-ff280da0d2f3",
   "metadata": {
    "tags": []
   },
   "outputs": [],
   "source": [
    "# Check your python version\n",
    "import sys\n",
    "\n",
    "print(\"Python version =\", sys.version)\n",
    "print(\"\\nThe path to that Python interpreter:\\n\\t\", sys.executable)"
   ]
  },
  {
   "cell_type": "markdown",
   "id": "30613303-fd79-48ba-8855-79556a8b03ca",
   "metadata": {},
   "source": [
    "#### 1.1.3 Comments <a id=\"comments\"></a>\n",
    "\n",
    "Anything on a line after the symbol `#` is a [***comment***](https://peps.python.org/pep-0008/#comments) (unless it is inside a [string](#strings_intro)) and is ignored by Python. Notice that Jupyter Notebooks have [***syntax highlighting***](https://en.wikipedia.org/wiki/Syntax_highlighting), making the comments a different color than other code to improve readability.\n",
    "\n",
    "Comments are important for helping anyone who reads your code understand what it is doing, including you later!"
   ]
  },
  {
   "cell_type": "code",
   "execution_count": null,
   "id": "6cca7c7d-5b6a-4dab-8411-84398745b5c9",
   "metadata": {
    "tags": []
   },
   "outputs": [],
   "source": [
    "# This will not print anything, since it is a comment\n",
    "\n",
    "# print(\"The answer to the ultimate question, of life, the universe, and everything, is\", 42)"
   ]
  },
  {
   "cell_type": "markdown",
   "id": "a8724cd1-3119-4b5d-b1e1-4c5c70dd4d7d",
   "metadata": {},
   "source": [
    "The cell above only had comments in it, so nothing was executed."
   ]
  },
  {
   "cell_type": "markdown",
   "id": "2dbfc012-e5a1-49b3-9231-e0eeeaccd4ed",
   "metadata": {},
   "source": [
    "##### Exercise 1.1.3.1: Uncomment code\n",
    "\n",
    "Sometimes code is commented out in order to not run it, without deleting it.  This is especially useful during debugging. When you want to run the code again, you can ***uncomment*** it. Uncomment the code in the cell above by removing the `#` before the `print` statement. Then, rerun the cell."
   ]
  },
  {
   "cell_type": "markdown",
   "id": "4dd11455-7b08-403d-b458-11241b936a41",
   "metadata": {},
   "source": [
    "#### 1.1.4 Output cells <a id=\"output_cells\"></a>\n",
    "\n",
    "Besides printing and plotting output below the cell containing those commands, [***Jupyter notebooks***](https://jupyter-notebook.readthedocs.io/en/stable/examples/Notebook/What%20is%20the%20Jupyter%20Notebook.html) also sometimes create an output cell containing the value of the last expression, by default.\n",
    "\n",
    "Running the code cell below will cause each of the three expressions to be evaluated. However, only the value of the last one is output to the screen (by default)."
   ]
  },
  {
   "cell_type": "code",
   "execution_count": null,
   "id": "7082933e-b42b-48b0-92da-547399aa2ed6",
   "metadata": {
    "tags": []
   },
   "outputs": [],
   "source": [
    "2+3  # addition\n",
    "2*3  # multiplication\n",
    "2**3 # exponentiation"
   ]
  },
  {
   "cell_type": "markdown",
   "id": "ac113438-cf94-4f44-9efb-1b9684f905c7",
   "metadata": {},
   "source": [
    "The output cell above contains an \"8\" because the last expression in the corresponding input cell evaluated to \"8\".  Notice that the corresponding input and output cells have the same number."
   ]
  },
  {
   "cell_type": "markdown",
   "id": "6276a393-d077-436e-bcaa-e2facc2ba2a4",
   "metadata": {},
   "source": [
    "##### Exercise 1.1.4.1: semicolon"
   ]
  },
  {
   "cell_type": "markdown",
   "id": "90942109-7887-4e8c-acd0-e69060a6cd32",
   "metadata": {},
   "source": [
    "In the code cell above, put a semicolon (`;`) after the last expression (`2**3`) and rerun the cell. Make sure not to put the semicolon in the comment (which is ignored by the interpreter). Put it immediately after the expression. \n",
    "\n",
    "***What changed?***"
   ]
  },
  {
   "cell_type": "markdown",
   "id": "b704f2da-add1-4460-815a-692f32b28c15",
   "metadata": {},
   "source": [
    "In Python, lines do not need to be \"terminated\" by a semicolon. However, in Jupyter notebooks, if you put a semicolon after the last expression in a cell, it suppresses the output."
   ]
  },
  {
   "cell_type": "markdown",
   "id": "b6aa03de-1898-47e2-883b-d05aa79f98a8",
   "metadata": {
    "tags": []
   },
   "source": [
    "#### 1.1.5 Adding and deleting cells <a id=\"cells\"></a>\n",
    "\n",
    "When a cell is highlighted in JupyterLab, there are symbols in the upper right corner that you can click on to add a cell above or below that cell. If you hover over the symbol, it also shows you the [keyboard shortcut](https://jupyter-notebook.readthedocs.io/en/stable/examples/Notebook/Notebook%20Basics.html#Keyboard-Navigation) that you can use when in [***command mode***](https://jupyter-notebook.readthedocs.io/en/stable/examples/Notebook/Notebook%20Basics.html#Command-mode), which is \"indicated by a grey cell border with a blue left margin.\"  You get to command mode by clicking to the left of a cell, just outside of it, or pressing `ESC`. The shortcuts are ***A*** to add a cell ***A***bove and ***B*** to add a cell ***B***elow.\n",
    "\n",
    "There is also a trashcan that you can click on to delete a cell. The keyboard shortcut for that when in command mode is ***D D*** to ***D***elete a cell (making you type the \"D\" twice so that you are sure, although you can undo the deletion with ***Z*** if you have not done anything else yet).\n",
    "\n",
    "Once you have made a cell, you can change it to either a code cell, markdown cell, or raw cell, using the following keyboard shortcuts ***when in command mode***:\n",
    "\n",
    "- ***Y*** = \"code cell\"  \n",
    "- ***M*** = \"markdown cell\"  \n",
    "- ***R*** = \"raw cell\"  "
   ]
  },
  {
   "cell_type": "markdown",
   "id": "c9381434-6b8e-4f04-a06d-c2ab0da4e848",
   "metadata": {},
   "source": [
    "##### Exercise 1.1.5.1: Adding cells\n",
    "\n",
    "Add a cell above this one.  Make it a raw cell.  Type something.\n",
    "\n",
    "Also add a cell below this one.  Make it a code cell.  Type a comment in it.\n",
    "\n",
    "You can use these features in this notebook to add notes/comments to yourself as you study Python!"
   ]
  },
  {
   "cell_type": "markdown",
   "id": "0a349293-941c-4c4b-9974-e49d479aa1ab",
   "metadata": {
    "tags": []
   },
   "source": [
    "### 1.2 Expressions <a id=\"expressions\"></a>\n",
    "\n",
    "Any Python syntax that evaluates to some value is referred to as an [***expression***](https://docs.python.org/3/glossary.html#term-expression)."
   ]
  },
  {
   "cell_type": "markdown",
   "id": "fe19e3d8-a1e7-42e6-a3d6-8d880882cf45",
   "metadata": {
    "tags": []
   },
   "source": [
    "#### 1.2.1 Parentheses <a id=\"parentheses\"></a>\n",
    "\n",
    "Parentheses can be used so that a long expression can span multiple lines, referred to [***implicit line joining***](https://docs.python.org/3/reference/lexical_analysis.html#implicit-line-joining)."
   ]
  },
  {
   "cell_type": "code",
   "execution_count": null,
   "id": "9e905122-a16f-4e7d-b049-14b36e8cbb85",
   "metadata": {
    "tags": []
   },
   "outputs": [],
   "source": [
    "# The expression on the right hand side of this assignment statement\n",
    "#     is meant to include the final term +1\n",
    "too_long = 1000 + 2000 + 3000 + 4000 + 5000 + 6000 + 7000 + 8000 + 9000 + 10000 + 11000 + 12000\n",
    "+ 1\n",
    "\n",
    "print(too_long)"
   ]
  },
  {
   "cell_type": "markdown",
   "id": "4a6aabc1-cc05-4b42-9d18-0a757e26f685",
   "metadata": {},
   "source": [
    "##### Exercise 1.2.1.1: Use parentheses for implicit line joining\n",
    "\n",
    "Should `too_long` end in three zeros? \n",
    "\n",
    "Fix it by putting a left parenthesis just before the `1000`, as in `(1000 +`, and a right parenthesis just after the `1`, as in `+ 1)`. Then run the cell again.\n",
    "\n",
    "You need to use parentheses to have an expression span multiple lines.†\n",
    "\n",
    "†or use line continuation by putting `\\` at the end of a line, referred to as [***explicit line joining***](https://docs.python.org/3/reference/lexical_analysis.html#explicit-line-joining)."
   ]
  },
  {
   "cell_type": "markdown",
   "id": "9559363d-ed76-4c4e-ad30-fc594ef61e8d",
   "metadata": {},
   "source": [
    "#### 1.2.2 Order of operations\n",
    "\n",
    "Parentheses can also be used to indicate [order of operations](https://docs.python.org/3/reference/expressions.html#operator-precedence), as in math."
   ]
  },
  {
   "cell_type": "code",
   "execution_count": null,
   "id": "fd195e3b-f3f0-490a-9ca8-aeb94349139a",
   "metadata": {
    "tags": []
   },
   "outputs": [],
   "source": [
    "2 * (3 + 5)"
   ]
  },
  {
   "cell_type": "markdown",
   "id": "78b5f2b1-fc3c-4efa-87f5-f11e25597499",
   "metadata": {},
   "source": [
    "### 1.3 Variables (names) <a id=\"variables\"></a>"
   ]
  },
  {
   "cell_type": "markdown",
   "id": "3151a832-107c-45eb-8068-3ecdd56fa3fb",
   "metadata": {},
   "source": [
    "#### 1.3.1 Assignment statements <a id=\"assignment\"></a>\n",
    "\n",
    "To create a variable ([***bind a name***](https://docs.python.org/3/reference/executionmodel.html#naming-and-binding) to an object), we use an [***assignment statement***](https://docs.python.org/3/reference/simple_stmts.html#assignment), which has the following syntax:\n",
    "```python\n",
    "some_name = expression\n",
    "```\n",
    "The variable `some_name` (called the target) can be any valid identifier (name) as described in the [naming rules](#naming_rules) below.  The `expression` can be any expression. The expression will be evaluated, and the resulting object will be stored in memory, and can later be referenced using the name.\n",
    "\n",
    "This is just one use of assignment statements. We'll see other assignment statements later, with multiple targets on the left side of the `=`, and with targets other than names.\n",
    "\n",
    "Let's look at some examples."
   ]
  },
  {
   "cell_type": "markdown",
   "id": "f5c43bf3-cb77-421d-b89d-47b1fc1c55dd",
   "metadata": {},
   "source": [
    "In each of the lines below, the expression on the right hand side is evaluated, and that ***object*** (in each of these cases, an integer) is stored, and can later be referenced by the ***name*** on the left hand side."
   ]
  },
  {
   "cell_type": "code",
   "execution_count": null,
   "id": "fd32b329-8676-4662-9a0b-9208d5a3c470",
   "metadata": {
    "tags": []
   },
   "outputs": [],
   "source": [
    "x = 2+3  # addition\n",
    "y = 2*3  # multiplication\n",
    "z = 2**3 # exponentiation"
   ]
  },
  {
   "cell_type": "markdown",
   "id": "23b21c53-952b-4129-a82f-76e8ae80e2c9",
   "metadata": {},
   "source": [
    "##### Exercise 1.3.1.1: Print multiple values\n",
    "\n",
    "The built-in [function](#functions) [***print***](https://docs.python.org/3/library/functions.html#print) takes an arbitrary number of [arguments](#functions), of any [type](#type)."
   ]
  },
  {
   "cell_type": "code",
   "execution_count": null,
   "id": "f82062a8-6759-4f3f-80e5-b90883ca727c",
   "metadata": {},
   "outputs": [],
   "source": [
    "# print the values of the variables\n",
    "print(x, y, z)"
   ]
  },
  {
   "cell_type": "markdown",
   "id": "783ecab5-27a5-478f-9d8d-8d790dfe17e0",
   "metadata": {},
   "source": [
    "#### 1.3.2 Naming rules <a id=\"naming_rules\"></a>\n",
    "\n",
    "Python names (also called [***identifiers***](https://docs.python.org/3/reference/lexical_analysis.html#identifiers)) can contain letters (a-z and A-Z), underscores, and (except for the first character) digits (0-9). Names are ***case sensitive***, as is the rest of the syntax. There is no limit to the length of a name. Names can also contain other characters, for the full specification, see [here](https://docs.python.org/3/reference/lexical_analysis.html#identifiers).\n",
    "\n",
    "There are some [***reserved words***](https://docs.python.org/3/reference/lexical_analysis.html#keywords) which ***cannot*** be used for names.\n",
    "\n",
    "It is also good practice not to use the names of [***built-in functions and types***](https://docs.python.org/3/library/functions.html), in case you go to use those later, forgetting that you overwrote them.\n",
    "\n",
    "There are also some [***naming conventions***](https://peps.python.org/pep-0008/#naming-conventions).\n",
    "\n",
    "It is best to use ***meaningful*** names whenever possible."
   ]
  },
  {
   "cell_type": "markdown",
   "id": "659579da-2e2d-4e63-9f54-a18bcbeefd21",
   "metadata": {},
   "source": [
    "Rather than name your variables like this:"
   ]
  },
  {
   "cell_type": "code",
   "execution_count": null,
   "id": "9cbfa95b-ca5e-4752-aa29-e2da7492c0dc",
   "metadata": {
    "tags": []
   },
   "outputs": [],
   "source": [
    "x = 10\n",
    "y = 113/355\n",
    "\n",
    "z = 3.14159 * x**2 * y\n",
    "\n",
    "round(z, 3)"
   ]
  },
  {
   "cell_type": "markdown",
   "id": "eb44f68e-ae88-444f-9604-6180c1512465",
   "metadata": {},
   "source": [
    "It is better to use meaningful names, since they are easier for humans to read, understand, and remember."
   ]
  },
  {
   "cell_type": "code",
   "execution_count": null,
   "id": "b2e25418-fa53-42f8-919f-7606cc517ad3",
   "metadata": {
    "tags": []
   },
   "outputs": [],
   "source": [
    "# Using meaningful names:\n",
    "radius = 10\n",
    "height = 113/355\n",
    "\n",
    "volume = 3.14159 * radius**2 * height\n",
    "\n",
    "# round the volume to three decimal places\n",
    "round(volume, 3)"
   ]
  },
  {
   "cell_type": "markdown",
   "id": "90fa81eb-f749-4bb7-9e06-4b577c4a073a",
   "metadata": {},
   "source": [
    "##### Exercise 1.3.2.1: use Python as a calculator"
   ]
  },
  {
   "cell_type": "code",
   "execution_count": null,
   "id": "af72849c-1ab3-45d5-8fed-13a194dd9ee8",
   "metadata": {
    "tags": []
   },
   "outputs": [],
   "source": [
    "# create two variables (i.e. name two values), and print an expression containing them\n"
   ]
  },
  {
   "cell_type": "markdown",
   "id": "47cd3fb5-ae05-44b3-9962-34e013d1073c",
   "metadata": {
    "tags": []
   },
   "source": [
    "##### Exercise 1.3.2.2: Who is max? <a id=\"max_who\"></a>\n",
    "\n",
    "The built-in [function](#functions) [***max***](https://docs.python.org/3/library/functions.html#max) returns the largest of its [arguments](#functions) (if it is given two or more arguments):"
   ]
  },
  {
   "cell_type": "code",
   "execution_count": null,
   "id": "34ae631d-eda6-4085-a0a9-48bd5e0e67bf",
   "metadata": {
    "tags": []
   },
   "outputs": [],
   "source": [
    "max(1, 2)"
   ]
  },
  {
   "cell_type": "markdown",
   "id": "2bde7479-d044-44ca-b4d6-ce58f2af0952",
   "metadata": {},
   "source": [
    "If we create a variable for the largest height our program allows, why might we not want to call it `max`?"
   ]
  },
  {
   "cell_type": "code",
   "execution_count": null,
   "id": "602b5f0f-77a1-4cd2-8377-77857446a302",
   "metadata": {
    "tags": []
   },
   "outputs": [],
   "source": [
    "# the maximum height allowed\n",
    "max = 25"
   ]
  },
  {
   "cell_type": "markdown",
   "id": "f7b5b337-cf5f-4756-ae1e-51267f90ba1e",
   "metadata": {},
   "source": [
    "What do you think will be the output of the following cell?  Run it to see if you are correct."
   ]
  },
  {
   "cell_type": "code",
   "execution_count": null,
   "id": "18531574-1e66-462f-bf06-3900d6fb3b05",
   "metadata": {
    "tags": []
   },
   "outputs": [],
   "source": [
    "max(1, 2)"
   ]
  },
  {
   "cell_type": "markdown",
   "id": "23a7d0c9-f81f-4877-b62c-ed483a873db9",
   "metadata": {
    "editable": true,
    "slideshow": {
     "slide_type": ""
    },
    "tags": []
   },
   "source": [
    "<details>\n",
    "    <summary><b>Solution</b></summary>\n",
    "    \n",
    "The built-in function `max` can be ***called*** with arguments, and will return the largest value.\n",
    "    \n",
    "However, we bound the name `max` to the value `25` in the assignment statement `max = 25`, so now the name `max` refers to the integer `25` instead of the built-in function.\n",
    "    \n",
    "An integer is not *callable* the way a function is, which is why we get a <span style=\"color:red\">***TypeError***</span>`: 'int' object is not callable`\n",
    "</details>"
   ]
  },
  {
   "cell_type": "markdown",
   "id": "ccc9e62e-a857-40e0-b688-f58323b5495c",
   "metadata": {},
   "source": [
    "To make the name refer back to the built-in function again, you can unbind the name from the integer (delete the name binding we created) by using the [del statement](#del_keyword) described below."
   ]
  },
  {
   "cell_type": "code",
   "execution_count": null,
   "id": "ad606975-b9b2-44e4-93a0-1266b7e57a6a",
   "metadata": {
    "tags": []
   },
   "outputs": [],
   "source": [
    "# remove the binding that we gave to the name `max`\n",
    "del max"
   ]
  },
  {
   "cell_type": "code",
   "execution_count": null,
   "id": "ce38612a-5872-4727-96e1-8e2897be69c0",
   "metadata": {
    "tags": []
   },
   "outputs": [],
   "source": [
    "# now `max` refers to the built-in function again\n",
    "max(1, 2)"
   ]
  },
  {
   "cell_type": "markdown",
   "id": "fa8910cc-5504-4fb4-9f3d-9af34785953a",
   "metadata": {
    "tags": []
   },
   "source": [
    "#### 1.3.3 Dynamic Typing <a id=\"dynamic_typing\"></a>\n",
    "\n",
    "Unlike many other languages, you do not need to \"declare\" a variable (name) before using it, and variables do not have types (objects do, more on that [later](#type)), so you can rebind a name to an object of a different type, as is done in the next cell.\n",
    "\n",
    "In is important to keep clear the distinction between ***names*** and ***objects***. When we execute the assignment statement `msg = 42` below, we ***rebind*** the name `msg` to the object `42` (an integer); we do ***not*** change the object `\"hello, world!\"` (a string). If that string has another name, then it is still accessible from that name."
   ]
  },
  {
   "cell_type": "code",
   "execution_count": null,
   "id": "b41f6e11-1a81-47e3-9ab5-cc5f23488704",
   "metadata": {
    "tags": []
   },
   "outputs": [],
   "source": [
    "# save message (which is a string) in a variable\n",
    "#     i.e. bind the name `msg` to the string object\n",
    "msg = \"hello, world!\"\n",
    "\n",
    "# bind another name to the same string\n",
    "msg2 = msg\n",
    "\n",
    "# the argument to the print function is the string object with name `msg`\n",
    "print(msg)"
   ]
  },
  {
   "cell_type": "code",
   "execution_count": null,
   "id": "f6b10559-a058-462b-b147-9a0e04b7fa97",
   "metadata": {
    "tags": []
   },
   "outputs": [],
   "source": [
    "# rebind the name `msg` so that it now refers to the integer 42\n",
    "msg = 42\n",
    "\n",
    "# the argument to the print function is the integer object with name `msg`\n",
    "print(msg)"
   ]
  },
  {
   "cell_type": "code",
   "execution_count": null,
   "id": "bcfb7f30-e002-41e1-b48b-08f129d39a1c",
   "metadata": {},
   "outputs": [],
   "source": [
    "# this name still refers to the string\n",
    "print(msg2)"
   ]
  },
  {
   "cell_type": "markdown",
   "id": "2389b2c5-b6df-499a-8e6c-6dbf4e8b6e05",
   "metadata": {
    "tags": []
   },
   "source": [
    "#### 1.3.4 Deleting references with `del` <a id=\"del_keyword\"></a>\n",
    "\n",
    "As we have already seen, you can use a ***[del statement](https://docs.python.org/3/reference/simple_stmts.html#del)*** to delete a reference (e.g. unbind a name).\n",
    "\n",
    "If the name was defined in multiple [namespaces](#namespace), like when we created our own binding for the built-in function `max`, then we can still use the name for those other references.\n",
    "\n",
    "However, if there are no more references, then using the name will raise a <span style=\"color:red\">***NameError***</span>."
   ]
  },
  {
   "cell_type": "code",
   "execution_count": null,
   "id": "748c5f23-44cd-4375-936c-24b88f0e3edf",
   "metadata": {
    "tags": []
   },
   "outputs": [],
   "source": [
    "# unbind the name `msg`\n",
    "del msg\n",
    "\n",
    "# using the unbound name `msg` raises a NameError\n",
    "print(msg)"
   ]
  },
  {
   "cell_type": "markdown",
   "id": "24323b8f-0037-403b-90e8-4714f1f1c648",
   "metadata": {},
   "source": [
    "Reading ***[Errors](https://docs.python.org/3/tutorial/errors.html#):***  Make sure to read the errors that are produced. Then, if you run into those errors again, you'll be more likely to remember what caused them, and thus how to fix them.\n",
    "\n",
    "The two most important lines of the error message to read are:\n",
    "1. The line at the very bottom, which usually states what kind of error it is (e.g. <span style=\"color:red\">***NameError***</span>), and other important details, like in this case the name that caused the error.\n",
    "2. The line that shows which line of code (with line number) caused the error."
   ]
  },
  {
   "cell_type": "markdown",
   "id": "48347a63-0487-4909-8676-681a6c73e813",
   "metadata": {},
   "source": [
    "##### Exercise 1.3.4.1: a string by another name\n",
    "\n",
    "Predict the output of the following cell; then run it to see if you are correct."
   ]
  },
  {
   "cell_type": "code",
   "execution_count": null,
   "id": "a6b10fac-0fb8-4d31-b4af-9fea7d2164cd",
   "metadata": {
    "tags": []
   },
   "outputs": [],
   "source": [
    "a = \"another message\"\n",
    "b = a\n",
    "del a\n",
    "\n",
    "print(b)"
   ]
  },
  {
   "cell_type": "markdown",
   "id": "18d14df2-938c-4a68-9613-1eadf1d09ee4",
   "metadata": {},
   "source": [
    "<details>\n",
    "    <summary><b>Remember</b></summary>\n",
    "    \n",
    "`del` deletes *references* to objects (i.e. unbinds names); it does ***not*** delete the objects.\n",
    "\n",
    "If the object has other references, those can still be used without raising an error.\n",
    "    \n",
    "If an object has no remaining references, Python will remove it from memory (called \"garbage collection\"). One of the eases of Python is that it does this memory management for you.\n",
    "</details>"
   ]
  },
  {
   "cell_type": "markdown",
   "id": "3254b044-3b80-4828-9781-41e833e3353d",
   "metadata": {
    "tags": []
   },
   "source": [
    "### 1.4 Import statements <a id=\"import_keyword\"></a>\n",
    "\n",
    "Besides the built-in functions in Python, there are many modules that can be ***[imported](https://docs.python.org/3/reference/simple_stmts.html#the-import-statement)*** for increased functionality, using the syntax:\n",
    "```python\n",
    "import module_name\n",
    "```\n",
    "After importing the module, you can use variables defined in the module by using the \"dot\" notation:\n",
    "```python\n",
    "module_name.variable_name\n",
    "```\n",
    "If the variable refers to a [function](#functions), then you can [***call***](https://docs.python.org/3/reference/expressions.html#calls) the function using parentheses, as in:\n",
    "```python\n",
    "module_name.function_name(arguments)\n",
    "```\n",
    "You only need to import a module one time: before you use the name of the module (very similar to creating a variable).  If you try to use the module name before you import the module, it will raise a <span style=\"color:red\">***NameError***</span>."
   ]
  },
  {
   "cell_type": "markdown",
   "id": "f24a92b8-ad76-4769-8313-840d4d65d716",
   "metadata": {
    "tags": []
   },
   "source": [
    "#### 1.4.1 Importing modules <a id=\"import_module\"></a>"
   ]
  },
  {
   "cell_type": "code",
   "execution_count": null,
   "id": "d8312e40-a8d0-4db3-83bf-4b736ea04d5b",
   "metadata": {
    "tags": []
   },
   "outputs": [],
   "source": [
    "# import the math module\n",
    "import math\n",
    "\n",
    "# print the factorial of 4\n",
    "print(\"4! =\", math.factorial(4))\n",
    "\n",
    "# print the value of pi\n",
    "print(\"π =\", math.pi)"
   ]
  },
  {
   "cell_type": "markdown",
   "id": "aab5abe6-fc19-4cbd-b610-7a52b8896033",
   "metadata": {},
   "source": [
    "**Important note:**  the `math` module is part of the [***Python Standard Library***](https://docs.python.org/3/library/index.html), so you can import it without worrying about whether it is installed.  There are many very useful modules that are not part of the Python Standard Library. Those need to be installed before they can be imported. If you are using a virtual environment, those modules need to be in that environment to be imported."
   ]
  },
  {
   "cell_type": "markdown",
   "id": "d12b3245-05f8-4b33-ab7e-d9b21577ff47",
   "metadata": {
    "tags": []
   },
   "source": [
    "#### 1.4.2 Importing functions from a module <a id=\"from_keyword\"></a>\n",
    "\n",
    "If you only want one or a few functions from a module, you can import those using the following syntax:\n",
    "```python\n",
    "from module_name import function1, function2\n",
    "```\n",
    "Then, you do not need to use the \"dot\" notation, e.g. `module_name.function1()`, but can rather just call the function using `function1()`."
   ]
  },
  {
   "cell_type": "code",
   "execution_count": null,
   "id": "72244da9-47f8-4086-88c2-5c4758ae95ad",
   "metadata": {},
   "outputs": [],
   "source": [
    "# Import the factorial and sqrt functions from the math module\n",
    "from math import factorial, sqrt\n",
    "\n",
    "# Now you can call the functions without the 'dot' notation\n",
    "a = factorial(4)\n",
    "b = sqrt(4)\n",
    "\n",
    "print(\"4! =\", a, \"and the square root of 4 is\", b)"
   ]
  },
  {
   "cell_type": "markdown",
   "id": "d1f490fc-0cf7-4eec-bda8-1b11e2aceb32",
   "metadata": {
    "tags": []
   },
   "source": [
    "#### 1.4.3 Creating an alias during import <a id=\"as_keyword\"></a>\n",
    "\n",
    "You can also make abbreviations using the keyword [***as***](https://docs.python.org/3/reference/simple_stmts.html#import).\n",
    "\n",
    "The following imports the module `module_name` and binds the name `mn` to that module:\n",
    "```python\n",
    "import module_name as mn\n",
    "```\n",
    "\n",
    "The following imports the function `function1` from the module `module_name` and binds the name `fun1` to that function:\n",
    "```python\n",
    "from module_name import function1 as fun1\n",
    "```"
   ]
  },
  {
   "cell_type": "code",
   "execution_count": null,
   "id": "b1fe369a-2160-403a-b983-18165955e0e6",
   "metadata": {},
   "outputs": [],
   "source": [
    "# import the factorial function from the math module, and name it `fact`\n",
    "from math import factorial as fact\n",
    "\n",
    "# Now the name `fact` refers to the factorial function from the math module\n",
    "fact(4)"
   ]
  },
  {
   "cell_type": "markdown",
   "id": "37f9496c-5d63-42f5-8d5d-ffcf129426e5",
   "metadata": {},
   "source": [
    "##### Exercise 1.4.3.1: import\n",
    "\n",
    "Import the `randint` function from the `random` module (part of the Python Standard Library), and call `randint(1,100)` to choose a random integer from 1 to 100 (inclusive)."
   ]
  },
  {
   "cell_type": "code",
   "execution_count": null,
   "id": "dee9aec6-6a19-41ed-8550-d1d9fb83662d",
   "metadata": {
    "tags": []
   },
   "outputs": [],
   "source": [
    "# Put your code below\n"
   ]
  },
  {
   "cell_type": "markdown",
   "id": "ae40e711-5f32-49de-8df1-f139c7643977",
   "metadata": {
    "tags": []
   },
   "source": [
    "<details>\n",
    "    <summary><b>Solution</b></summary>\n",
    "    \n",
    "```python\n",
    "from random import randint\n",
    "randint(1,100)\n",
    "```\n",
    "</details>"
   ]
  },
  {
   "cell_type": "markdown",
   "id": "ee7f17ed-8b3c-40e2-a174-3155c7c36b05",
   "metadata": {
    "tags": []
   },
   "source": [
    "### 1.5 Some of the built-in [data types](https://docs.python.org/3/reference/datamodel.html#the-standard-type-hierarchy) <a id=\"builtin_types\"></a>\n",
    "\n",
    "When working with data, it is important to know what [***type***](https://docs.python.org/3/library/functions.html#type) of data it is, because the type of an object usually indicates which [attributes](#attributes) it has, and what you can do with it (e.g. whether or not it makes sense as the argument passed to some parameter in a [function](#functions)). In this section, we will become familiar with some of the built-in data types in Python."
   ]
  },
  {
   "cell_type": "markdown",
   "id": "f5d175ca-7495-4c73-8f82-9209537338bf",
   "metadata": {
    "tags": []
   },
   "source": [
    "#### 1.5.1 Numbers <a id=\"numbers\"></a>\n",
    "\n",
    "The three main [***numeric types***](https://docs.python.org/3/library/stdtypes.html#numeric-types-int-float-complex) in Python are integers, real numbers (called floats), and complex numbers."
   ]
  },
  {
   "cell_type": "markdown",
   "id": "01465540-74d8-4284-b8fa-81c61c44d69d",
   "metadata": {},
   "source": [
    "##### 1.5.1.1 Integers <a id=\"integers\"></a>\n",
    "\n",
    "The built-in **[int](https://docs.python.org/3/library/functions.html#int)** type can represent arbitrarily large integers ***exactly***."
   ]
  },
  {
   "cell_type": "code",
   "execution_count": null,
   "id": "4b893fc3-91fc-40f5-bb70-dd7aaff49768",
   "metadata": {
    "tags": []
   },
   "outputs": [],
   "source": [
    "# a famous constant\n",
    "long = 602214076000000000000000\n",
    "\n",
    "# print a string representation of the value of the object named `long`\n",
    "print(long)\n",
    "\n",
    "# print a string representation of the `type` of the object named `long`\n",
    "print(type(long))"
   ]
  },
  {
   "cell_type": "markdown",
   "id": "44d98a29-4045-49f9-b258-744780f73d38",
   "metadata": {},
   "source": [
    "##### 1.5.1.2 Floats <a id=\"floats\"></a>\n",
    "\n",
    "The built-in **[float](https://docs.python.org/3/library/functions.html#float)** type can represent positive or negative real numbers (most are only represented ***approximately***)."
   ]
  },
  {
   "cell_type": "code",
   "execution_count": null,
   "id": "96dc9794-2d5a-4448-a959-702567cd6a91",
   "metadata": {
    "tags": []
   },
   "outputs": [],
   "source": [
    "# a more famous constant, except the real pi goes on forever\n",
    "pi = 3.14159265358979323846264\n",
    "print(pi)\n",
    "print(type(pi))"
   ]
  },
  {
   "cell_type": "markdown",
   "id": "b6dc02b8-a3c4-4fe8-9408-63ace49b2e52",
   "metadata": {},
   "source": [
    "Notice that the float did not retain the full precision of the digits typed. Python's floats are \"double-precision,\" (64-bit) which is about 15-17 decimal digits of precision. Some information about floats is specific to your computer, and can be found by using the  **[sys](https://docs.python.org/3/library/sys.html)** module (part of the Python Standard Library):"
   ]
  },
  {
   "cell_type": "code",
   "execution_count": null,
   "id": "4ec41bb3-d3e5-4d25-83e7-cca8b02cdfb4",
   "metadata": {
    "tags": []
   },
   "outputs": [],
   "source": [
    "import sys\n",
    "\n",
    "# largest finite float\n",
    "print(\"The largest finite float is\", sys.float_info.max)\n",
    "\n",
    "# smallest positive float\n",
    "print(\"The smallest positive float is\", sys.float_info.min)"
   ]
  },
  {
   "cell_type": "markdown",
   "id": "d6e3c38c-33bc-4ac0-94a6-69e6a817b74b",
   "metadata": {},
   "source": [
    "##### 1.5.1.3 Arithmetic of integers and floats <a id=\"arithmetic\"></a>\n",
    "\n",
    "You can use integers and floats in the same expressions. You can look up the arithmetic operations [***here***](https://docs.python.org/3/reference/expressions.html#binary-arithmetic-operations)."
   ]
  },
  {
   "cell_type": "code",
   "execution_count": null,
   "id": "b636380f-7ddb-48b8-b4ec-72ec874d1e54",
   "metadata": {
    "tags": []
   },
   "outputs": [],
   "source": [
    "# arithmetic operators\n",
    "print(2 + 3.5) # addition\n",
    "print(2 - 3.5) # subtraction\n",
    "print(2 * 3.5) # multiplication\n",
    "print(2 / 3.5) # division\n",
    "\n",
    "print(7 // 2) # floor division\n",
    "print(7 % 2) # modulo (i.e. remainder)\n",
    "print(7 ** 2) # exponentiation"
   ]
  },
  {
   "cell_type": "markdown",
   "id": "aa7d9daa-f690-480e-a725-146249ad9477",
   "metadata": {},
   "source": [
    "##### 1.5.1.4 Augmented assignment <a id=\"augmented_assignment\"></a>\n",
    "\n",
    "If you want to update the value of a variable using the arithmetic operations above, you can perform the operation and bind the variable to the new value in an [***augmented assignment statement***](https://docs.python.org/3/reference/simple_stmts.html#augmented-assignment-statement).\n",
    "\n",
    "For example, if `x = 5`, then you can double `x` using:\n",
    "```python\n",
    "x *= 2\n",
    "```\n",
    "This syntax multiplies `x` by `2`, then rebinds the name `x` to that value (i.e. `10`).\n",
    "\n",
    "This accomplishes the same thing as `x = x*2`, with slightly less typing.  We will see other uses of augmented assignment in which they are more useful than saving a few  keystrokes.\n",
    "\n",
    "Let's look at more examples:"
   ]
  },
  {
   "cell_type": "code",
   "execution_count": null,
   "id": "eaae940c-d0ea-4107-b5c1-72d5ea9d09ae",
   "metadata": {
    "tags": []
   },
   "outputs": [],
   "source": [
    "x = 4\n",
    "print(x)\n",
    "x += 8 # addition\n",
    "print(x)\n",
    "x -= 3 # subtraction\n",
    "print(x)\n",
    "x *= 8 # multiplication\n",
    "print(x)\n",
    "x /= 3 # division\n",
    "print(x)\n",
    "x //= 3 # floor division\n",
    "print(x)\n",
    "x %= 5 # modulo (i.e. remainder)\n",
    "print(x)\n",
    "x **= 2 # exponentiation\n",
    "print(x)"
   ]
  },
  {
   "cell_type": "markdown",
   "id": "0b699242-9411-4bae-84bb-bfa2a176be13",
   "metadata": {},
   "source": [
    "##### 1.5.1.5 Value <a id=\"value\"></a>\n",
    "\n",
    "Every Python object has a [***value***](https://docs.python.org/3/reference/expressions.html#value-comparisons). To test if **two** objects have the same value, you use ***two*** equal signs:\n",
    "```python\n",
    "a == b\n",
    "```\n",
    "The above expression will evaluate to `True` if the value of `a` equals the value of `b`, and evaluate to `False` otherwise.\n",
    "\n",
    "Any two objects can be evaluated for equality without raising an error, even if they are different types.  Integers have the same value as the corresponding floats, e.g. the integer `1` has the same value as the float `1.0`."
   ]
  },
  {
   "cell_type": "code",
   "execution_count": null,
   "id": "785e9fe0-3275-4c17-b4db-daa031695ec0",
   "metadata": {
    "tags": []
   },
   "outputs": [],
   "source": [
    "# checking equality, to see if `1` and `1.0` have the same value.\n",
    "print(1 == 1.0)"
   ]
  },
  {
   "cell_type": "markdown",
   "id": "8a99de9b-0c29-44dd-b2c0-58cadf0bf580",
   "metadata": {},
   "source": [
    "**Important tip** Note that the **double** equal sign is a *question* to Python asking, \"These two objects have the same value?\" (which Python answers with `True` or `False`) whereas a **single** equal sign is a *declarative statement* to Python saying, \"Make this name refer to this object.\""
   ]
  },
  {
   "cell_type": "markdown",
   "id": "9cb5d389-b3d0-4ab7-be70-131042fca4cf",
   "metadata": {},
   "source": [
    "##### Exercise 1.5.1.5: Checking Equality\n",
    "\n",
    "Predict the output of the following cell, then run it to see if you were right."
   ]
  },
  {
   "cell_type": "code",
   "execution_count": null,
   "id": "b82e5cd6-7576-4511-a9ad-6e64bfd6bc32",
   "metadata": {
    "tags": []
   },
   "outputs": [],
   "source": [
    "# checking equality\n",
    "print(3 = 3.14)"
   ]
  },
  {
   "cell_type": "markdown",
   "id": "383f6544-671d-46ed-9295-efe759c5c628",
   "metadata": {
    "tags": []
   },
   "source": [
    "<details>\n",
    "    <summary><b>Remember</b></summary>\n",
    "    \n",
    "To check if ***two*** objects are equal (have the same value), use ***two*** equal signs.\n",
    "    \n",
    "To bind ***one*** name to ***one*** object, use ***one*** equal sign.\n",
    "    \n",
    "The error here is because `3` is not a [valid name](#naming_rules).\n",
    "</details>"
   ]
  },
  {
   "cell_type": "markdown",
   "id": "03447278-c672-4fa8-8698-fdd9517ff8e9",
   "metadata": {},
   "source": [
    "##### 1.5.1.6 Comparison Operators <a id=\"comparison\"></a>\n",
    "\n",
    "There are also the following other [***comparison operators***](https://docs.python.org/3/reference/expressions.html#value-comparisons):\n",
    "  * `a != b` (`True` if `a` is not equal to `b`)\n",
    "  * `a  < b` (`True` if `a` is less than `b`)\n",
    "  * `a <= b` (`True` if `a` is less than or equal to `b`)\n",
    "  * `a  > b` (`True` if `a` is greater than `b`)\n",
    "  * `a >= b` (`True` if `a` is greater than or equal to `b`)\n",
    "  \n",
    "Every two objects can have their values tested for inequality.  `a != b` should be the opposite of `a == b`.\n",
    "\n",
    "Not every two objects can have their values compared for order. If you try to evaluate `\"cat\" <= 7`, you will get a <span style=\"color:red\">***TypeError***</span>.\n",
    "\n",
    "You can also read more about comparison methods [***here***](https://docs.python.org/3/reference/datamodel.html#object.__lt__)."
   ]
  },
  {
   "cell_type": "markdown",
   "id": "c52e7159-3564-4326-93e5-9369c0bd46d2",
   "metadata": {},
   "source": [
    "<a id=\"nan_comparison\"></a>\n",
    "***Important tip*** If you work in data analysis, and deal with [***NaNs***](https://docs.python.org/3/library/math.html#math.nan) (not-a-number), then you should be careful using comparison operators with NaNs, as the following example shows.  You should consider using other functions such as [***isnan***](https://docs.python.org/3/library/math.html#math.isnan) from the math module. "
   ]
  },
  {
   "cell_type": "code",
   "execution_count": null,
   "id": "dd5ba036-cd18-478c-b93f-4cc08c26abb2",
   "metadata": {
    "tags": []
   },
   "outputs": [],
   "source": [
    "x = float('nan')\n",
    "print(x == float('nan'))"
   ]
  },
  {
   "cell_type": "code",
   "execution_count": null,
   "id": "28ce2422-cedc-457c-9dac-c47a57a8f2bf",
   "metadata": {},
   "outputs": [],
   "source": [
    "# we already imported math above\n",
    "math.isnan(x)"
   ]
  },
  {
   "cell_type": "markdown",
   "id": "3c949135-7db9-4bd2-b7e1-11d73b2a8a7c",
   "metadata": {},
   "source": [
    "##### Exercise 1.5.1.6: Comparing values\n",
    "\n",
    "Predict the output of the following cells, then run them to see if you were right."
   ]
  },
  {
   "cell_type": "code",
   "execution_count": null,
   "id": "0f1c5f33-0a62-4c9c-bcf3-88972c9139eb",
   "metadata": {
    "tags": []
   },
   "outputs": [],
   "source": [
    "print(1 != 1.0) # inequality (i.e. DIFFERENT values)\n",
    "print(1 < 1.0) # \"less than\"\n",
    "print(1 <= 1.0) # \"less than or equal to\"\n",
    "print(1 > 1.0) #  \"great than\"\n",
    "print(1 >= 1.0) # \"greater than or equal to\""
   ]
  },
  {
   "cell_type": "code",
   "execution_count": null,
   "id": "f5183279-86f2-444c-a464-72f74237992e",
   "metadata": {
    "tags": []
   },
   "outputs": [],
   "source": [
    "print(1 != \"dog\") # inequality (i.e. DIFFERENT values)"
   ]
  },
  {
   "cell_type": "code",
   "execution_count": null,
   "id": "3818f057-4d25-4e60-9f5b-28685487cc90",
   "metadata": {
    "tags": []
   },
   "outputs": [],
   "source": [
    "print(1 < \"dog\") # \"less than\""
   ]
  },
  {
   "cell_type": "code",
   "execution_count": null,
   "id": "62a963df-4669-43a7-8f1f-dac70ba0eac0",
   "metadata": {
    "tags": []
   },
   "outputs": [],
   "source": [
    "x = float('nan')\n",
    "print(x == x) # \"equality\""
   ]
  },
  {
   "cell_type": "code",
   "execution_count": null,
   "id": "2a0cf46c-f69a-4b24-bad4-250508139d88",
   "metadata": {},
   "outputs": [],
   "source": [
    "print(x < x) # \"less than\""
   ]
  },
  {
   "cell_type": "code",
   "execution_count": null,
   "id": "99382585-3d46-418e-bc20-48f40fb0a36c",
   "metadata": {},
   "outputs": [],
   "source": [
    "print(x > x) # \"greater than\""
   ]
  },
  {
   "cell_type": "code",
   "execution_count": null,
   "id": "33b75527-bd72-44e3-9983-7df4b15d0735",
   "metadata": {
    "tags": []
   },
   "outputs": [],
   "source": [
    "print(x != x) # \"inequality\""
   ]
  },
  {
   "cell_type": "markdown",
   "id": "ed7450f6-c204-401b-aad0-142f421ed3fd",
   "metadata": {
    "tags": []
   },
   "source": [
    "<details>\n",
    "    <summary><b>Solutions</b></summary>\n",
    "    \n",
    "`1` does not have the same value as `\"dog\"`, so the comparison `1 != \"dog\"` evaluates to `False`\n",
    "    \n",
    "Integers and strings do not support order comparison, so `1 < \"dog\"` raises a <span style=\"color:red\">***TypeError***</span>.\n",
    "    \n",
    "The `float('nan')` is not equal to anything, even itself!  Be very careful comparing values if some may be NaNs!\n",
    "</details>"
   ]
  },
  {
   "cell_type": "markdown",
   "id": "3f3ad636-dfc8-4193-81cf-40f8f1403060",
   "metadata": {},
   "source": [
    "##### 1.5.1.7 Chaining Comparisons <a id=\"chained_comparisons\"></a>\n",
    "\n",
    "You can [***chain comparisons***](https://docs.python.org/3/reference/expressions.html#comparisons) in a single expressions using the following syntax:\n",
    "```python\n",
    "x1 op1 x2 op2 x3 ... xN\n",
    "```\n",
    "Here the `x1, x2, ...` are variables and the `op1, op2, ...` are comparison operators. The `x` could also be any expressions that evaluate to values that can be compared. However, depending on the [order of precedence](https://docs.python.org/3/reference/expressions.html#operator-precedence), the expressions may need surrounded by parentheses.\n",
    "\n",
    "The overall expression yields `True` if ***all*** of the comparisons are `True`, and `False` if any of the comparisons are `False`. The chain ***short-circuits*** as soon as the first comparison (from left to right) yields `False`, meaning that none of the other expressions are evaluated.\n",
    "\n",
    "Let's look at some examples."
   ]
  },
  {
   "cell_type": "markdown",
   "id": "65739e1a-4524-4c03-bb8f-87482c3c244a",
   "metadata": {},
   "source": [
    "##### Exercise 1.5.1.7: Chained comparisons\n",
    "\n",
    "Predict the output of the following cells, then run them to see if you were right."
   ]
  },
  {
   "cell_type": "code",
   "execution_count": null,
   "id": "60394f10-6c38-4920-995b-04941b6ced07",
   "metadata": {},
   "outputs": [],
   "source": [
    "0 < 1 < 2 < 3 < 4"
   ]
  },
  {
   "cell_type": "code",
   "execution_count": null,
   "id": "c8edd54e-b81d-4e8c-b7f4-294c3c5bc2bc",
   "metadata": {},
   "outputs": [],
   "source": [
    "1 < 5 > 3 # ugly, but..."
   ]
  },
  {
   "cell_type": "code",
   "execution_count": null,
   "id": "1905046f-10c3-4d79-af69-eb93bb5cfba3",
   "metadata": {
    "tags": []
   },
   "outputs": [],
   "source": [
    "3/2 < 2/1 < 1/0"
   ]
  },
  {
   "cell_type": "code",
   "execution_count": null,
   "id": "5ffa1ae0-d703-45a7-92b6-68f334670cf5",
   "metadata": {
    "tags": []
   },
   "outputs": [],
   "source": [
    "3/2 > 2/1 > 1/0"
   ]
  },
  {
   "cell_type": "code",
   "execution_count": null,
   "id": "3cf0c2d0-1cee-4300-9e4a-909a114ba5fc",
   "metadata": {
    "tags": []
   },
   "outputs": [],
   "source": [
    "print(0 != 1 != \"dog\")"
   ]
  },
  {
   "cell_type": "code",
   "execution_count": null,
   "id": "f7537570-fa89-4b13-9774-8cde26f98206",
   "metadata": {
    "tags": []
   },
   "outputs": [],
   "source": [
    "print(1 = 1 != \"cat\")"
   ]
  },
  {
   "cell_type": "code",
   "execution_count": null,
   "id": "ffa57698-362a-48d9-83ee-ccce95ba99b3",
   "metadata": {
    "tags": []
   },
   "outputs": [],
   "source": [
    "print(1 > 1 < \"dog\")"
   ]
  },
  {
   "cell_type": "markdown",
   "id": "60a35063-0a7f-484d-bbb1-89e6c82b335f",
   "metadata": {
    "tags": []
   },
   "source": [
    "<details>\n",
    "    <summary><b>Solutions</b></summary>\n",
    "    \n",
    "All of the comparisons in `0 < 1 < 2 < 3 < 4` are `True`, so the expression is `True`.\n",
    "    \n",
    "`1 < 5` evaluates to `True` and `5 > 3` evaluates to `True`, so `1 < 5 > 3` evaluates to `True` (even though it looks ugly).\n",
    "    \n",
    "`3/2 < 2/1` evaluates to `True`, but `2/1 < 1/0` raises a <span style=\"color:red\">***ZeroDivisionError***</span>. You just created a black hole somewhere in the universe!\n",
    "\n",
    "`3/2 > 2/1` evaluates to `False`, so the expression short-circuits to `False` ***without*** trying to evaluate `1/0`. You're safe this time!\n",
    "\n",
    "`0 != 1` evaluates to `True` and `1 != \"dog\"` evaluates to `True`, so `0 != 1 != \"dog\"` evaluates to `True`.\n",
    "\n",
    "`1 = 1` is ***not*** a comparison!  This raises a <span style=\"color:red\">***SyntaxError***</span>.\n",
    "\n",
    "`1 > 1` is `False`, so the expression short-circuits to `False` ***without*** trying to evaluate `1 < \"dog\"`, which would have raised a <span style=\"color:red\">***TypeError***</span>.\n",
    "</details>"
   ]
  },
  {
   "cell_type": "markdown",
   "id": "f8dc8746-86b8-4b0a-8b19-77cd01875c1f",
   "metadata": {},
   "source": [
    "##### 1.5.1.8 Floating point precision <a id=\"float_precision\"></a>\n",
    "\n",
    "Floats may not have the ***exact*** value displayed. They use a fixed number of bits to store a value."
   ]
  },
  {
   "cell_type": "code",
   "execution_count": null,
   "id": "db450abd-6fb7-40cf-889f-ca89f51fee7b",
   "metadata": {
    "tags": []
   },
   "outputs": [],
   "source": [
    "# beware of floating point precision\n",
    "x = 0.3 + 0.3 + 0.3 + 0.1\n",
    "y = 1\n",
    "print(x == y)"
   ]
  },
  {
   "cell_type": "markdown",
   "id": "cc834489-7ce3-4188-989a-462e02b768ae",
   "metadata": {},
   "source": [
    "##### Exercise 1.5.1.8: Floating point limitations\n",
    "\n",
    "Investigate by running the next cell."
   ]
  },
  {
   "cell_type": "code",
   "execution_count": null,
   "id": "fd9f2a61-374a-48da-93c9-d4710757a23d",
   "metadata": {},
   "outputs": [],
   "source": [
    "# print x and y to see their values\n",
    "print(\"x =\", x)\n",
    "print(\"y =\", y)"
   ]
  },
  {
   "cell_type": "markdown",
   "id": "a9cec884-fed0-469b-97dd-d73ceef6f12e",
   "metadata": {},
   "source": [
    "This is one of the [***issues***](https://docs.python.org/3/tutorial/floatingpoint.html) with using floats.  Rather than check for exact equality of two floats, it may be better to check that they are [***close***](https://docs.python.org/3/library/math.html#math.isclose) (within some tolerance).\n",
    "\n",
    "<span style=\"background:yellow\">***Note***: this is a very useful debugging technique in general: ***print*** the values that you are using, to make sure they are what you think they are!</span>"
   ]
  },
  {
   "cell_type": "code",
   "execution_count": null,
   "id": "6ff086cf-9155-4ea0-8038-7feb4bd5c2c1",
   "metadata": {},
   "outputs": [],
   "source": [
    "# we already imported math above\n",
    "math.isclose(x, y)"
   ]
  },
  {
   "cell_type": "markdown",
   "id": "4df01edc-35d4-4ef0-b027-680ca78c8121",
   "metadata": {},
   "source": [
    "#### 1.5.2 Boolean values <a id=\"bool\"></a>\n",
    "\n",
    "There are two objects of type [***bool***](https://docs.python.org/3/library/functions.html#bool), referenced by the built-in [***constants***](https://docs.python.org/3/library/constants.html) `True` and `False`, which are case sensitive (like all names).\n",
    "\n",
    "We have already seen that comparisons evaluate to these values. They are very important to computer programming, such as in the conditional logic used to control the flow of a program, like the [***if statement***](#if_keyword) below (which will be explained in more detail later)."
   ]
  },
  {
   "cell_type": "code",
   "execution_count": null,
   "id": "bbc56082-d564-4c1d-bb6b-0db924cf6220",
   "metadata": {
    "tags": []
   },
   "outputs": [],
   "source": [
    "# bind the name `answer` to the built-in constant `True`\n",
    "answer = True\n",
    "\n",
    "# This is an \"if statement\", which are explained in more detail later\n",
    "if answer:\n",
    "    # this statement is executed when `answer` is True\n",
    "    print(\"It is True!\")\n",
    "else:\n",
    "    # this statement is executed when `answer` is False\n",
    "    print(\"It is False!\")\n",
    "    \n",
    "print(answer)\n",
    "print(type(answer))"
   ]
  },
  {
   "cell_type": "markdown",
   "id": "b05d3e1b-9cd8-42e0-8409-f48cc6ba595d",
   "metadata": {},
   "source": [
    "##### Exercise 1.5.2.1: Boolean logic\n",
    "\n",
    "Change the value of `answer` (in the ***code cell*** above) to `False`, and run the cell again"
   ]
  },
  {
   "cell_type": "markdown",
   "id": "055d0fe1-55b1-4c6c-aee1-ec012788e60e",
   "metadata": {},
   "source": [
    "#### 1.5.2.1 `bool` is a subclass of `int` <a id=\"bool_subclass\"></a>\n",
    "\n",
    "Technically the `bool` class is a subclass of `int`, with `True` having the same value as `1` and `False` having the same value as `0`."
   ]
  },
  {
   "cell_type": "code",
   "execution_count": null,
   "id": "8bba983a-1fb2-42c1-81e3-b758ab41b507",
   "metadata": {
    "tags": []
   },
   "outputs": [],
   "source": [
    "# Check that `True` and `1` have the same value\n",
    "print(True == 1)\n",
    "\n",
    "# Check that `False` and `0` have the same value\n",
    "print(False == 0)"
   ]
  },
  {
   "cell_type": "code",
   "execution_count": null,
   "id": "e37a1d5e-7f66-41b0-b253-748dd39164ac",
   "metadata": {
    "tags": []
   },
   "outputs": [],
   "source": [
    "# Just to be weird\n",
    "False**False"
   ]
  },
  {
   "cell_type": "markdown",
   "id": "ecd4894d-d4b8-49c6-a199-79aae24dbc00",
   "metadata": {},
   "source": [
    "#### 1.5.3 NoneType <a id=\"None\"></a>\n",
    "\n",
    "There is a single object of type [***NoneType***](https://docs.python.org/3/library/constants.html#None), the built-in constant `None`, which is often used to denote a missing value."
   ]
  },
  {
   "cell_type": "code",
   "execution_count": null,
   "id": "a2df9ac2-cd4b-478e-8755-ce50b03e37b5",
   "metadata": {
    "tags": []
   },
   "outputs": [],
   "source": [
    "# Is the middle name unknown, or is it known that the person doesn't have one?\n",
    "middle_name = None\n",
    "print(middle_name)\n",
    "print(type(middle_name))"
   ]
  },
  {
   "cell_type": "markdown",
   "id": "84d716e4-c1eb-49b6-80db-a40a6e097e45",
   "metadata": {},
   "source": [
    "##### Exercise 1.5.3.1: truth value of `None`\n",
    "\n",
    "Change the value of `answer` (in the ***code cell in 1.5.2***) to `None`, and run the cell again"
   ]
  },
  {
   "cell_type": "markdown",
   "id": "c7808c49-28d5-46b2-bce0-08065d63d19e",
   "metadata": {},
   "source": [
    "Is `None` ***truthy*** or ***falsy***?\n",
    "\n",
    "***ANY*** Python object can be used for Boolean logic, such as in an `if` statement, not just objects of type `bool`.  Almost all values behave the same as `True` (referred to by some as *truthy*) in the Boolean logic, except for the objects listed here: [truth values](#truth_value)."
   ]
  },
  {
   "cell_type": "markdown",
   "id": "160c4da1-c7c1-478e-8c27-b35ffe8e1173",
   "metadata": {},
   "source": [
    "#### 1.5.4 Text (strings) <a id=\"strings_intro\"></a>\n",
    "\n",
    "Python [***strings***](https://docs.python.org/3/tutorial/introduction.html#text) are  immutable sequences of unicode code points.  The type of a string is [***str***](https://docs.python.org/3/library/stdtypes.html#textseq). There is no separate character type.\n",
    "\n",
    "Being [***immutable***](https://docs.python.org/3/reference/datamodel.html#immutable-sequences) means that a string ***cannot*** be changed after it is created. However, you can create a *new* string that is based on the old string (e.g. a capitalized version).\n",
    "\n",
    "This section covers the basics of strings. They \"will be\" covered in much more depth [***eventually***](#strings_more)."
   ]
  },
  {
   "cell_type": "markdown",
   "id": "cfd209b1-cf18-4210-a99a-7002dfd74873",
   "metadata": {
    "tags": []
   },
   "source": [
    "##### 1.5.4.1 Double or Single quotes <a id=\"quotes\"></a>\n",
    "\n",
    "Strings can be surrounded by either double quotes, as in `\"This is a string.\"`, or single quotes, as in `'This is a string.'`  There is no distinction between the two: both have the same value and the same type.\n",
    "\n",
    "However, strings cannot contain the type of quotes they are surrounded by, unless those characters are [***escaped***](https://docs.python.org/3/reference/lexical_analysis.html#escape-sequences).\n",
    "\n",
    "The built-in function [**len( )**](https://docs.python.org/3/library/functions.html#len) will return the length of the string, which is the number of [***unicode code points***](https://docs.python.org/3/howto/unicode.html#comparing-strings), not necessarily the number of characters (although they are usually the same)."
   ]
  },
  {
   "cell_type": "code",
   "execution_count": null,
   "id": "c0e503d9-cc55-4b93-99e8-156d1df90296",
   "metadata": {
    "tags": []
   },
   "outputs": [],
   "source": [
    "# These two strings have the same value\n",
    "print(\"This is a string.\" == 'This is a string.')\n",
    "\n",
    "# and the same type\n",
    "print(type(\"This is a string.\") == type('This is a string.'))"
   ]
  },
  {
   "cell_type": "code",
   "execution_count": null,
   "id": "93028f75-c57b-4e33-9774-0afc0f4a0002",
   "metadata": {
    "tags": []
   },
   "outputs": [],
   "source": [
    "# Strings can be surrounded by either double quotes:\n",
    "msg = \"Have a nice day! 😀\"\n",
    "print(msg)\n",
    "print(type(msg))\n",
    "\n",
    "# the built-in function `len` gives the length of the string\n",
    "print(len(msg))"
   ]
  },
  {
   "cell_type": "code",
   "execution_count": null,
   "id": "f8741022-8797-4e7b-a9de-b885e04cb64c",
   "metadata": {
    "tags": []
   },
   "outputs": [],
   "source": [
    "# or single quotes:\n",
    "msg = '祝你今天过得愉快 😀'\n",
    "print(msg)\n",
    "print(type(msg))\n",
    "print(len(msg))"
   ]
  },
  {
   "cell_type": "code",
   "execution_count": null,
   "id": "4171fc18-6c23-4af6-86e1-03882fd60af5",
   "metadata": {
    "tags": []
   },
   "outputs": [],
   "source": [
    "# Having both options provides flexibility\n",
    "msg = 'You can't use apostrophes in strings with single quotes...'\n",
    "print(msg)"
   ]
  },
  {
   "cell_type": "markdown",
   "id": "ad78c1de-cbd3-4926-8231-41b3e9aee56e",
   "metadata": {},
   "source": [
    "##### Exercise 1.5.4.1: Mixing double & single quotes\n",
    "\n",
    "Change the cell above so that the string uses double quotes, then run again"
   ]
  },
  {
   "cell_type": "markdown",
   "id": "87a4a139-6ee4-4677-83c6-4d03397e7f35",
   "metadata": {
    "tags": []
   },
   "source": [
    "##### 1.5.4.2 String escapes <a id=\"escapes\"></a>\n",
    "\n",
    "You can use apostophes or quotes in a string that is surrounded by the same character if you ***[escape](https://docs.python.org/3/reference/lexical_analysis.html#escape-sequences)*** the apostrophes or quotes inside the string. The other popular escape sequences are `\\n` for a ***newline*** and `\\t`  for a ***tab***."
   ]
  },
  {
   "cell_type": "code",
   "execution_count": null,
   "id": "1d71a6c5-ac03-4673-a9ff-34b7c2248745",
   "metadata": {
    "tags": []
   },
   "outputs": [],
   "source": [
    "# but there are other ways\n",
    "msg = '...unless you escape the apostrophe, as in can\\'t!\\nThis is on line...\\ttwo.'\n",
    "print(msg)"
   ]
  },
  {
   "cell_type": "markdown",
   "id": "91d42bf8-f16a-4be3-a689-3cd703c320b7",
   "metadata": {
    "tags": []
   },
   "source": [
    "##### 1.5.4.3 Raw strings <a id=\"raw_strings\"></a>\n",
    "\n",
    "String ***[literals](https://docs.python.org/3/reference/lexical_analysis.html#string-and-bytes-literals)*** can have different prefixes. If a string is prefixed by an `r`, escapes are ***usually*** ignored, and the backslash is treated like any other character, ***except*** that a backslash still prevents a single/double quote (whichever started the string literal) that would terminate the string from doing so.  However, even in that exception the backslash is part of the string."
   ]
  },
  {
   "cell_type": "code",
   "execution_count": null,
   "id": "799851b9-d497-4f20-a7a9-104b272794f9",
   "metadata": {
    "tags": []
   },
   "outputs": [],
   "source": [
    "# raw strings, prefixed by 'r', ignore escapes\n",
    "msg = r'...unless you escape the apostrophe, as in can\\'t!\\nThis is on line...\\ttwo.'\n",
    "print(msg)"
   ]
  },
  {
   "cell_type": "markdown",
   "id": "ae886d07-a45b-4f8a-8a80-d0181921169b",
   "metadata": {},
   "source": [
    "<a id=\"raw_string_path\"></a>\n",
    "##### Exercise 1.5.4.3a: Raw strings for file paths\n",
    "\n",
    "Raw strings are good to use for file paths (if you copy and paste a path in Windows), since the backslashes will not be interpreted as escape sequences.\n",
    "\n",
    "\n",
    "1. Pick a folder on your computer that does not contain very many files\n",
    "2. Open it\n",
    "3. Right-click on one of the files\n",
    "4. Click on Properties\n",
    "5. Copy the path, which is to the right of the word ***Location***. It should look something like:   `C:\\Users\\joseph.pedersen\\OneDrive - West Point\\ORCEN`\n",
    "6. Paste that path below, to the right of the `=`, \n",
    "7. Surround it by quotes\n",
    "8. Add the `r` prefix before the quotes\n",
    "9. Then run th cell below.  It should list the contents of that folder."
   ]
  },
  {
   "cell_type": "code",
   "execution_count": null,
   "id": "27557da6-3c30-40fe-8651-56cfd2fda183",
   "metadata": {
    "tags": []
   },
   "outputs": [],
   "source": [
    "# put the path here as a raw string\n",
    "path =\n",
    "\n",
    "import os\n",
    "\n",
    "os.listdir(path)"
   ]
  },
  {
   "cell_type": "markdown",
   "id": "a5de6f21-3a99-4c5d-8e0e-d4c49fa9e9cb",
   "metadata": {},
   "source": [
    "##### Exercise 1.5.4.3b: Forgetting the `r` prefix\n",
    "\n",
    "Remove the `r` prefix to make the path a normal string, then run the cell again. You'll probably get an error. Get in the practice of reading errors to try to understand them. Then, if you encounter the same error again, you'll be more likely to remember the likely cause."
   ]
  },
  {
   "cell_type": "markdown",
   "id": "3d6ae7fb-d485-4ec3-9bde-43798a3fc64c",
   "metadata": {
    "tags": []
   },
   "source": [
    "##### 1.5.4.4 Triple Quote strings <a id=\"triple_quote_strings\"></a>\n",
    "\n",
    "A ***[triple-quoted string](https://docs.python.org/3/glossary.html#term-triple-quoted-string)*** can span multiple lines (i.e. contain actual newline characters, not just their escape sequences). The quotes used can be single quotes or double quotes. \n",
    "\n",
    "These strings are the same type as the other strings, the only difference is that their [***literals***](https://docs.python.org/3/reference/lexical_analysis.html#literals) can contain unescaped single or double quotes (as long as there aren't three in a row that match the ones that surround the string) and can span multiple lines without needing to use line continuation."
   ]
  },
  {
   "cell_type": "code",
   "execution_count": null,
   "id": "70460119-2473-4648-af32-ddca451d584c",
   "metadata": {
    "tags": []
   },
   "outputs": [],
   "source": [
    "# strings can also use triple quotes, which allows spanning multiple lines\n",
    "msg = \"\"\"This is a string\n",
    "that spans multiple lines!\"\"\"\n",
    "print(msg)\n",
    "print(type(msg))"
   ]
  },
  {
   "cell_type": "code",
   "execution_count": null,
   "id": "19f959de-9c08-4e64-a6a2-db6a1823f35b",
   "metadata": {
    "tags": []
   },
   "outputs": [],
   "source": [
    "msg2 = \"This is a string\\nthat spans multiple lines!\"\n",
    "print(msg2)\n",
    "\n",
    "# Check that the strings have the same value\n",
    "print(msg == msg2)"
   ]
  },
  {
   "cell_type": "markdown",
   "id": "d105eecf-2d23-4a13-8d4b-6c8046a3e89c",
   "metadata": {},
   "source": [
    "##### Exercise 1.5.4.4: Use triple quoted strings to contain single and double quotes\n",
    "\n",
    "If you ever copy and paste a large amount of text that contains ***both*** single quoted strings and double quoted strings, you can surround the text by triple quotes to quickly make it into a valid string literal.\n",
    "\n",
    "Run the following cell.  Then surround the string by triple-quotes and run it again."
   ]
  },
  {
   "cell_type": "code",
   "execution_count": null,
   "id": "79d8259b-7ef4-4a31-a6c1-f84699329ca4",
   "metadata": {
    "tags": []
   },
   "outputs": [],
   "source": [
    "weird_string = \"{'First': \"John\", 'M': \"Q\", 'Last': \"Doe\", 'Age': 99}\"\n",
    "print(weird_string)"
   ]
  },
  {
   "cell_type": "markdown",
   "id": "9d712998-9c2e-42b5-8d9c-e31ae6eee2f5",
   "metadata": {
    "tags": []
   },
   "source": [
    "##### 1.5.4.5 f-strings <a id=\"f_strings\"></a>\n",
    "\n",
    "A string that is prefixed by `f`, called an ***[f-string](https://docs.python.org/3/reference/lexical_analysis.html#formatted-string-literals)***, can contain expressions inside curly brackets `{}`. The expressions are evaluated and replaced by the result converted to a string."
   ]
  },
  {
   "cell_type": "code",
   "execution_count": null,
   "id": "0a6ca45e-e42e-4d52-b8e2-f92bd059493b",
   "metadata": {
    "tags": []
   },
   "outputs": [],
   "source": [
    "# f-strings, prefixed by 'f', replace expressions with strings\n",
    "greeting = \"Good morning\"\n",
    "name = \"Bruce\"\n",
    "print(f\"{greeting}, {name}, how are you today?\")"
   ]
  },
  {
   "cell_type": "markdown",
   "id": "108bfdb0-919b-4726-85f6-e16daec5ee72",
   "metadata": {},
   "source": [
    "##### Exercise 1.5.4.5: forgetting the `f` prefix\n",
    "\n",
    "Remove the `f` prefix in the code cell above, then run the cell again."
   ]
  },
  {
   "cell_type": "code",
   "execution_count": null,
   "id": "8283fb58-2b41-40ee-848a-24ca322b690c",
   "metadata": {
    "tags": []
   },
   "outputs": [],
   "source": [
    "# Just for fun\n",
    "song = 13*\"na \" + \"Batman!\"\n",
    "print(song)"
   ]
  },
  {
   "cell_type": "markdown",
   "id": "361377c1-abc8-47d2-be55-29a3340844b6",
   "metadata": {},
   "source": [
    "There is a lot more to learn about strings, but we will do that [later](#strings_more).\n",
    "\n",
    "First, we'll introduce some other types."
   ]
  },
  {
   "cell_type": "markdown",
   "id": "a27cf145-4520-4583-876c-54b79adf502f",
   "metadata": {},
   "source": [
    "#### 1.5.5 Lists <a id=\"lists_intro\"></a>\n",
    "\n",
    "[***Lists***](https://docs.python.org/3/tutorial/introduction.html#lists) are ordered sequences of objects. The items in a list can be different types. Lists are ***[mutable](https://docs.python.org/3/reference/datamodel.html#mutable-sequences)***, which means that they ***can*** be changed (more on that soon).\n",
    "\n",
    "Lists can be written as comma-separated items surrounded by square brackets, called a  [***list display***](https://docs.python.org/3/reference/expressions.html#list-displays)."
   ]
  },
  {
   "cell_type": "code",
   "execution_count": null,
   "id": "986e9766-cd7b-49a6-8124-1238c53a6ce3",
   "metadata": {
    "tags": []
   },
   "outputs": [],
   "source": [
    "# a list of grades\n",
    "grades_list = ['A+','C-', 'D', 0]\n",
    "print(grades_list)\n",
    "print(type(grades_list))\n",
    "print(len(grades_list))"
   ]
  },
  {
   "cell_type": "markdown",
   "id": "11dde679-3aeb-4c0b-8646-abfb7c0f05b3",
   "metadata": {},
   "source": [
    "##### 1.5.5.1 Subscripting lists\n",
    "\n",
    "You can access the items in a list by using square brackets containing the index of the entry that you want typed immediately after the list, as in:\n",
    "```python\n",
    "some_list[i]\n",
    "```\n",
    "Python is zero-indexed, meaning that the ***first*** item in a list is at index 0.\n",
    "\n",
    "***Note***: the use of square brackets to access the items in a list (called [***subscription***](#subscription)) is not related to the fact that list displays are surrounded by square brackets.  Square brackets are used to access the items in any ***[container](#containers_more)*** in Python, as we'll see with tuples and dictionaries."
   ]
  },
  {
   "cell_type": "markdown",
   "id": "4f5d644a-c6da-4c03-adc9-5d5ca89d78d4",
   "metadata": {},
   "source": [
    "##### Exercise 1.5.5.1: Accessing an item\n",
    "\n",
    "Predict the output from running the following cell. Then run it to see if you are correct."
   ]
  },
  {
   "cell_type": "code",
   "execution_count": null,
   "id": "66de38d8-a41a-43b4-90fe-47e87f7251b1",
   "metadata": {
    "tags": []
   },
   "outputs": [],
   "source": [
    "# reference an item in the list\n",
    "grades_list[1]"
   ]
  },
  {
   "cell_type": "markdown",
   "id": "646d3b40-4497-405b-8062-70cc7b2a8e6e",
   "metadata": {},
   "source": [
    "##### 1.5.5.2 Item assignment\n",
    "\n",
    "You can assign to a list (bind a list subscription) using an assignment statement with a list subscription as the target:\n",
    "```python\n",
    "some_list[i] = expresssion\n",
    "```\n",
    "The index `i` must already be one of the valid indices for the list (assignment to a subscription cannot change the size of the list). The `expression` will be evaluated, that object will be stored in memory, and later it can be referenced by `some_list[i]`. For more information, see [here](#subscription_target)."
   ]
  },
  {
   "cell_type": "markdown",
   "id": "465e03d1-5383-406b-b2c2-fe6ee4980a3d",
   "metadata": {},
   "source": [
    "##### Exercise 1.5.5.2: Change one item in a list\n",
    "\n",
    "Change the grades list so that the last grade is `'F'` instead of a zero ***USING indexing*** (changing just the one entry)"
   ]
  },
  {
   "cell_type": "code",
   "execution_count": null,
   "id": "a826bd06-7d37-4ab8-9721-7e2487ff3659",
   "metadata": {
    "tags": []
   },
   "outputs": [],
   "source": [
    "# Type your line of code on the line below:\n",
    "\n",
    "\n",
    "# then we'll print grades to see if you were successful\n",
    "print(grades_list)"
   ]
  },
  {
   "cell_type": "markdown",
   "id": "011dacc9-05f1-4d66-8341-fce1d2514823",
   "metadata": {},
   "source": [
    "<details>\n",
    "    <summary><b>Solution</b></summary>\n",
    "    \n",
    "Since Python is zero-indexed, we can change which object the first item references using:\n",
    "```python\n",
    "grades_list[0] = 'F'\n",
    "```  \n",
    "<br>\n",
    "    \n",
    "***Note*** that this does ***not*** change the `0` into an `'F'`. Instead, it changes what `grades_list[0]` references. Integers, like `0`, are immutable. They cannot be changed. Lists are mutable. When we mutate a list, we change which items ***are in*** the list (or where they are in the list), we don't change the items themselves. This is a subtle but important point that will come up again and again.\n",
    "</details>"
   ]
  },
  {
   "cell_type": "markdown",
   "id": "b750b3aa-9433-44da-b08c-9f5816b8c5d8",
   "metadata": {},
   "source": [
    "**Important tip:** Sometimes it is easier for someone reading your code to see one item per line.  Expressions inside square brackets can span multiple lines, just like expressions inside parentheses or curly brackets. This is [***implicit line joining***](https://docs.python.org/3/reference/lexical_analysis.html#implicit-line-joining) again."
   ]
  },
  {
   "cell_type": "code",
   "execution_count": null,
   "id": "5b9be0a3-dc6e-4e57-bd6f-c0e330a92fc9",
   "metadata": {
    "tags": []
   },
   "outputs": [],
   "source": [
    "# Lists can span multiple lines\n",
    "students = ['Alice', # suggest she try for honors\n",
    "            'Carla', # is going to redo PS1 to try for a better score\n",
    "            'Dave', # recommend that he come in for additional instruction\n",
    "            'Fred', # talk to his DAC about an academic success plan\n",
    "           ]\n",
    "\n",
    "print(students)"
   ]
  },
  {
   "cell_type": "markdown",
   "id": "38690340-f793-4714-a353-9d90d9b4cef1",
   "metadata": {},
   "source": [
    "There is a lot more to learn about lists, but we will do that [***later***](#lists_more).\n",
    "\n",
    "First, we'll introduce some other ***[sequence](https://docs.python.org/3/library/stdtypes.html#sequence-types-list-tuple-range)*** and ***[container](https://docs.python.org/3/library/collections.html)*** types."
   ]
  },
  {
   "cell_type": "markdown",
   "id": "2ccb9709-9058-457b-9ac7-e6da879dff26",
   "metadata": {},
   "source": [
    "#### 1.5.6 Tuples <a id=\"tuples_intro\"></a>\n",
    "\n",
    "[***Tuples***](https://docs.python.org/3/tutorial/datastructures.html#tuples-and-sequences) are ordered sequences of objects. The items in a tuple can be different types. Tuples are ***[immutable](https://docs.python.org/3/reference/datamodel.html#immutable-sequences)***, which means that they ***cannot*** be changed (more on that soon).\n",
    "\n",
    "Tuples can be written as comma-separated items surrounded by parentheses (sometimes the parentheses are optional)."
   ]
  },
  {
   "cell_type": "code",
   "execution_count": null,
   "id": "348a0356-dda4-405c-b2f9-df688b8fe8e7",
   "metadata": {
    "tags": []
   },
   "outputs": [],
   "source": [
    "# A tuple of grades \n",
    "grades_tup = ('A+','C-', 'D', 0)\n",
    "print(grades_tup)\n",
    "print(type(grades_tup))\n",
    "print(len(grades_tup))"
   ]
  },
  {
   "cell_type": "markdown",
   "id": "b100c2ef-6683-4b66-a1ef-b7ff70e7a5eb",
   "metadata": {},
   "source": [
    "**Important note:** it is the ***commas*** which make the tuple, **not** the parentheses. The parentheses are optional except where they are needed to remove ambiguity. Parentheses are needed to make an empty tuple, using `()`, since that is the ***only*** tuple without commas.\n",
    "\n",
    "We could have created the same tuple as above using the code below:"
   ]
  },
  {
   "cell_type": "code",
   "execution_count": null,
   "id": "6772896a-1615-4e32-bb57-3fb07850b61e",
   "metadata": {
    "tags": []
   },
   "outputs": [],
   "source": [
    "grades_tup = 'A+','C-', 'D', 0\n",
    "print(grades_tup)\n",
    "print(type(grades_tup))\n",
    "print(len(grades_tup))"
   ]
  },
  {
   "cell_type": "markdown",
   "id": "474e2f65-59d1-444c-8fdd-baec4cb820f4",
   "metadata": {},
   "source": [
    "##### 1.5.6.1 Subscripting tuples\n",
    "\n",
    "Tuples are indexed the same way as lists (using square brackets).  For that matter, so are all [***sequences***](#sequences)."
   ]
  },
  {
   "cell_type": "code",
   "execution_count": null,
   "id": "aef9233f-a245-446c-8daf-a2c3bd94a35f",
   "metadata": {
    "tags": []
   },
   "outputs": [],
   "source": [
    "# reference an item in the tuple\n",
    "grades_tup[1]"
   ]
  },
  {
   "cell_type": "code",
   "execution_count": null,
   "id": "3cd260de-bb91-4e20-ab4d-30e042b475ba",
   "metadata": {
    "tags": []
   },
   "outputs": [],
   "source": [
    "# reference an item in a string\n",
    "'ABCDEFG'[1]"
   ]
  },
  {
   "cell_type": "markdown",
   "id": "201d02c5-bfd6-4e84-88cc-54bedbdf38b6",
   "metadata": {},
   "source": [
    "##### Exercise 1.5.6.1: Change one item in a tuple\n",
    "\n",
    "Change the grades tuple so that the last grade is `'F'` instead of a zero USING indexing (changing just the one entry)"
   ]
  },
  {
   "cell_type": "code",
   "execution_count": null,
   "id": "82f67822-5287-4192-bfa5-177a2c171e3f",
   "metadata": {
    "tags": []
   },
   "outputs": [],
   "source": [
    "# Type your line of code on the line below:\n",
    "\n",
    "\n",
    "# then we'll print grades to see if you were successful\n",
    "print(grades_tup)"
   ]
  },
  {
   "cell_type": "markdown",
   "id": "86ee5279-b8ac-483c-8443-c24f0f1013c3",
   "metadata": {
    "jp-MarkdownHeadingCollapsed": true,
    "tags": []
   },
   "source": [
    "<details>\n",
    "    <summary><b>Remember</b></summary>\n",
    "    \n",
    "The main difference between ***lists*** and ***tuples*** is that tuples cannot be mutated (changed).\n",
    "\n",
    "Objects that cannot be mutated are called ***immutable***.\n",
    "</details>"
   ]
  },
  {
   "cell_type": "markdown",
   "id": "1721765a-fd7a-4423-aeaf-4be791a4bc4d",
   "metadata": {},
   "source": [
    "##### Exercise 1.5.6.2: A tuple with one item\n",
    "\n",
    "Predict the output of the following code cell, then run it to see if you are correct."
   ]
  },
  {
   "cell_type": "code",
   "execution_count": null,
   "id": "e41278f2-dbbc-436c-b4d3-f20da1c6fbf7",
   "metadata": {
    "tags": []
   },
   "outputs": [],
   "source": [
    "# Independent study\n",
    "grade_tup = ('A+')\n",
    "print(grade_tup)\n",
    "print(type(grade_tup))\n",
    "print(len(grade_tup))"
   ]
  },
  {
   "cell_type": "markdown",
   "id": "febecac8-3672-4dec-a880-75c9cdcbd17a",
   "metadata": {},
   "source": [
    "##### Exercise 1.5.6.3: Trailing commas\n",
    "\n",
    "Add a comma to the `grade_tup` after the single item, so that it will represent a tuple, then rerun the cell.\n",
    "\n",
    "***Trailing commas*** are allowed in Python, and ***required*** to make a tuple with just one entry without calling `tuple( )`."
   ]
  },
  {
   "cell_type": "markdown",
   "id": "6fd0c8b2-d0a4-489f-bd2e-11260a67f2c1",
   "metadata": {
    "tags": []
   },
   "source": [
    "<details>\n",
    "    <summary><b>Solution</b></summary>\n",
    "    \n",
    "```python\n",
    "grade_tup = ('A+',)\n",
    "```\n",
    "</details>"
   ]
  },
  {
   "cell_type": "code",
   "execution_count": null,
   "id": "1fcccf2b-833b-4f53-b86f-e10b14975017",
   "metadata": {
    "tags": []
   },
   "outputs": [],
   "source": [
    "# Trailing commas are ok in Python\n",
    "print([1,2,3,])\n",
    "print((1,2,3,))"
   ]
  },
  {
   "cell_type": "markdown",
   "id": "ac7004b4-b79c-47f0-a156-0b8371f7395c",
   "metadata": {},
   "source": [
    "#### 1.5.7 Dictionaries <a id=\"dicts_intro\"></a>\n",
    "\n",
    "A [***Dictionary***](https://docs.python.org/3/tutorial/datastructures.html#dictionaries) is a sequence of `key:value` pairs, with the requirement that the keys must be unique and [***hashable***](https://docs.python.org/3/glossary.html#term-hashable) (which basically means immutable). Dictionaries are mutable.\n",
    "\n",
    "Dictionaries can be written as `key:value` pairs, surrounded by curly braces, with pairs separated by commas, called a [***dictionary display***](https://docs.python.org/3/reference/expressions.html#dictionary-displays)."
   ]
  },
  {
   "cell_type": "code",
   "execution_count": null,
   "id": "ed36725f-2e2f-4373-91a3-679e9bd952fd",
   "metadata": {
    "tags": []
   },
   "outputs": [],
   "source": [
    "# A dictionary of grades.\n",
    "grades_dict = {'Alice':'A+++', 'Alice':'A+', 'Carla':'C-', 'Dave':'D', 'Fred':0}\n",
    "print(grades_dict)\n",
    "print(type(grades_dict))\n",
    "print(len(grades_dict))"
   ]
  },
  {
   "cell_type": "code",
   "execution_count": null,
   "id": "b5be3ac5-d32d-4f00-88b6-bc80fb27eb47",
   "metadata": {
    "tags": []
   },
   "outputs": [],
   "source": [
    "# Dictionaries are indexed using their keys\n",
    "grades_dict['Carla']"
   ]
  },
  {
   "cell_type": "markdown",
   "id": "21a585ee-c485-4c09-877e-0a4489f11a78",
   "metadata": {},
   "source": [
    "##### Exercise 1.5.7.1: Change one item in a dictionary\n",
    "\n",
    "Change the grades dictionary so that Fred's grade is `'F'` instead of a zero ***USING indexing*** (changing just the one entry)"
   ]
  },
  {
   "cell_type": "code",
   "execution_count": null,
   "id": "dfe7a9f6-deef-41d4-8748-b30aaed72657",
   "metadata": {
    "tags": []
   },
   "outputs": [],
   "source": [
    "# Type your line of code on the line below:\n",
    "\n",
    "\n",
    "# then we'll print grades to see if you were successful\n",
    "print(grades_dict)"
   ]
  },
  {
   "cell_type": "markdown",
   "id": "23f3d981-35d8-45ce-bbcf-432354d6a899",
   "metadata": {
    "jp-MarkdownHeadingCollapsed": true,
    "tags": []
   },
   "source": [
    "<details>\n",
    "    <summary><b>Solution</b></summary>\n",
    "    \n",
    "```python\n",
    "grades_dict['Fred'] = 'F'\n",
    "```\n",
    "</details>"
   ]
  },
  {
   "cell_type": "markdown",
   "id": "19fef2a8-db4f-46fb-ba13-9eb808500328",
   "metadata": {},
   "source": [
    "#### 1.5.8 Nesting <a id=\"nesting\"></a>\n",
    "\n",
    "All of these data structures can be nested, so the values insides lists, tuples, and dictionaries can themselves be lists, tuples, and dictionaries.  However, remember that the keys of a dictionary need to be hashable, so they cannot be lists. If you have lists that you would like to use for dictionary keys, you can convert your lists to tuples using the [***tuple( )***](https://docs.python.org/3/library/stdtypes.html#tuple) constructor: `my_tuple = tuple(my_list)`."
   ]
  },
  {
   "cell_type": "code",
   "execution_count": null,
   "id": "abb1222c-a1ac-4c4c-bc5b-7fc16af89c18",
   "metadata": {
    "tags": []
   },
   "outputs": [],
   "source": [
    "# an example of a nested data structure\n",
    "\n",
    "gradebook = {\n",
    "    'HW1':[('Alice',100), ('Carla',70), ('Dave',70), ('Fred',0)],\n",
    "    'PS1':[('Alice',100), ('Carla',50), ('Dave',69), ('Fred',0)],\n",
    "    'HW2':[('Alice',100), ('Carla',72), ('Dave',68), ('Fred',0)],\n",
    "    'HW3':[('Alice',100), ('Carla',74), ('Dave',67), ('Fred',0)],\n",
    "    'WPR1':[('Alice',100), ('Carla',76), ('Dave',66), ('Fred',0)],\n",
    "    'HW4':[('Alice',100), ('Carla',78), ('Dave',65), ('Fred',0)],\n",
    "    'PS2':[('Alice',100), ('Carla',80), ('Dave',64), ('Fred',0)],\n",
    "}\n",
    "\n",
    "print(type(gradebook))\n",
    "print(type(gradebook['PS1']))\n",
    "print(type(gradebook['PS1'][1]))\n",
    "print(gradebook['PS1'][1])"
   ]
  },
  {
   "cell_type": "markdown",
   "id": "14e3b1b7-afda-4977-8e6b-d34fc3eabbca",
   "metadata": {},
   "source": [
    "##### 1.5.8.1 Immutable containers <a id=\"immutable_containers\"></a>\n",
    "\n",
    "When we say that a container, like a tuple, is ***[immutable](https://docs.python.org/3/reference/datamodel.html#immutable-sequences)***, we mean that we cannot change which objects it contains.\n",
    "\n",
    "However, that does not mean that the objects that it contains cannot be mutated, if ***they*** are mutable.\n",
    "\n",
    "For example, a tuple is immutable, but if one of its items is a list, that list ***can*** be mutated."
   ]
  },
  {
   "cell_type": "markdown",
   "id": "1b1853c0-3c35-4e3e-9497-f5cafcfe4e79",
   "metadata": {},
   "source": [
    "##### Exercise 1.5.8.1: Changing a list inside a tuple\n",
    "\n",
    "Change Fred's grade to an F instead of a zero USING indexing (changing just the one entry). Hint: the list containing Fred's grade is the last list, and the grade is the second item in the list, so you'll need two sets of square brackets."
   ]
  },
  {
   "cell_type": "code",
   "execution_count": null,
   "id": "c3deee74-64df-4e3e-87ba-71b6c621229c",
   "metadata": {
    "tags": []
   },
   "outputs": [],
   "source": [
    "grades = (['Alice', 'A+'], ['Carla', 'C-'], ['Dave', 'D'], ['Fred', 0])\n",
    "\n",
    "# Put your code here:\n",
    "\n",
    "\n",
    "# we'll print to see if you were successful\n",
    "print(grades)"
   ]
  },
  {
   "cell_type": "markdown",
   "id": "bd1e0c90-32c1-41d5-a48a-ace314d89b0f",
   "metadata": {
    "jp-MarkdownHeadingCollapsed": true,
    "tags": []
   },
   "source": [
    "<details>\n",
    "    <summary><b>Solution</b></summary>\n",
    "    \n",
    "```python\n",
    "grades[3][1] = 'F'\n",
    "```\n",
    "</details>"
   ]
  },
  {
   "cell_type": "markdown",
   "id": "acfd9e9c-24c3-4f24-aecb-27b951b83e8e",
   "metadata": {},
   "source": [
    "##### Exercise 1.5.8.2: Changing which list is inside a tuple\n",
    "\n",
    "Predict the output of the following code, then run it to see if you are correct:"
   ]
  },
  {
   "cell_type": "code",
   "execution_count": null,
   "id": "5eed9029-00b7-4777-b058-83f61322850f",
   "metadata": {
    "tags": []
   },
   "outputs": [],
   "source": [
    "grades = (['Alice', 'A+'], ['Carla', 'C-'], ['Dave', 'D'], ['Fred', 0])\n",
    "\n",
    "# Change this list\n",
    "grades[3] = ['Bob', 'B']\n",
    "\n",
    "# print to see if we were successful\n",
    "print(grades)"
   ]
  },
  {
   "cell_type": "markdown",
   "id": "2f3dbd19-33ad-44ed-bdcc-256304a11b42",
   "metadata": {
    "jp-MarkdownHeadingCollapsed": true,
    "tags": []
   },
   "source": [
    "<details>\n",
    "    <summary><b>Remember</b></summary>\n",
    "    \n",
    "We ***can*** mutate a mutable item contained in an immutable container.\n",
    "    \n",
    "We ***cannot*** change which items an immutable container contains.\n",
    "</details>"
   ]
  },
  {
   "cell_type": "markdown",
   "id": "2396a46f-7889-416c-b409-26aa40a5ed6a",
   "metadata": {},
   "source": [
    "##### Exercise 1.5.8.3: Lists as dictionary keys\n",
    "\n",
    "Predict the output of the following code, then run it to see if you are correct:"
   ]
  },
  {
   "cell_type": "code",
   "execution_count": null,
   "id": "f9d8df90-390f-4eb6-acf7-d86be47e0c04",
   "metadata": {
    "tags": []
   },
   "outputs": [],
   "source": [
    "grades = {['Alice']: ['A+'], ['Carla']: ['C-'], ['Dave']: ['D'], ['Fred']: [0]}\n",
    "\n",
    "# Change this list\n",
    "grades[['Fred']] = ['F']\n",
    "\n",
    "# print to see if we were successful\n",
    "print(grades)"
   ]
  },
  {
   "cell_type": "markdown",
   "id": "b16d0335-946c-4b2b-8754-c34588b16659",
   "metadata": {
    "jp-MarkdownHeadingCollapsed": true,
    "tags": []
   },
   "source": [
    "<details>\n",
    "    <summary><b>Remember</b></summary>\n",
    "    \n",
    "The keys for dictionaries must be ***hashable***, so they cannot be lists.\n",
    "</details>"
   ]
  },
  {
   "cell_type": "markdown",
   "id": "56e50372-0c3b-425b-a5a4-2891b647ff04",
   "metadata": {},
   "source": [
    "#### 1.5.9 Sets <a id=\"sets_intro\"></a>\n",
    "\n",
    "[***Sets***](https://docs.python.org/3/reference/datamodel.html#set-types) are unordered collections of objects. They are mutable. They can only contain [hashable](https://docs.python.org/3/glossary.html#term-hashable) (which basically means immutable) objects. An item is either in a set, or not; an item cannot be in a set multiple times.\n",
    "\n",
    "Sets can be written as commas separated items surrounded by curly braces, called a ***[set display](\n",
    "https://docs.python.org/3/reference/expressions.html#set-displays)***."
   ]
  },
  {
   "cell_type": "code",
   "execution_count": null,
   "id": "f48cb5de-a767-41e8-9105-dc491bba8f7f",
   "metadata": {
    "tags": []
   },
   "outputs": [],
   "source": [
    "# a set of grades\n",
    "grades_set = {100, 72, 67, 50, 72}\n",
    "print(grades_set)\n",
    "print(type(grades_set))\n",
    "print(len(grades_set))"
   ]
  },
  {
   "cell_type": "markdown",
   "id": "1913f4d5-a306-4b35-b580-dbfe9df1e2a2",
   "metadata": {
    "tags": []
   },
   "source": [
    "##### Exercise 1.5.9.1: Change one item in a set\n",
    "\n",
    "Change the grades set so that the last grade is a `0` USING indexing (changing just the one entry)"
   ]
  },
  {
   "cell_type": "code",
   "execution_count": null,
   "id": "c6ebe3ef-3f03-467f-b4d7-c3f1ae8f5653",
   "metadata": {
    "tags": []
   },
   "outputs": [],
   "source": [
    "# Type your line of code on the line below:\n"
   ]
  },
  {
   "cell_type": "markdown",
   "id": "2bf34556-ef3b-4fae-bb2e-1cff3d76aaae",
   "metadata": {
    "jp-MarkdownHeadingCollapsed": true,
    "tags": []
   },
   "source": [
    "<details>\n",
    "    <summary><b>Remember</b></summary>\n",
    "    \n",
    "Sets are ***unordered***, so there is no *last* item, and you can not use indexing on a set.\n",
    "\n",
    "You can remove an item by value using the `remove` method: `grades_set.remove(100)`\n",
    "    \n",
    "You can add an item using the `add` method: `grades_set.add(0)`\n",
    "</details>"
   ]
  },
  {
   "cell_type": "markdown",
   "id": "0c669e81-6cf5-47b8-bcb0-a12c81d0f017",
   "metadata": {},
   "source": [
    "##### Using `set` to remove duplicates from a `list` <a id=\"set_dedupe_list\"></a>\n",
    "\n",
    "Since a set cannot contain duplicates, you can remove the duplicates from a list by [converting](#conversion) it to a set, by passing it as the argument to the [***set( )***](https://docs.python.org/3/library/functions.html#func-set) constructor. \n",
    "\n",
    "You can convert it back to a list if necessary, by passing the set as the argument to the [***list( )***](https://docs.python.org/3/library/functions.html#func-list) constructor.  However, it may not be in the same order as the original list.\n",
    "\n",
    "See the following example:"
   ]
  },
  {
   "cell_type": "code",
   "execution_count": null,
   "id": "65fcd479-1aa9-4cf8-a9bf-8abed282a72b",
   "metadata": {
    "tags": []
   },
   "outputs": [],
   "source": [
    "numbers = [5,2,7,5,8,4,8,9,7,2,3,1]\n",
    "print(len(numbers))\n",
    "\n",
    "unique = set(numbers)\n",
    "\n",
    "unique_list = list(unique)\n",
    "print(unique_list)\n",
    "print(len(unique_list))"
   ]
  },
  {
   "cell_type": "markdown",
   "id": "7ce745fa-5bb0-41d4-b604-a4abbfe67c48",
   "metadata": {},
   "source": [
    "#### 1.5.10 Ranges <a id=\"ranges_intro\"></a>\n",
    "\n",
    "[***Ranges***](https://docs.python.org/3/library/stdtypes.html#ranges) are immutable sequences of integers. The [***range( )***](https://docs.python.org/3/library/functions.html#func-range) constructor requires at least one argument, the value for `stop`. If that is the only argument passed to `range()`, the values in range are the non-negative integers less than `stop`. Note that there are `N` non-negative integers in `range(N)`, if `N` is non-negative."
   ]
  },
  {
   "cell_type": "code",
   "execution_count": null,
   "id": "a0043a6b-035d-4d4a-8bd2-ef82814a24cf",
   "metadata": {},
   "outputs": [],
   "source": [
    "# The sequence of non-negatives integers LESS THAN 6\n",
    "r6 = range(6)\n",
    "print(r6)\n",
    "print(type(r6))\n",
    "print(len(r6))"
   ]
  },
  {
   "cell_type": "markdown",
   "id": "6ee55ebc-6aa3-4d8e-b278-de58b4a30922",
   "metadata": {},
   "source": [
    "We can use the built-in functions `min` and `max` to see the minimum and maximum values in `r6`:"
   ]
  },
  {
   "cell_type": "code",
   "execution_count": null,
   "id": "b8447cac-d544-4cae-bf81-3d503fe27559",
   "metadata": {
    "tags": []
   },
   "outputs": [],
   "source": [
    "print(\"The min of r6 is\", min(r6))\n",
    "print(\"The max of r6 is\", max(r6))"
   ]
  },
  {
   "cell_type": "markdown",
   "id": "67ad9217-288c-4a82-8f3c-fed7a7f8865f",
   "metadata": {},
   "source": [
    "**Note** ranges can be used like tuples, but have the advantage of not creating the entire tuple,  which takes time and memory. To see all of the values, you can convert the range to a `tuple` by passing the range as the only argument in a tuple constructor expression (a call to `tuple`), as in:"
   ]
  },
  {
   "cell_type": "code",
   "execution_count": null,
   "id": "c9a79c1f-f7e0-4b57-902e-4cb430656681",
   "metadata": {
    "tags": []
   },
   "outputs": [],
   "source": [
    "tup6 = tuple(r6)\n",
    "print(tup6)\n",
    "print(type(tup6))"
   ]
  },
  {
   "cell_type": "code",
   "execution_count": null,
   "id": "8b26a33a-85ec-4031-ad79-e5411ac6cd00",
   "metadata": {},
   "outputs": [],
   "source": [
    "# import the sys module\n",
    "import sys"
   ]
  },
  {
   "cell_type": "code",
   "execution_count": null,
   "id": "d8361d53-3174-4c40-a27b-92119630d41e",
   "metadata": {
    "tags": []
   },
   "outputs": [],
   "source": [
    "# this is created in nanoseconds\n",
    "r_big = range(200_000_000) # you can use underscores in python numbers\n",
    "\n",
    "print(f\"r_big takes up {sys.getsizeof(r_big)} bytes\")"
   ]
  },
  {
   "cell_type": "code",
   "execution_count": null,
   "id": "827f3b03-26de-40b1-a75c-2e3c87188861",
   "metadata": {
    "tags": []
   },
   "outputs": [],
   "source": [
    "# this takes a lot longer\n",
    "tup_big = tuple(r_big)\n",
    "\n",
    "print(f\"tup_big takes up {sys.getsizeof(tup_big)} bytes\")"
   ]
  },
  {
   "cell_type": "markdown",
   "id": "9737defb-0cfd-4d29-97ac-e6838c709ba0",
   "metadata": {},
   "source": [
    "##### 1.5.10.1 Range `start` and `step`\n",
    "\n",
    "Besides the required `stop` argument, the range function can also take a `start` and/or a `step`. The order of the positional arguments is `(start, stop, step)`.  If `start` is not given, it defaults to `0`. If `step` is not given, it defaults to `1`.\n",
    "\n",
    "***Important note:*** the values in the range ***include*** the `start` (for most choices of `stop` and `step`, such as when `step > 0` and `stop > start`), but the  values in the range ***exclude*** the `stop` (always)."
   ]
  },
  {
   "cell_type": "code",
   "execution_count": null,
   "id": "9e712633-b427-4ed3-a82b-6d442a6db551",
   "metadata": {
    "tags": []
   },
   "outputs": [],
   "source": [
    "# which numbers are in this range object?\n",
    "r_even = range(10, 30, 2)"
   ]
  },
  {
   "cell_type": "markdown",
   "id": "9f88fd80-e3fb-4b16-a3b7-f05fdf9d9951",
   "metadata": {},
   "source": [
    "##### Exercise 1.5.10.1: Last item in a `range`\n",
    "\n",
    "What do you think is the last value in `r_even`? Convert it to a tuple and print it."
   ]
  },
  {
   "cell_type": "code",
   "execution_count": null,
   "id": "05a8a585-6f82-48b7-8bba-5c16b99f7b13",
   "metadata": {
    "tags": []
   },
   "outputs": [],
   "source": [
    "# Type your line of code on the line below:\n",
    "print(tuple(r_even))"
   ]
  },
  {
   "cell_type": "markdown",
   "id": "6235e8ef-1b1e-4aa5-9c15-c28e61ea7ba1",
   "metadata": {
    "jp-MarkdownHeadingCollapsed": true,
    "tags": []
   },
   "source": [
    "<details>\n",
    "    <summary><b>Solution</b></summary>\n",
    "    \n",
    "```python\n",
    "print(tuple(r_even))\n",
    "```\n",
    "It contains every other (`step=2`) integer from 10 (`start=10`) to 28, because it stops ***before*** (i.e. not including) 30 (`stop=30`)\n",
    "</details>"
   ]
  },
  {
   "cell_type": "markdown",
   "id": "9d2b1817-d1a6-441c-ae1e-268c470bf2c6",
   "metadata": {},
   "source": [
    "## Part 2: Python Objects <a id=\"objects\"></a>\n",
    "\n",
    "Data in Python is represented by [***objects***](https://docs.python.org/3/reference/datamodel.html). Every object has a [***type***](#type), an [***identity***](#identity), and a [***value***](#value).\n",
    "\n",
    "We have already seen many instances of checking that two objects have the same value by using `==`. We have also seen that two objects can have the same value even if they have different types (e.g. `1 == 1.0`), although this is [very uncommon](https://docs.python.org/3/library/stdtypes.html#comparisons) for non-numeric types.\n",
    "\n",
    "Next, we'll learn a little more about types. Then, we'll discuss identity."
   ]
  },
  {
   "cell_type": "markdown",
   "id": "f0bf7bcd-4c28-457d-ba70-4005d38a1952",
   "metadata": {},
   "source": [
    "### 2.1 Type <a id=\"type\"></a>\n",
    "\n",
    "Every object has a [***type***](https://docs.python.org/3/library/stdtypes.html). The type of an object determines what you can do with it. For example, you cannot add an integer and a string, but you can multiply an integer and a string. The type of an object also often indicates which attributes it has ([discussed shortly](#attributes)).\n",
    "\n",
    "The type of an object can be evaluated using the built-in function [***type( )***](https://docs.python.org/3/library/stdtypes.html#bltin-type-objects). However, to check that an object is a particular type, it is recommended to use the built-in function ***[isinstance](https://docs.python.org/3/library/functions.html#isinstance)***.  We have already seen several types, such as `int`, `float`, `bool`, `NoneType`, `str`, `list`, `tuple`, `dict`, `set`, and `range`."
   ]
  },
  {
   "cell_type": "markdown",
   "id": "2ef292f7-16e5-4dd0-85b5-62b2b07d25c2",
   "metadata": {},
   "source": [
    "#### 2.1.1 Instantiation <a id=\"instantiation\"></a>\n",
    "\n",
    "One of the types that we have not seen yet is `complex`.  We can create an [***instance***](https://docs.python.org/3/tutorial/classes.html#instance-objects) of an object of type `complex` by calling the [***complex( )***](https://docs.python.org/3/library/functions.html#complex) [class object](https://docs.python.org/3/tutorial/classes.html#class-objects) with two arguments: the real and imaginary parts. This is called ***instantiation***. Since the call to the class evaluates to a value (a new instance of the class), it is an [expression](#expressions); it's called an **[object constructor expression](https://docs.python.org/3/reference/datamodel.html#object.__new__)**.  We could also call `complex( )` with a string argument that represents the complex number.  In general, different class objects accept different arguments for instantiation.  If you're not sure which arguments a class object accepts, you can refer to the documentation, or try some guesses and see if they work."
   ]
  },
  {
   "cell_type": "code",
   "execution_count": null,
   "id": "4a63e781-fadd-4491-85a4-246d93b4eb07",
   "metadata": {
    "tags": []
   },
   "outputs": [],
   "source": [
    "# Create an instance of type complex, which has real part=2 and imaginary part=3.\n",
    "z1 = complex(2, 3)\n",
    "z2 = complex('2+3j') # equivalent\n",
    "print(z1 == z2)"
   ]
  },
  {
   "cell_type": "markdown",
   "id": "becaa214-7748-4014-9a46-baa64e4ff1ff",
   "metadata": {},
   "source": [
    "Print a string representation of `z`. Note that Python uses `j` instead of `i` for the imaginary unit."
   ]
  },
  {
   "cell_type": "code",
   "execution_count": null,
   "id": "0fbe671d-240d-41be-9d8c-3e1a62b0adc1",
   "metadata": {
    "tags": []
   },
   "outputs": [],
   "source": [
    "# print the value of z\n",
    "print(z1)\n",
    "print(z2)"
   ]
  },
  {
   "cell_type": "code",
   "execution_count": null,
   "id": "7d24341e-8ded-4ae1-84fb-ec56420c98c1",
   "metadata": {
    "tags": []
   },
   "outputs": [],
   "source": [
    "# print the type of object that `z` is\n",
    "print(type(z1))\n",
    "print(type(z2))\n",
    "print(isinstance(z1, complex))"
   ]
  },
  {
   "cell_type": "markdown",
   "id": "e3fb1c8c-2e76-485c-a5ae-e2c3d896a41b",
   "metadata": {},
   "source": [
    "Note that an object's type is data, so it is also an object, and has a type. Its type is `type`."
   ]
  },
  {
   "cell_type": "code",
   "execution_count": null,
   "id": "da552ef2-24c3-4d19-9b50-1a79c9ccbc2c",
   "metadata": {
    "tags": []
   },
   "outputs": [],
   "source": [
    "print(type(type(z1)))"
   ]
  },
  {
   "cell_type": "markdown",
   "id": "26af1f3e-0d68-4ede-af8f-d28b21a1fbeb",
   "metadata": {},
   "source": [
    "In Python, some people say that \"Everything is an object.\""
   ]
  },
  {
   "cell_type": "code",
   "execution_count": null,
   "id": "7e900df0-1981-456f-80c2-1f0bd0399626",
   "metadata": {
    "tags": []
   },
   "outputs": [],
   "source": [
    "# print is a built-in function\n",
    "type(print)"
   ]
  },
  {
   "cell_type": "markdown",
   "id": "08b5e348-4cf2-49ed-a808-1bf0c3bbc301",
   "metadata": {},
   "source": [
    "But that is a little over zealous:"
   ]
  },
  {
   "cell_type": "code",
   "execution_count": null,
   "id": "21c21c6e-665e-47fd-ba0b-93428cb1abc2",
   "metadata": {
    "tags": []
   },
   "outputs": [],
   "source": [
    "type(+)"
   ]
  },
  {
   "cell_type": "markdown",
   "id": "0c8176a9-a320-475b-a5b2-c334a7b3d0e5",
   "metadata": {},
   "source": [
    "#### 2.1.2 Conversion <a id=\"conversion\"></a>\n",
    "\n",
    "Class objects can also be called to *convert* an object to a different type - although it does **not** actually change the original object (an object's type ***cannot*** be changed), rather it creates a ***new*** object. The original object is passed to the **[`__init__( )`](https://docs.python.org/3/reference/datamodel.html#object.__init__)** method of the new instance, in order to initialize the new instance.  For example, passing an object to **[str( )](https://docs.python.org/3/library/functions.html#func-str)** makes a string version of the object."
   ]
  },
  {
   "cell_type": "code",
   "execution_count": null,
   "id": "96b3ecb1-388b-46e8-a7d4-6874ad54a2e4",
   "metadata": {},
   "outputs": [],
   "source": [
    "# Create an instance of type str\n",
    "txt = str(3.14159)\n",
    "print(txt)\n",
    "print(type(txt))\n",
    "print(isinstance(txt, str))"
   ]
  },
  {
   "cell_type": "code",
   "execution_count": null,
   "id": "53f63e45-02f6-4384-9fe7-0a0c9182e3c0",
   "metadata": {
    "tags": []
   },
   "outputs": [],
   "source": [
    "# Create an instance of type float\n",
    "alot = float('Infinity')\n",
    "print(alot)\n",
    "print(type(alot))\n",
    "print(isinstance(alot, float))"
   ]
  },
  {
   "cell_type": "code",
   "execution_count": null,
   "id": "40061ba7-0b66-4b83-b8b0-a315d91eaf75",
   "metadata": {
    "tags": []
   },
   "outputs": [],
   "source": [
    "# Create an instance of type tuple\n",
    "#   then create an instance of type dict, using that tuple, which is hashable, as a key\n",
    "favorite_book = tuple([\"The Hitchhiker's Guide to the Galaxy\", 1979])\n",
    "book_authors = dict(favorite_book=\"Douglas Adams\")\n",
    "\n",
    "print(favorite_book, type(favorite_book))\n",
    "print(book_authors, type(book_authors))"
   ]
  },
  {
   "cell_type": "markdown",
   "id": "7986afc3-2da9-4646-8802-0e7dfd7696d9",
   "metadata": {},
   "source": [
    "#### 2.1.3 Type vs Class <a id=\"type_vs_class\"></a>\n",
    "\n",
    "This is getting into the weeds, so feel free to skip it, but if you are at all confused about the difference between a `type` and a `class`, this section will try to provide a little clarity (or make you more confused).\n",
    "\n",
    "In Python 2, the built-in types like `int`, `float`, `list`, etc., were more different from user-defined [custom classes](https://docs.python.org/3/reference/datamodel.html#custom-classes) than they are in Python 3, but starting in [Python 2.2.3](https://www.python.org/download/releases/2.2.3/descrintro/) they were unified (mostly?). Now, if you make your own class named `MyClass`, then (unless you use a [metaclass](https://docs.python.org/3/reference/datamodel.html#metaclasses)) `type(int) == type(MyClass)`. In fact, the types are not just equal, `type(int) is type(MyClass)` because `type(int) is type` and `type(MyClass) is type`. As we said above, a class object can be used to create instances of the class. Well, every object is an instance of a class (or multiple classes, through inheritance), so class objects are instances of a [metaclass](https://docs.python.org/3/reference/datamodel.html#metaclasses), and the default metaclass is [type](https://docs.python.org/3/reference/datamodel.html#metaclasses). In fact, type is the mother of all metaclasses, in that for ***every*** object `x`, `isinstance(type(x), type)` is True.\n",
    "\n",
    "The built-in function [type( )](https://docs.python.org/3/library/functions.html#type) returns the type of an object, which according to the documentation at that link is ***generally the same object as returned by*** `object.__class__`, which is the name of the class used to instantiate the object. The `type` of the object ***is*** its `class`.\n",
    "\n",
    "We'll discuss ***[classes](#classes)*** much later, but you can create your own user-defined class using a [class definition](https://docs.python.org/3/tutorial/classes.html#class-definition-syntax). The object created by a class definition is referred to as a ***class object***, just like the object created by a function definition is  referred to as a ***function object***, but there is a confusing difference: the type of the function object is `function`, whereas the type of the class object is `type`. There is no `class` type.\n",
    "\n",
    "If all of this is confusing, it would probably be best to think of ***type*** and ***class*** as synonyms for now, while keeping in mind the difference in syntax: the  built-in function [type( )](https://docs.python.org/3/library/functions.html#type) returns the type of an object, whereas user-defined classes are created with a [class definition](https://docs.python.org/3/reference/compound_stmts.html#class).\n",
    "\n",
    "Technically, the \"built-in function\" `type( )` is ***not*** a function object, it ***is*** the metaclass object `type`, which when called with one argument returns the type of an object as stated earlier, but when called with three arguments creates a new instance of type type, i.e. a class!  This can be used for dynamic creation of class objects."
   ]
  },
  {
   "cell_type": "code",
   "execution_count": null,
   "id": "84fae5b1-b72d-4dc1-8604-6843c1d87a8c",
   "metadata": {},
   "outputs": [],
   "source": [
    "# type is its own type:\n",
    "type(type) is type"
   ]
  },
  {
   "cell_type": "code",
   "execution_count": null,
   "id": "07103de9-a364-46ec-a8f4-d2bb0f5360e8",
   "metadata": {},
   "outputs": [],
   "source": [
    "# type is an instance of itself:\n",
    "isinstance(type, type)"
   ]
  },
  {
   "cell_type": "markdown",
   "id": "2a24b32d-44f5-485a-9357-48b4504fd9d3",
   "metadata": {
    "tags": []
   },
   "source": [
    "### 2.2 Attributes <a id=\"attributes\"></a>\n",
    "\n",
    "Objects can have [***attributes***](https://docs.python.org/3/glossary.html#term-attribute), which are other objects accessed using the ***dot*** notation: `obj.name`."
   ]
  },
  {
   "cell_type": "markdown",
   "id": "b95af965-53be-4477-aee4-a8a875645083",
   "metadata": {},
   "source": [
    "#### 2.2.1 Data attributes"
   ]
  },
  {
   "cell_type": "code",
   "execution_count": null,
   "id": "ce826c5f-8214-48c1-b0a1-98991d8f288d",
   "metadata": {
    "tags": []
   },
   "outputs": [],
   "source": [
    "# Our complex number `z` has an attribute named `imag`\n",
    "z = complex(2, 3)\n",
    "z.imag"
   ]
  },
  {
   "cell_type": "markdown",
   "id": "37623a20-5d00-43d9-a923-5ba4b81edaab",
   "metadata": {},
   "source": [
    "Notice that although the type of `z` is `complex`, the type of its `imag` attribute is `float`:"
   ]
  },
  {
   "cell_type": "code",
   "execution_count": null,
   "id": "39a7e0c4-15a5-4cd3-b466-1c4f962c72f1",
   "metadata": {
    "tags": []
   },
   "outputs": [],
   "source": [
    "type(z.imag)"
   ]
  },
  {
   "cell_type": "markdown",
   "id": "0f524a42-2e7e-4c8d-92c2-fa73f7458445",
   "metadata": {},
   "source": [
    "#### 2.2.2 Methods (method attributes) <a id=\"methods\"></a>\n",
    "\n",
    "Some attributes are functions. These are called [***methods***](https://docs.python.org/3/glossary.html#term-method)."
   ]
  },
  {
   "cell_type": "code",
   "execution_count": null,
   "id": "11599a27-e6e7-4424-9129-eff61052c3fc",
   "metadata": {
    "tags": []
   },
   "outputs": [],
   "source": [
    "# assign the conjugate method of `z` to the name `w`\n",
    "w = z.conjugate\n",
    "\n",
    "print(f\"w = {w}\")\n",
    "\n",
    "# the type is 'builtin_function_or_method'\n",
    "print(type(w))"
   ]
  },
  {
   "cell_type": "markdown",
   "id": "8a57fd61-6925-4559-bd24-1a5ae9a4efb2",
   "metadata": {},
   "source": [
    "#### 2.2.2.1 Calling a method <a id=\"call\"></a>\n",
    "\n",
    "If we wanted `w` to ***be*** the [***complex conjugate***](https://docs.python.org/3/library/numbers.html#numbers.Complex.conjugate) of `z`, rather than be the *method* that computes the complex conjugate of `z`, then we need to ***call*** that method (it returns the complex conjugate). In order to [***call***](https://docs.python.org/3/reference/expressions.html#calls) a method, you need to use parentheses `()` after the method, just like when calling any function (e.g. `f(x)`) or other [***callable***](https://docs.python.org/3/glossary.html#term-callable)."
   ]
  },
  {
   "cell_type": "code",
   "execution_count": null,
   "id": "e9fc6259-a73a-4b47-ae6f-055dd4b81030",
   "metadata": {
    "tags": []
   },
   "outputs": [],
   "source": [
    "# call the method `z.conjugate`, then assign the value returned to `w`\n",
    "w = z.conjugate()\n",
    "\n",
    "print(f\"w = {w}\")\n",
    "\n",
    "# the type of the value returned by the call to the method is 'complex'\n",
    "print(type(w))"
   ]
  },
  {
   "cell_type": "code",
   "execution_count": null,
   "id": "f04b260d-6f6b-44a5-a68e-e1e106f224bf",
   "metadata": {
    "tags": []
   },
   "outputs": [],
   "source": [
    "# Because it's often handy to print the name and value of an object,\n",
    "#   there's a syntax shortcut:\n",
    "print(f\"{w = }\")"
   ]
  },
  {
   "cell_type": "markdown",
   "id": "9ff7e66b-c3b7-4648-839d-e94f5ed0ad9b",
   "metadata": {},
   "source": [
    "##### Exercise 2.2.2.1: Methods\n",
    "\n",
    "More practice with attributes and methods"
   ]
  },
  {
   "cell_type": "code",
   "execution_count": null,
   "id": "d4310f20-492b-43a7-95f4-f04b0b4f6288",
   "metadata": {
    "tags": []
   },
   "outputs": [],
   "source": [
    "# NumPy is a very popular module for working with arrays\n",
    "#     note that NumPy must be installed, or you will get an error\n",
    "import numpy as np\n",
    "\n",
    "arr = np.array(range(12))\n",
    "print(arr)\n",
    "print(type(arr))"
   ]
  },
  {
   "cell_type": "markdown",
   "id": "64b8d620-d538-4576-a786-5c7d5aec95c2",
   "metadata": {},
   "source": [
    "***Exercise 2.2.2.1a: Print the value of the `shape` attribute of `arr`***"
   ]
  },
  {
   "cell_type": "code",
   "execution_count": null,
   "id": "d599e283-b5e7-433f-b5bf-731d40c090f9",
   "metadata": {
    "tags": []
   },
   "outputs": [],
   "source": [
    "# Type your code on the line below this comment:\n"
   ]
  },
  {
   "cell_type": "markdown",
   "id": "1d2ce84e-73b1-4737-9a09-27ad5758bb7a",
   "metadata": {
    "jp-MarkdownHeadingCollapsed": true,
    "tags": []
   },
   "source": [
    "<details>\n",
    "    <summary><b>Solution</b></summary>\n",
    "    \n",
    "```python\n",
    "print(arr.shape)\n",
    "```\n",
    "<br>\n",
    "    \n",
    "Or, since this is the only expression in the code cell, your code could just be `arr.shape`, and its value would output in an output cell below your code cell.\n",
    "</details>"
   ]
  },
  {
   "cell_type": "markdown",
   "id": "62e9d4d5-e31c-4c9d-a204-21ad6c7abca1",
   "metadata": {},
   "source": [
    "   ***Exercise 2.2.2.1b: What TYPE do you think it is?***\n",
    "\n",
    "Check to see if you are correct:"
   ]
  },
  {
   "cell_type": "code",
   "execution_count": null,
   "id": "bdade503-cc36-495e-8743-4c5d80e7210b",
   "metadata": {},
   "outputs": [],
   "source": [
    "# Type your code on the line below this comment:\n"
   ]
  },
  {
   "cell_type": "markdown",
   "id": "87888516-f5de-4d1e-b7b0-b540d20f1e00",
   "metadata": {
    "jp-MarkdownHeadingCollapsed": true,
    "tags": []
   },
   "source": [
    "<details>\n",
    "    <summary><b>Solution</b></summary>\n",
    "    \n",
    "```python\n",
    "type(arr.shape)\n",
    "```\n",
    "<br>\n",
    "    \n",
    "Its type is `tuple`.\n",
    "</details>"
   ]
  },
  {
   "cell_type": "markdown",
   "id": "0dc5e46e-6d5b-4a30-b7eb-e2da92cf7903",
   "metadata": {},
   "source": [
    "***Exercise 2.2.2.1c: Make the array 2d, by assigning (4,3) to the `shape` attribute***"
   ]
  },
  {
   "cell_type": "code",
   "execution_count": null,
   "id": "3520684c-d525-4b57-9937-adcc31400569",
   "metadata": {
    "tags": []
   },
   "outputs": [],
   "source": [
    "# Type your code on the line below this comment:\n",
    "\n",
    "\n",
    "# We'll print the array, to see if you were successful\n",
    "print(arr)"
   ]
  },
  {
   "cell_type": "markdown",
   "id": "4e0ffce4-4763-4089-be50-35a96a147f98",
   "metadata": {
    "jp-MarkdownHeadingCollapsed": true,
    "tags": []
   },
   "source": [
    "<details>\n",
    "    <summary><b>Solution</b></summary>\n",
    "    \n",
    "```python\n",
    "arr.shape = (4,3)\n",
    "```\n",
    "</details>"
   ]
  },
  {
   "cell_type": "markdown",
   "id": "1bd18454-0698-4b26-a4c0-94b593145161",
   "metadata": {},
   "source": [
    "***Exercise 2.2.2.1d: What is the average of all the values in the array?***\n",
    "\n",
    "Determine that by ***calling*** the `mean` method of `arr`."
   ]
  },
  {
   "cell_type": "code",
   "execution_count": null,
   "id": "bc490e47-aaf7-4d0b-87b3-a84623feecb3",
   "metadata": {},
   "outputs": [],
   "source": [
    "# Type your code on the line below this comment:\n"
   ]
  },
  {
   "cell_type": "markdown",
   "id": "73d66267-c560-4b5f-8940-0415b39f8272",
   "metadata": {
    "jp-MarkdownHeadingCollapsed": true,
    "tags": []
   },
   "source": [
    "<details>\n",
    "    <summary><b>Solution</b></summary>\n",
    "    \n",
    "```python\n",
    "arr.mean()\n",
    "```\n",
    "</details>"
   ]
  },
  {
   "cell_type": "markdown",
   "id": "9e6a2770-3a7c-45fc-8b05-c36658c91c04",
   "metadata": {},
   "source": [
    "***Exercise 2.2.2.1e: What are the column averages?***\n",
    "\n",
    "This time put `axis=0` inside the parentheses for the call to mean (passing in the argument `0` for the `axis` parameter), to find the column averages."
   ]
  },
  {
   "cell_type": "code",
   "execution_count": null,
   "id": "b0e9f544-f295-4ed8-8ae7-e204b3eec55b",
   "metadata": {
    "tags": []
   },
   "outputs": [],
   "source": [
    "# Type your code on the line below this comment:\n"
   ]
  },
  {
   "cell_type": "markdown",
   "id": "a0ac3651-f204-456c-8e72-68f3ad38254b",
   "metadata": {
    "jp-MarkdownHeadingCollapsed": true,
    "tags": []
   },
   "source": [
    "<details>\n",
    "    <summary><b>Solution</b></summary>\n",
    "    \n",
    "```python\n",
    "arr.mean(axis=0)\n",
    "```\n",
    "</details>"
   ]
  },
  {
   "cell_type": "markdown",
   "id": "aa5a1052-b260-4828-ab15-10dd431813cc",
   "metadata": {},
   "source": [
    "#### 2.2.3 Use `dir` to list attributes <a id=\"dir\"></a>\n",
    "\n",
    "You can use the built-in function [***dir( )***](https://docs.python.org/3/library/functions.html#dir) to list the attributes of an object, both the data attributes and the method attributes.  Attributes with names that have leading and trailing double underscores (referred to as [***dunder names***](https://docs.python.org/3/reference/lexical_analysis.html#reserved-classes-of-identifiers)) are not meant to be used directly, although they can be."
   ]
  },
  {
   "cell_type": "code",
   "execution_count": null,
   "id": "bf2b22ae-1c69-42bf-a201-9a6b6176f142",
   "metadata": {
    "tags": []
   },
   "outputs": [],
   "source": [
    "# List the attributes of our NumPy array\n",
    "dir(arr)"
   ]
  },
  {
   "cell_type": "markdown",
   "id": "e7413ee4-cd4b-4d2f-8d92-8ebb683af96e",
   "metadata": {
    "tags": []
   },
   "source": [
    "### 2.3 Identity and Naming <a id=\"identity\"></a>\n",
    "\n",
    "Every object has an [***identity***](https://docs.python.org/3/library/functions.html#id), an integer which is guaranteed to stay the same over the life of the object, and which is returned from a call to the `id()` function with the object as the only argument.  Different objects have different identities, even if they have the same values."
   ]
  },
  {
   "cell_type": "code",
   "execution_count": null,
   "id": "5eff248e-19ac-4745-8d7b-901d2f27f2be",
   "metadata": {
    "tags": []
   },
   "outputs": [],
   "source": [
    "# Create a list, and print its id\n",
    "a = [7, 8, 9]\n",
    "print(id(a))"
   ]
  },
  {
   "cell_type": "code",
   "execution_count": null,
   "id": "6d3fe012-1c5c-480e-8f50-4258eb827433",
   "metadata": {
    "tags": []
   },
   "outputs": [],
   "source": [
    "# Create another list\n",
    "b = [7, 8, 9]\n",
    "\n",
    "# check if the two lists are equal (have the same value)\n",
    "print(a == b)"
   ]
  },
  {
   "cell_type": "markdown",
   "id": "cedbbe39-5722-4743-bbd9-6cbb55a185c0",
   "metadata": {
    "tags": []
   },
   "source": [
    "#### 2.3.1 Testing identity with `is` <a id=\"is_keyword\"></a>\n",
    "\n",
    "You can test if two names refer to the same object using the keyword [***is***](https://docs.python.org/3/reference/expressions.html#is)."
   ]
  },
  {
   "cell_type": "code",
   "execution_count": null,
   "id": "f01e8839-50e6-4c73-8969-e44125d5eaf6",
   "metadata": {
    "tags": []
   },
   "outputs": [],
   "source": [
    "# Check if the two names refer to the SAME list\n",
    "print(a is b)"
   ]
  },
  {
   "cell_type": "code",
   "execution_count": null,
   "id": "1bdc3fe2-d858-4e8e-9ca0-3eba68c56b09",
   "metadata": {
    "tags": []
   },
   "outputs": [],
   "source": [
    "# You can see they are different by inspecting their ids\n",
    "print(id(a))\n",
    "print(id(b))"
   ]
  },
  {
   "cell_type": "markdown",
   "id": "23396766-0ea1-42d7-bcc4-977cd8489940",
   "metadata": {
    "tags": []
   },
   "source": [
    "#### 2.3.1.1 Mutating does not change identity\n",
    "\n",
    "If we change which items a list contains, that does not change its id, which is guaranteed to stay the same over the life of the object. ***Mutating does not change the identity***."
   ]
  },
  {
   "cell_type": "code",
   "execution_count": null,
   "id": "ea05177d-fd6b-41b0-917f-5027f41e9f8d",
   "metadata": {
    "tags": []
   },
   "outputs": [],
   "source": [
    "b[2] = 10\n",
    "print(b)\n",
    "print(id(b))"
   ]
  },
  {
   "cell_type": "markdown",
   "id": "8c4eb9f4-c974-4540-97a9-cf98d998769a",
   "metadata": {
    "tags": []
   },
   "source": [
    "#### 2.3.2 Objects can have multiple names <a id=\"two_names\"></a>\n",
    "\n",
    "[Assignment statements in Python do not copy objects](https://docs.python.org/3/library/copy.html), they bind names."
   ]
  },
  {
   "cell_type": "code",
   "execution_count": null,
   "id": "5767a07f-c939-4371-b12b-e8ebcf8cf2d2",
   "metadata": {
    "tags": []
   },
   "outputs": [],
   "source": [
    "# Bind the name `c` to the object named `a`. Now it has (at least) two names.\n",
    "c = a\n",
    "\n",
    "print(a is c)"
   ]
  },
  {
   "cell_type": "markdown",
   "id": "0ac75a77-b901-4199-9071-eb2d376647d3",
   "metadata": {},
   "source": [
    "##### Exercise 2.3.2.1: a list by any other name ..."
   ]
  },
  {
   "cell_type": "code",
   "execution_count": null,
   "id": "47c898a8-e97e-4880-9496-8c648790cfd5",
   "metadata": {
    "tags": []
   },
   "outputs": [],
   "source": [
    "# Change the last entry in the list `a` to have the value 'cat'\n",
    "\n",
    "\n",
    "# We'll print `a` to see if you were successful\n",
    "print(a)"
   ]
  },
  {
   "cell_type": "markdown",
   "id": "64e72341-2356-4e4f-976c-b07e6603cde8",
   "metadata": {
    "jp-MarkdownHeadingCollapsed": true,
    "tags": []
   },
   "source": [
    "<details>\n",
    "    <summary><b>Solution</b></summary>\n",
    "    \n",
    "```python\n",
    "a[-1] = 'cat'\n",
    "```\n",
    "</details>"
   ]
  },
  {
   "cell_type": "markdown",
   "id": "190fa1b1-43fe-4c8e-b5e3-c9def0ba681d",
   "metadata": {},
   "source": [
    "***What*** do you think the output of the following print function will be?"
   ]
  },
  {
   "cell_type": "code",
   "execution_count": null,
   "id": "96142d09-ba3a-4c3d-b22d-3e751a5b1bdd",
   "metadata": {
    "tags": []
   },
   "outputs": [],
   "source": [
    "# Predict the output before running the cell\n",
    "print(c)"
   ]
  },
  {
   "cell_type": "markdown",
   "id": "a0519957-24e5-4ad6-ae46-bf93857a9c10",
   "metadata": {
    "jp-MarkdownHeadingCollapsed": true,
    "tags": []
   },
   "source": [
    "<details>\n",
    "    <summary><b>Remember</b></summary>\n",
    "    \n",
    "Changing the last entry in the list named `a` (mutating that list) also changed the last entry in the list named `c`, because ***they are the same list!***. There is only one list, but it has two names: `a` and `c`. \n",
    "    \n",
    "Executing the assignment statement `c = a`, does ***NOT*** create a second list.  It only binds the name `c` to the list named `a`, giving it a second name.\n",
    "</details>"
   ]
  },
  {
   "cell_type": "markdown",
   "id": "1ced0912-cd48-43ee-b8fd-52056fc5458d",
   "metadata": {
    "tags": []
   },
   "source": [
    "#### 2.3.3 The `list.copy()` method <a id=\"list_copy\"></a>\n",
    "\n",
    "If we want to ***COPY*** a list, instead of giving it another name, then we can use the `copy()` method on the list that we want to copy.  That ***will*** create a ***new*** list.  The new list will have the same value, but it will ***not*** have the same id, since it is a ***different*** list.  Note that the `copy()` method creates a [***shallow***](https://docs.python.org/3/library/copy.html#module-copy) copy, meaning that it does ***not*** copy the items in the list. It is a new list that contains the ***same*** items."
   ]
  },
  {
   "cell_type": "code",
   "execution_count": null,
   "id": "a0806f98-9c5c-49ee-b70f-1b3b2b7ea038",
   "metadata": {
    "tags": []
   },
   "outputs": [],
   "source": [
    "# make a copy of the list named `a`, and name that new list `d`\n",
    "d = a.copy()"
   ]
  },
  {
   "cell_type": "code",
   "execution_count": null,
   "id": "390a77a7-e5d5-456f-8323-ffa7dffd348e",
   "metadata": {
    "tags": []
   },
   "outputs": [],
   "source": [
    "# Now change the second entry in the list `a` to have the value [3, 4]\n",
    "a[1] = [3,4]\n",
    "\n",
    "# We'll print `a` to see if you were successful\n",
    "print(a)"
   ]
  },
  {
   "cell_type": "markdown",
   "id": "b831d0e6-90fc-45fd-ae27-e7ee19c0d3b3",
   "metadata": {},
   "source": [
    "##### Exercise 2.3.3.1: Mutating an item in a copy\n",
    "\n",
    "What do you think the output of the following print function will be?"
   ]
  },
  {
   "cell_type": "code",
   "execution_count": null,
   "id": "04697127-4597-4a5c-94d0-5f02aa829165",
   "metadata": {
    "tags": []
   },
   "outputs": [],
   "source": [
    "# Predict the output before running the cell\n",
    "print(d)"
   ]
  },
  {
   "cell_type": "markdown",
   "id": "bb39f89c-5f00-4d50-9911-36761c479eb6",
   "metadata": {
    "jp-MarkdownHeadingCollapsed": true,
    "tags": []
   },
   "source": [
    "<details>\n",
    "    <summary><b>Solution</b></summary>\n",
    "    \n",
    "Mutating the list `a` (i.e. changing which items it contains) did not mutate the list `d` because they are ***different*** lists.\n",
    "</details>"
   ]
  },
  {
   "cell_type": "markdown",
   "id": "7ad34c99-501e-4b97-a0d2-9862be318647",
   "metadata": {},
   "source": [
    "#### 2.3.4 Deep copy <a id=\"deep_copy\"></a>\n",
    "\n",
    "You can use the [***deepcopy***](https://docs.python.org/3/library/copy.html#copy.deepcopy) function in the `copy` module in order to completely copy an object, including making copies of all of the objects it contains, and those contain, etc.  Note that for large objects which contain many nested objects this can take a longe time, so only make a deep copy when you really need one."
   ]
  },
  {
   "cell_type": "code",
   "execution_count": null,
   "id": "3cd975e0-9b1b-4df9-8f0b-795c0f587ce5",
   "metadata": {
    "tags": []
   },
   "outputs": [],
   "source": [
    "# Let's make a copy of the list `a`\n",
    "e = a.copy()\n",
    "\n",
    "# print the values and ids of the objects in the list `e`:\n",
    "print(f\"{e[0]} has id {id(e[0])}\")\n",
    "print(f\"{e[1]} has id {id(e[1])}\")\n",
    "print(f\"{e[2]} has id {id(e[2])}\")"
   ]
  },
  {
   "cell_type": "code",
   "execution_count": null,
   "id": "e55866d8-4194-4f43-af6f-d9bbcd213a84",
   "metadata": {
    "tags": []
   },
   "outputs": [],
   "source": [
    "# The second entry in the list `a` is [3, 4]\n",
    "# Let's change the first entry in that list to 'whoa'\n",
    "a[1][0] = 'Whoa'\n",
    "\n",
    "# We'll print `a` to see if you were successful\n",
    "print(a)"
   ]
  },
  {
   "cell_type": "markdown",
   "id": "d9167ab2-f301-4b2d-8ee4-82b57d973c1e",
   "metadata": {},
   "source": [
    "##### Exercise 2.3.4.1: Mutating an item in a copy\n",
    "\n",
    "What do you think the output of the following print function will be?"
   ]
  },
  {
   "cell_type": "code",
   "execution_count": null,
   "id": "62179ea8-8e40-4831-bc01-7a7a1c107ca1",
   "metadata": {
    "tags": []
   },
   "outputs": [],
   "source": [
    "# Predict the output before running the cell\n",
    "print(e)"
   ]
  },
  {
   "cell_type": "markdown",
   "id": "1a3a57b0-a676-44e1-a935-44ac9637a9f2",
   "metadata": {
    "jp-MarkdownHeadingCollapsed": true,
    "tags": []
   },
   "source": [
    "<details>\n",
    "    <summary><b>Remember</b></summary>\n",
    "    \n",
    "We made a copy of the list `a` and named that copy `e`. If we had assigned a new object to be the second item in `a` (i.e. mutated `a`), that object would ***not*** become the second item in `e`, since they are different lists: mutating `a` does not mutate `e`.\n",
    "    \n",
    "However, both list `a` and list `e` contain the same list as their second item.  The assignment statement `a[1][0] = 'Whoa'` mutated ***that*** list.  It did not mutate `a`, which contains the same objects that it did before that assignment statement was executed.  \n",
    "    \n",
    "Since `e` also contains ***that*** list, we see the mutation when we `print(e)`.\n",
    "</details>"
   ]
  },
  {
   "cell_type": "markdown",
   "id": "83e55e42-cea6-4711-90bc-896f2d394e25",
   "metadata": {},
   "source": [
    "We [did not mutate](#immutable_containers) `e`, it is still a list of the same three objects (their `id` have not changed from before). However, the value of one of its (mutable) objects has changed:"
   ]
  },
  {
   "cell_type": "code",
   "execution_count": null,
   "id": "4ab22f8e-806e-413b-b354-1f1f13b0f07a",
   "metadata": {
    "tags": []
   },
   "outputs": [],
   "source": [
    "# print the values and ids of the objects in the list `e`:\n",
    "print(f\"{e[0]} has id {id(e[0])}\")\n",
    "print(f\"{e[1]} has id {id(e[1])}\")\n",
    "print(f\"{e[2]} has id {id(e[2])}\")"
   ]
  },
  {
   "cell_type": "markdown",
   "id": "a785f4bd-99ec-48ca-853b-d69204ba344b",
   "metadata": {},
   "source": [
    "A regular copy of a container (like a list) is a ***different*** container that contains the ***same*** items.  If any of the items are mutable, then mutations to the items are visible in both containers.\n",
    "\n",
    "In order to make sure that ***NO CHANGES*** to an object effect a second copy of that object, not even mutating one of its mutable items, then we need to make that second copy a ***deepcopy***.\n",
    "\n",
    "A deep copy of a container (like a list) is a ***different*** container that contains ***different*** items (which are themselves deep copies of the items in the original container).\n",
    "\n",
    "Notice the recursive nature of the deep copy.  For deeply nested data structures, making a deep copy can take a long time."
   ]
  },
  {
   "cell_type": "code",
   "execution_count": null,
   "id": "452dbe14-df84-417c-b65c-5b65d93d9bc3",
   "metadata": {
    "tags": []
   },
   "outputs": [],
   "source": [
    "import copy\n",
    "\n",
    "# make a DEEPCOPY of `a`\n",
    "f = copy.deepcopy(a)\n",
    "print(f)"
   ]
  },
  {
   "cell_type": "code",
   "execution_count": null,
   "id": "2cc5c0d0-c85b-4177-a86d-a2b717cb3a70",
   "metadata": {
    "tags": []
   },
   "outputs": [],
   "source": [
    "# Now changes to `a` will not affect `f`\n",
    "a[1][1] = 'Nellie!'\n",
    "\n",
    "print(a)\n",
    "print(f)"
   ]
  },
  {
   "cell_type": "markdown",
   "id": "62dd5ca3-b31c-4550-84a6-bf73d51c86c1",
   "metadata": {},
   "source": [
    "#### 2.3.5 Immutable objects may unexpectedly be the same <a id=\"only_one_None\"></a>\n",
    "\n",
    "The following case rarely comes up, but here is its explanation in case it does.\n",
    "\n",
    "The following two assignment statements cause two ***different*** objects to be stored in memory:\n",
    "```python\n",
    "a = [1, 2, 3]\n",
    "b = [1, 2, 3]\n",
    "```\n",
    "Python ***must*** make these different lists, because it does not know if you will change them to have different values later.\n",
    "\n",
    "However, the same is not true for ***immutable*** objects.  An implementation of Python is free to use the same immutable object every time you bind a name to it, since you can never change its value. This can save memory; for example, so that `None` is not stored in memory ***many*** times unnecessarily:"
   ]
  },
  {
   "cell_type": "code",
   "execution_count": null,
   "id": "a4b9358d-a69e-4eea-81b6-e62296510eb9",
   "metadata": {
    "tags": []
   },
   "outputs": [],
   "source": [
    "a = None\n",
    "b = None\n",
    "a is b"
   ]
  },
  {
   "cell_type": "markdown",
   "id": "ca300a88-aec5-49f4-846b-0d3d0da63934",
   "metadata": {
    "tags": []
   },
   "source": [
    "## Part 3: Control Flow <a id=\"control_flow\"></a>\n",
    "In this part we will go over the syntax used to [***control the flow***](https://docs.python.org/3/tutorial/controlflow.html) of a program, such as iteration, looping, and conditional branching."
   ]
  },
  {
   "cell_type": "markdown",
   "id": "eee6a1a3-1223-4a5a-8fb6-54c797d7c7c3",
   "metadata": {},
   "source": [
    "### 3.1 `if` statements <a id=\"if_keyword\"></a>\n",
    "\n",
    "To have code execute conditionaly, use the [***if***](https://docs.python.org/3/tutorial/controlflow.html#if-statements) keyword, followed by an expression (the condition), then a colon, then the code in a block (called the [***suite***](https://docs.python.org/3/reference/compound_stmts.html#grammar-token-python-grammar-suite)) ***indented*** by four spaces, such as:\n",
    "```python\n",
    "if some_expression:\n",
    "    suite\n",
    "```\n",
    "The code in the suite will execute if and only if the expression evaluates as [truthy](#truth_value).\n",
    "\n",
    "Note that when writing code in a Jupyter notebook (or other IDE), pressing enter after typing the colon after the condition automatically indents the cursor.  \n",
    "\n",
    "Failure to include an indented block of code results in an <font color='red'>IndentationError</font>.\n",
    "\n",
    "Many other programming languages use delimiters like curly braces `{}` to denote a block of text, but Python uses [***indentation***](https://docs.python.org/3/reference/lexical_analysis.html#indentation).\n",
    "\n",
    "Note: there is also a different notion of a code [***block***](https://docs.python.org/3/reference/executionmodel.html#structure-of-a-program) in Python, which is ***not*** what is meant here by an *indented block of code*. Here we are only referring to code that has the same [***level of indentation***](https://docs.python.org/3/reference/lexical_analysis.html#indentation), which is how the grouping of statements is determined.\n",
    "\n",
    "Let's look at some examples:"
   ]
  },
  {
   "cell_type": "code",
   "execution_count": null,
   "id": "681ffa08-740b-4560-9b80-4d78ea9fd090",
   "metadata": {
    "tags": []
   },
   "outputs": [],
   "source": [
    "# this `if` statement is NOT followed by an indented block of code, so it will raise an error\n",
    "if True:\n",
    "    \n",
    "a = 1"
   ]
  },
  {
   "cell_type": "code",
   "execution_count": null,
   "id": "4944765e-b3d4-43bf-b0f1-a7faf355a659",
   "metadata": {
    "tags": []
   },
   "outputs": [],
   "source": [
    "guess = 99\n",
    "\n",
    "if guess < 42:\n",
    "    # this is INSIDE the block of code that ONLY executes when `guess < 42` is True.\n",
    "    print(\"Too low!\") \n",
    "print(\"Have a nice day!\") # This is not inside that block of code"
   ]
  },
  {
   "cell_type": "markdown",
   "id": "1962d96f-b641-4eea-83a9-8d21d6e46d56",
   "metadata": {},
   "source": [
    "##### Exercise 3.1: `if`\n",
    "\n",
    "Change the value of `guess` to `13` and run the cell again. What changed?"
   ]
  },
  {
   "cell_type": "markdown",
   "id": "421c0fe2-4732-4699-a5c9-c0c2e8191b07",
   "metadata": {
    "jp-MarkdownHeadingCollapsed": true,
    "tags": []
   },
   "source": [
    "<details>\n",
    "    <summary><b>Solution</b></summary>\n",
    "    \n",
    "With `guess = 13`, the expression `guess < 42` evaluates to `True`, so the code in the suite is executed, printing `\"Too low!\"`.\n",
    "</details>"
   ]
  },
  {
   "cell_type": "markdown",
   "id": "2369b904-c431-4299-9d9e-87e2f639dafb",
   "metadata": {},
   "source": [
    "#### 3.1.1 `else` clause <a id=\"else_keyword\"></a>\n",
    "\n",
    "You can optionally include an `else` clause. If present, it must include an indented block of code, as in:\n",
    "```python\n",
    "if some_expression:\n",
    "    suite1\n",
    "else:\n",
    "    suite2\n",
    "```\n",
    "When there are not any `elif` clauses, the suite in the `else` clause executes if and only if the expression in the `if` statement evaluates as [falsy](#truth_value)."
   ]
  },
  {
   "cell_type": "code",
   "execution_count": null,
   "id": "21d0fd1d-8834-4cad-87a2-8dc2d1c1dda5",
   "metadata": {
    "tags": []
   },
   "outputs": [],
   "source": [
    "# You can also have an `else` block:\n",
    "\n",
    "guess = 99\n",
    "\n",
    "if guess < 42:\n",
    "    print(\"Too low!\")\n",
    "else:\n",
    "    print(\"Too high!\")\n",
    "print(\"Have a nice day!\")"
   ]
  },
  {
   "cell_type": "markdown",
   "id": "a7fc557a-33b0-48a8-8779-23ee9d18b539",
   "metadata": {},
   "source": [
    "#### 3.1.2 `elif` clause <a id=\"elif_keyword\"></a>\n",
    "\n",
    "You can optionally include as many `elif` clauses as you want. If present, they must include an indented block of code. The first `elif` that has an expression which evaluates as truthy will have its suite executed.  Any remaining `elif` clauses or `else` clause is ignored.  When there are `elif` clause(s) and an `else` clause, the suite in the `else` clause executes if and only if all of the expressions in the `if` statement and all `elif` clause(s) evaluate as falsy. You do not need to have an `else` block to have `elif` block(s)."
   ]
  },
  {
   "cell_type": "code",
   "execution_count": null,
   "id": "3bf83739-880a-427e-864c-75251e8a3499",
   "metadata": {
    "tags": []
   },
   "outputs": [],
   "source": [
    "# of course, the guessing game above is RIGGED!\n",
    "\n",
    "# we can add an `elif` clause to make the game possible to win:\n",
    "guess = 99\n",
    "\n",
    "if guess < 42:\n",
    "    print(\"Too low!\")\n",
    "elif guess > 42:\n",
    "    print(\"Too high!\")\n",
    "else:\n",
    "    print(\"You win!\")\n",
    "print(\"Have a nice day!\")"
   ]
  },
  {
   "cell_type": "markdown",
   "id": "fe862d8b-e9dc-4187-b8a9-f0cf64f34dfe",
   "metadata": {},
   "source": [
    "##### Exercise 3.1.2.1: `elif`\n",
    "\n",
    "Predict the output of the following code cell.  Then run it to see if you are correct."
   ]
  },
  {
   "cell_type": "code",
   "execution_count": null,
   "id": "46709317-7de1-4014-9904-338336f4f8e9",
   "metadata": {
    "tags": []
   },
   "outputs": [],
   "source": [
    "# we can add as many `elif` clauses as we want\n",
    "guess = 99\n",
    "\n",
    "if guess < 10:\n",
    "    print(\"Way too low!\")\n",
    "elif guess < 42:\n",
    "    print(\"Too low!\")\n",
    "elif guess > 90:\n",
    "    print(\"Way too high!\")\n",
    "elif guess > 42:\n",
    "    print(\"Too high!\")\n",
    "else:\n",
    "    print(\"You win!\")\n",
    "print(\"Have a nice day!\")"
   ]
  },
  {
   "cell_type": "markdown",
   "id": "77f6b6f6-4c69-4980-be31-181a2a6096f2",
   "metadata": {},
   "source": [
    "##### Exercise 3.1.2.2: more `elif`\n",
    "\n",
    "Change the value of guess multiple times, getting each print statement to print.\n",
    "\n",
    "Can you get **\"Way too high!\"** AND **\"Too high!\"** to print?"
   ]
  },
  {
   "cell_type": "markdown",
   "id": "8166588c-4b90-416b-88ae-45e6255e3b67",
   "metadata": {
    "jp-MarkdownHeadingCollapsed": true,
    "tags": []
   },
   "source": [
    "<details>\n",
    "    <summary><b>Solution</b></summary>\n",
    "    \n",
    "You should be able to get each print function to execute by choosing an appropriate number for `guess`, but you ***cannot*** get `\"Way too high!\"` ***and*** `\"Too high!\"` to print at the same time, because once the condition in an `elif` evaluates as true, the rest of the `elif` are skipped.\n",
    "</details>"
   ]
  },
  {
   "cell_type": "markdown",
   "id": "1bc5a432-708d-4fb1-8148-3974a85050a0",
   "metadata": {},
   "source": [
    "##### Exercise 3.1.2.3: why use `elif`?\n",
    "\n",
    "Why do we need `elif`?  Why not just use multiple `if` statements?\n",
    "\n",
    "Predict the output of the following cell. Then run it to see if you are correct."
   ]
  },
  {
   "cell_type": "code",
   "execution_count": null,
   "id": "d9f6127a-8403-4838-b4d5-ac3f29ee4e32",
   "metadata": {
    "tags": []
   },
   "outputs": [],
   "source": [
    "# we can add as many `elif` blocks as we want\n",
    "guess = 99\n",
    "\n",
    "if guess < 10:\n",
    "    print(\"Way too low!\")\n",
    "if guess < 42:\n",
    "    print(\"Too low!\")\n",
    "if guess > 90:\n",
    "    print(\"Way too high!\")\n",
    "if guess > 42:\n",
    "    print(\"Too high!\")\n",
    "else:\n",
    "    print(\"You win!\")\n",
    "print(\"Have a nice day!\")"
   ]
  },
  {
   "cell_type": "markdown",
   "id": "63b64b64-6a58-4257-8f53-4339ff88efb0",
   "metadata": {
    "jp-MarkdownHeadingCollapsed": true,
    "tags": []
   },
   "source": [
    "<details>\n",
    "    <summary><b>Solution</b></summary>\n",
    "    \n",
    "Every `if` statement with a condition that evaluates as true will have its block of code executed. Sometimes that is what you want to happen. If so, use multiple `if` statements.\n",
    "    \n",
    "When you want to ensure that exactly ***one*** block of code executes, use the `if`-`elif`-`else` construct.\n",
    "</details>"
   ]
  },
  {
   "cell_type": "markdown",
   "id": "4ccaeef8-a802-46dc-9c88-79d324a88932",
   "metadata": {
    "tags": []
   },
   "source": [
    "### 3.2 Truth Value Testing <a id=\"truth_value\"></a>\n",
    "\n",
    "Any expression can be used as the condition in an `if` statement or its `elif` and/or `else` clause(s), no matter what type of object it evaluates to (it does ***not*** need to evaluate to either of the `bool` types: `True` or `False`).\n",
    "\n",
    "The [***truth value***](https://docs.python.org/3/library/stdtypes.html#truth-value-testing) of most objects is true, in the sense that the code in the `if` block will execute (sometimes referred to as \"truthy\"). Besides `False`, the main built-in objects that are considered false are `None`, ***zero*** of any numeric type, or ***empty*** containers (lists, tuples, dictionaries, etc.); this is sometimes referred to as being \"falsy\"."
   ]
  },
  {
   "cell_type": "markdown",
   "id": "52f81e0b-24c2-4395-acea-dd458d7dc39b",
   "metadata": {},
   "source": [
    "##### Exercise 3.2.1: true or false\n",
    "\n",
    "Bind the name `answer` to an object of one of the types you learned so far and predict which statement will print before running the code cell. Then run it to see if you are correct. ***REPEAT*** for many different types of values."
   ]
  },
  {
   "cell_type": "code",
   "execution_count": null,
   "id": "d39b1e43-5bb5-49aa-84f0-64f2856a1dee",
   "metadata": {
    "tags": []
   },
   "outputs": [],
   "source": [
    "# bind the name `answer` to different values\n",
    "answer = \n",
    "\n",
    "# Is `answer` true? (not necessary True with a capital T)\n",
    "if answer:\n",
    "    print(\"It is True!\")\n",
    "else:\n",
    "    print(\"It is False!\")\n",
    "    \n",
    "print(answer)\n",
    "print(type(answer))"
   ]
  },
  {
   "cell_type": "markdown",
   "id": "c9f0dc30-f6f2-483c-bf2f-95f8eb46881e",
   "metadata": {
    "tags": []
   },
   "source": [
    "#### 3.2.1 Pythonic `if` statements <a id=\"pythonic_if\"></a>\n",
    "\n",
    "Rather than check if a number does not equal zero or a container has a positive length, in Python it is common to use the truth value of the objects directly."
   ]
  },
  {
   "cell_type": "code",
   "execution_count": null,
   "id": "f41bf994-25d7-4bd4-ac80-82f00a37fb69",
   "metadata": {
    "tags": []
   },
   "outputs": [],
   "source": [
    "# Rather than do this:\n",
    "N_STUDENTS = 0\n",
    "\n",
    "if N_STUDENTS != 0:\n",
    "    print(\"I have {N_STUDENTS} students.\")\n",
    "else:\n",
    "    print(\"I don't have any students.\")"
   ]
  },
  {
   "cell_type": "code",
   "execution_count": null,
   "id": "44fa4c20-4b89-4dd4-ade7-54f153ad54fd",
   "metadata": {
    "tags": []
   },
   "outputs": [],
   "source": [
    "# In Python, we can just use the value directly.\n",
    "N_STUDENTS = 0\n",
    "\n",
    "if N_STUDENTS:\n",
    "    print(\"I have {N_STUDENTS} students.\")\n",
    "else:\n",
    "    print(\"I don't have any students.\")"
   ]
  },
  {
   "cell_type": "code",
   "execution_count": null,
   "id": "1085ea2e-fbcb-48ad-a8fb-f9b704c8ba4d",
   "metadata": {
    "tags": []
   },
   "outputs": [],
   "source": [
    "# Similarly, instead of checking that a container is nonempty, as in:\n",
    "my_students = ['Alice', 'Bob', 'Carl', 'Dave', 'Fred']\n",
    "\n",
    "if len(my_students) > 0:\n",
    "    print(\"My students are:\", end=\" \") # `end` is a newline by default, but I'm making it a space\n",
    "    print(*my_students, sep=\", \") # the * unpacks the list, and `sep` is what to print between items\n",
    "else:\n",
    "    print(\"I don't have any students.\")"
   ]
  },
  {
   "cell_type": "code",
   "execution_count": null,
   "id": "a24ad7af-841b-40ac-80e7-8e6a3a42e756",
   "metadata": {
    "tags": []
   },
   "outputs": [],
   "source": [
    "# In Python, we can just check the truth value of the object\n",
    "my_students = ['Alice', 'Bob', 'Carl', 'Dave', 'Fred']\n",
    "\n",
    "if my_students:\n",
    "    print(\"My students are:\", end=\" \")\n",
    "    print(*my_students, sep=\", \")\n",
    "else:\n",
    "    print(\"I don't have any students.\")"
   ]
  },
  {
   "cell_type": "code",
   "execution_count": null,
   "id": "cb770915-a5ee-4dfd-8063-86b874d1529f",
   "metadata": {
    "tags": []
   },
   "outputs": [],
   "source": [
    "# Any object with length zero evaluates to False\n",
    "msg = \"\"\n",
    "\n",
    "if msg:\n",
    "    print(msg)\n",
    "else:\n",
    "    print(\"I got nothin.\")"
   ]
  },
  {
   "cell_type": "markdown",
   "id": "b2cde135-6c72-486f-8f71-24de36bf121e",
   "metadata": {},
   "source": [
    "***Important Tip:*** if you are using what looks like `False` but it is behaving as if it is `True`, make sure that it is ***not*** text, since `\"False\"` is truthy!  The only falsy string is the empty string."
   ]
  },
  {
   "cell_type": "code",
   "execution_count": null,
   "id": "fe9bc851-c4d5-4718-b3a0-bfbe27f4824b",
   "metadata": {
    "tags": []
   },
   "outputs": [],
   "source": [
    "# bind the name `answer` to the string \"False\"\n",
    "answer = \"False\"\n",
    "\n",
    "if answer:\n",
    "    print(\"It is True!\")\n",
    "else:\n",
    "    print(\"It is False!\")\n",
    "    \n",
    "print(answer)\n",
    "print(type(answer))"
   ]
  },
  {
   "cell_type": "markdown",
   "id": "3bc4db7c-e6a7-47df-9f54-b512d785d4be",
   "metadata": {},
   "source": [
    "***Important Tip:*** If you want to ensure that the value of `some_variable` is not `None`, then do ***NOT*** rely on:\n",
    "```python\n",
    "if some_variable:\n",
    "    block_of_code\n",
    "```\n",
    "...since that condition will also be considered false for zero and empty containers"
   ]
  },
  {
   "cell_type": "code",
   "execution_count": null,
   "id": "dde6a05c-702b-43d4-852f-1242fa165c43",
   "metadata": {
    "tags": []
   },
   "outputs": [],
   "source": [
    "# Youngest child's age, or `None` if the person does not have any children\n",
    "youngest_child_age = 0 #newborn\n",
    "\n",
    "if youngest_child_age:\n",
    "    print(f\"Her youngest child is {youngest_child_age}.\")\n",
    "else:\n",
    "    print(\"She does not have any children.\")"
   ]
  },
  {
   "cell_type": "markdown",
   "id": "78928efc-728f-47cc-b053-cfbd4b6be35b",
   "metadata": {
    "jp-MarkdownHeadingCollapsed": true,
    "tags": []
   },
   "source": [
    "<details>\n",
    "    <summary><b>Solution</b></summary>\n",
    "    \n",
    "She does have children, but the child's age is zero, which is \"falsy\".  We should have used:\n",
    "```python\n",
    "if youngest_child_age is not None:\n",
    "    print(f\"Her youngest child is {youngest_child_age}.\")\n",
    "else:\n",
    "    print(\"She does not have any children.\")\n",
    "```\n",
    "</details>"
   ]
  },
  {
   "cell_type": "markdown",
   "id": "3eb79c09-3d11-4a0f-ad75-e97d11a40e57",
   "metadata": {
    "tags": []
   },
   "source": [
    "### 3.3 Boolean operations \n",
    "\n",
    "The condition used for flow control can be composed of other conditions using the [***boolean operations***](https://docs.python.org/3/library/stdtypes.html#boolean-operations-and-or-not) `and`, `or`, and `not`."
   ]
  },
  {
   "cell_type": "markdown",
   "id": "6ae5b1b0-902a-45b4-975d-1ac595462abc",
   "metadata": {
    "tags": []
   },
   "source": [
    "#### 3.3.1 Logical negation <a id=\"not_keyword\"></a>\n",
    "\n",
    "The logical operation of negation uses the keyword `not`. The following expression evaluates to `True` if `some_expression` is falsy, or `False` if the expression is truthy:\n",
    "```python\n",
    "not some_expression\n",
    "``` "
   ]
  },
  {
   "cell_type": "markdown",
   "id": "bd93884b-9697-4d02-bcac-27d7d4d54190",
   "metadata": {},
   "source": [
    "##### Exercise 3.3.1.1: `not some_expression`\n",
    "\n",
    "Predict the value of the following expressions, and the output of the cells. Then run the cells to see if you are correct."
   ]
  },
  {
   "cell_type": "code",
   "execution_count": null,
   "id": "290ce873-0378-47aa-b7ca-09addfa3e43d",
   "metadata": {
    "tags": []
   },
   "outputs": [],
   "source": [
    "not False"
   ]
  },
  {
   "cell_type": "code",
   "execution_count": null,
   "id": "a7144756-8fb1-467f-9bed-979cc1d4f864",
   "metadata": {
    "tags": []
   },
   "outputs": [],
   "source": [
    "not None"
   ]
  },
  {
   "cell_type": "code",
   "execution_count": null,
   "id": "bb780c1f-29a4-4936-a48a-917182ad831c",
   "metadata": {
    "tags": []
   },
   "outputs": [],
   "source": [
    "not 7"
   ]
  },
  {
   "cell_type": "code",
   "execution_count": null,
   "id": "4c1618c5-2bd6-42bc-aef0-93c3e4c461ab",
   "metadata": {
    "tags": []
   },
   "outputs": [],
   "source": [
    "not ()"
   ]
  },
  {
   "cell_type": "code",
   "execution_count": null,
   "id": "c6c88432-b8a3-4547-8803-a5d4e526119c",
   "metadata": {},
   "outputs": [],
   "source": [
    "not [0]"
   ]
  },
  {
   "cell_type": "code",
   "execution_count": null,
   "id": "d7bcdcbb-45a3-489e-9b56-31697101fee1",
   "metadata": {},
   "outputs": [],
   "source": [
    "not (0)"
   ]
  },
  {
   "cell_type": "code",
   "execution_count": null,
   "id": "fbc8be3e-79c2-4a0f-b395-6a6c5a3bc4ed",
   "metadata": {
    "tags": []
   },
   "outputs": [],
   "source": [
    "not \"False\""
   ]
  },
  {
   "cell_type": "code",
   "execution_count": null,
   "id": "429f4348-c3ea-4a68-a0d0-a16025a9db93",
   "metadata": {
    "tags": []
   },
   "outputs": [],
   "source": [
    "not print(\"This is a function that does stuff.\")"
   ]
  },
  {
   "cell_type": "markdown",
   "id": "f3858367-1a85-471a-a6af-112f9da95a77",
   "metadata": {
    "jp-MarkdownHeadingCollapsed": true,
    "tags": []
   },
   "source": [
    "<details>\n",
    "    <summary><b>Solution</b></summary>\n",
    "    \n",
    "`not False` evaluates to `True`.\n",
    "    \n",
    "`None` is \"falsy\", so `not None` also evaluates to `True`.\n",
    "    \n",
    "`7`, like any non-zero number, is \"truthy\", so `not 7` evaluates to `False`.\n",
    "    \n",
    "`()` is the empty tuple, and every empty container is \"falsy\", so `not ()` evaluates to `True`.\n",
    "    \n",
    "`[0]` is a non-empty list, and no matter what it contains, a non-empty container is \"truthy\", so `not [0]` evaluates to `False`.\n",
    "    \n",
    "`(0)` is the number zero, ***not*** a tuple, because there is no trailing comma. Zero is \"falsy\", so `not (0)` evaluates to `True`.\n",
    "    \n",
    "`\"False\"` is a non-empty string, so no matter what it 'says', it is \"truthy\", so `not \"False\"` evaluates to `False`.\n",
    "    \n",
    "The `print()` function prints a string representation of its arguments, but it actually returns `None`, which is \"falsy\", so `not print(\"This is a function that does stuff.\")` evaluates to `True`.\n",
    "</details>"
   ]
  },
  {
   "cell_type": "markdown",
   "id": "5356c1bd-c3e2-44d4-85dd-cea305fecf9d",
   "metadata": {
    "tags": []
   },
   "source": [
    "##### 3.3.1.1 Negating `is`\n",
    "\n",
    "Earlier, we learned how to check that two names refer to the same object using the keyword [***is***](#is_keyword), such as:\n",
    "```python\n",
    "a is b\n",
    "```\n",
    "Note that you *could* check that two names refer to *different* objects by negating the expression as:\n",
    "```python\n",
    "not a is b\n",
    "```\n",
    "<span style=\"color:red\">***But do NOT do that!***</span> Instead, use the [***is not***](https://docs.python.org/3/reference/expressions.html#is-not) operator, as recommended by [***PEP 8***](https://peps.python.org/pep-0008/#programming-recommendations), because it is easier for humans to parse:\n",
    "```python\n",
    "a is not b\n",
    "```\n",
    "Note that `a is not b` means the same thing as `not (a is b)`, not the same thing as `a is (not b)`."
   ]
  },
  {
   "cell_type": "code",
   "execution_count": null,
   "id": "e192fe88-b9d0-486d-b823-9c1a5010dc9d",
   "metadata": {
    "tags": []
   },
   "outputs": [],
   "source": [
    "a = [1,2,3]\n",
    "b = [1,2,3]\n",
    "\n",
    "# same value, but DIFFERENT objects\n",
    "a is not b"
   ]
  },
  {
   "cell_type": "markdown",
   "id": "75cf7c11-65ac-4639-8384-a9972e738bae",
   "metadata": {
    "tags": []
   },
   "source": [
    "#### 3.3.2 Logical conjunction <a id=\"and_keyword\"></a>\n",
    "\n",
    "The logical operation of conjuction uses the keyword `and`. The following expression is truthy if `expression1` ***and*** `expression2` are ***both*** truthy, otherwise the expression is falsy. \n",
    "```python\n",
    "expression1 and expression2\n",
    "```\n",
    "***Note 1:*** the expression does not necessary evaluate to `True` or `False`. Instead, it evaluates to `expression1` if `expression1` is falsy, otherwise it evaluates to `expression2`.\n",
    "\n",
    "***Note 2:*** the expression ***short-circuits*** if `expression1` is falsy, meaning that `expression2` will not be evaluated at all in that case."
   ]
  },
  {
   "cell_type": "markdown",
   "id": "d3fffa88-714e-445e-ac17-f79ea8ec65e2",
   "metadata": {},
   "source": [
    "##### Exercise 3.3.2.1: `expression1 and expression2`\n",
    "\n",
    "Predict the value of the following expressions ***AND*** the output of the cells. Then run the cells to see if you are correct.\n",
    "\n",
    "***REALLY THINK*** about the truth value of ***each*** term before you form an answer."
   ]
  },
  {
   "cell_type": "code",
   "execution_count": null,
   "id": "209a5f74-12ac-425c-ace1-6b453b95404f",
   "metadata": {
    "tags": []
   },
   "outputs": [],
   "source": [
    "7 and 8"
   ]
  },
  {
   "cell_type": "code",
   "execution_count": null,
   "id": "6d7a5a08-c81d-45de-851c-f1d485e8f4d5",
   "metadata": {
    "tags": []
   },
   "outputs": [],
   "source": [
    "8 and \"banana\""
   ]
  },
  {
   "cell_type": "code",
   "execution_count": null,
   "id": "a0ec3538-2a71-4529-822a-33e8095ce2b3",
   "metadata": {
    "tags": []
   },
   "outputs": [],
   "source": [
    "9 and None"
   ]
  },
  {
   "cell_type": "code",
   "execution_count": null,
   "id": "451ab1d2-22a7-435e-9b65-88ffb0a39a50",
   "metadata": {
    "tags": []
   },
   "outputs": [],
   "source": [
    "print(9 and None)"
   ]
  },
  {
   "cell_type": "code",
   "execution_count": null,
   "id": "04855927-7f20-49ae-8993-38ae6d6b9fdc",
   "metadata": {
    "tags": []
   },
   "outputs": [],
   "source": [
    "[] and \"banana\""
   ]
  },
  {
   "cell_type": "code",
   "execution_count": null,
   "id": "15df04fb-8e15-4ec5-9090-088fee6e3611",
   "metadata": {
    "tags": []
   },
   "outputs": [],
   "source": [
    "[0] and print(\"banana\")"
   ]
  },
  {
   "cell_type": "code",
   "execution_count": null,
   "id": "07b0c4e1-6730-4cad-ab76-11be98ae0a1c",
   "metadata": {
    "tags": []
   },
   "outputs": [],
   "source": [
    "(0) and not \"banana\""
   ]
  },
  {
   "cell_type": "code",
   "execution_count": null,
   "id": "1bbcf58e-8cbc-4038-81db-564f9014561d",
   "metadata": {
    "tags": []
   },
   "outputs": [],
   "source": [
    "0 and print(\"Orange you glad I didn't say banana!\")"
   ]
  },
  {
   "cell_type": "markdown",
   "id": "19dda04c-1516-4bbe-94e3-01f286968b14",
   "metadata": {
    "jp-MarkdownHeadingCollapsed": true,
    "tags": []
   },
   "source": [
    "<details>\n",
    "    <summary><b>Solution</b></summary>\n",
    "    \n",
    "`7`, like any non-zero number, is \"truthy\", so `7 and 8` evaluates to `8`.\n",
    "    \n",
    "`8` is \"truthy\", so `8 and \"banana\"` evaluates to `\"banana\"`.\n",
    "    \n",
    "`9` is \"truthy\", so `9 and None` evaluates to `None`, but jupyter notebooks do not output `None`, so it did not create an output cell.  \n",
    "    \n",
    "`print(9 and None)` prints the value of `9 and None`, which is `None`. Note that that is different than creating an output cell.\n",
    "    \n",
    "`[]` is an empty list, which is \"falsy\", so `[] and \"banana\"` evaluates to `[]`.\n",
    "    \n",
    "`[0]` is a non-empty list, which is \"truthy\", so `[0] and print(\"banana\")` prints `banana` and returns `None`, which is why there is no output cell. Notice that the `banana` that is printed is not surrounded by quotes, because the function ***printed*** `banana`, it did ***not*** return `\"banana\"`.\n",
    "\n",
    "`(0)` is the number zero, ***not*** a tuple, so it is \"falsy\" and `(0) and not \"banana\"` evaluates to `0`\n",
    "    \n",
    "`0` is \"falsy\", so `0 and print(\"Orange you glad I didn't say banana!\")` short-circuits and never prints.\n",
    "</details>"
   ]
  },
  {
   "cell_type": "markdown",
   "id": "ba6d47f8-2fa9-4159-88ad-c2a0b153ffb5",
   "metadata": {
    "tags": []
   },
   "source": [
    "#### 3.3.3 Logical disjunction <a id=\"or_keyword\"></a>\n",
    "\n",
    "The logical operation of disjunction uses the keyword `or`. The following expression is truthy if either `expression1` ***or*** `expression2` are truthy (or ***both*** are truthy), otherwise the expression is falsy.\n",
    "```python\n",
    "expression1 or expression2\n",
    "``` \n",
    "***Note 1:*** the expression does not necessary evaluate to `True` or `False`. Instead, it evaluates to `expression1` if `expression1` is truthy, otherwise it evaluates to `expression2`.\n",
    "\n",
    "***Note 2:*** the expression ***short-circuits*** if `expression1` is truthy, meaning that `expression2` will not be evaluated at all in that case."
   ]
  },
  {
   "cell_type": "markdown",
   "id": "2a7ce09f-9370-42c5-97e1-09d6c1ca0025",
   "metadata": {},
   "source": [
    "##### Exercise 3.3.3.1: `expression1 or expression2`\n",
    "\n",
    "Predict the value of the following expressions ***AND*** the output of the cells. Then run the cells to see if you are correct.\n",
    "\n",
    "***REALLY THINK*** about the truth value of ***each*** term before you form an answer."
   ]
  },
  {
   "cell_type": "code",
   "execution_count": null,
   "id": "d51f775e-cae2-4d80-8360-d6788048c34f",
   "metadata": {
    "tags": []
   },
   "outputs": [],
   "source": [
    "7 or 8"
   ]
  },
  {
   "cell_type": "code",
   "execution_count": null,
   "id": "0db793b6-3cbf-4250-a2b4-7b6daf2d750c",
   "metadata": {
    "tags": []
   },
   "outputs": [],
   "source": [
    "8 or \"banana\""
   ]
  },
  {
   "cell_type": "code",
   "execution_count": null,
   "id": "3a6878a8-c774-40a6-a307-46ea21404e07",
   "metadata": {
    "tags": []
   },
   "outputs": [],
   "source": [
    "None or 9"
   ]
  },
  {
   "cell_type": "code",
   "execution_count": null,
   "id": "6c57cb3a-023b-431f-b2e7-7b602c4362f4",
   "metadata": {
    "tags": []
   },
   "outputs": [],
   "source": [
    "[] or \"banana\""
   ]
  },
  {
   "cell_type": "code",
   "execution_count": null,
   "id": "3b8522e1-0052-464c-8aea-9cbfd9867cfc",
   "metadata": {
    "tags": []
   },
   "outputs": [],
   "source": [
    "[0] or print(\"banana\")"
   ]
  },
  {
   "cell_type": "code",
   "execution_count": null,
   "id": "4646407a-777f-4af1-9b50-fe66401e45c7",
   "metadata": {
    "tags": []
   },
   "outputs": [],
   "source": [
    "(0) or not \"banana\""
   ]
  },
  {
   "cell_type": "code",
   "execution_count": null,
   "id": "c67d71f6-cc16-4faa-afd2-4b21ff40462e",
   "metadata": {
    "tags": []
   },
   "outputs": [],
   "source": [
    "0 or print(\"Orange you glad I didn't say banana!\")"
   ]
  },
  {
   "cell_type": "markdown",
   "id": "efbd84e9-a6c3-4cd1-9193-9dcd64ab45fb",
   "metadata": {
    "jp-MarkdownHeadingCollapsed": true,
    "tags": []
   },
   "source": [
    "<details>\n",
    "    <summary><b>Solution</b></summary>\n",
    "    \n",
    "`7`, like any non-zero number, is \"truthy\", so `7 or 8` evaluates to `7`.\n",
    "    \n",
    "`8` is \"truthy\", so `8 or \"banana\"` evaluates to `8`.\n",
    "    \n",
    "`None` is \"falsy\", so `None or 9` evaluates to `9`.\n",
    "    \n",
    "`[]` is an empty list, which is \"falsy\", so `[] or \"banana\"` evaluates to `\"banana\"`.\n",
    "    \n",
    "`[0]` is a non-empty list, which is \"truthy\", so `[0] or print(\"banana\")` evaluates to `[0]`, short-circuiting without printing `\"banana\"`.\n",
    "\n",
    "`(0)` is the number zero, ***not*** a tuple, so it is \"falsy\" and `(0) or not \"banana\"` evaluates to `not \"banana\"`, which evaluates to `\"False\"` since `\"banana\"` is a non-empty string.\n",
    "    \n",
    "`0` is \"falsy\", so `0 and print(\"Orange you glad I didn't say banana!\")` evaluates to `print(\"Orange you glad I didn't say banana!\")`, which prints `Orange you glad I didn't say banana!` and evaluates to `None`, which is why there is no output cell.\n",
    "</details>"
   ]
  },
  {
   "cell_type": "markdown",
   "id": "c8741d3c-583d-445a-9866-2775edc2167c",
   "metadata": {},
   "source": [
    "##### Exercise 3.3.3.2: Alternate uses of Boolean operations \n",
    "\n",
    "Earlier, we saw the conditional logic in the first two cells below, that uses `if` and `else`.\n",
    "\n",
    "Achieve the same result in the cell after those, without using  `if` and `else`, by passing some Boolean expression as the argument to `print`. Run the cells to see if you get the same results for both approaches. Next, change `msg` to `\"Now, I got somethin.\"` and run the cells again, checking that you still get the same result for both approaches."
   ]
  },
  {
   "cell_type": "code",
   "execution_count": null,
   "id": "cb2b0263-dcc2-4eac-993a-8a345eb969a1",
   "metadata": {},
   "outputs": [],
   "source": [
    "# Any object with length zero evaluates to False\n",
    "msg = \"\""
   ]
  },
  {
   "cell_type": "code",
   "execution_count": null,
   "id": "309b608c-26fe-4f21-b9cd-64952bc34c3a",
   "metadata": {
    "tags": []
   },
   "outputs": [],
   "source": [
    "if msg:\n",
    "    print(msg)\n",
    "else:\n",
    "    print(\"I got nothin.\")"
   ]
  },
  {
   "cell_type": "code",
   "execution_count": null,
   "id": "a02d6002-f661-4b11-8bd9-088a71d01455",
   "metadata": {
    "tags": []
   },
   "outputs": [],
   "source": [
    "# put your Boolean expression in the call to `print()` below\n",
    "print()"
   ]
  },
  {
   "cell_type": "markdown",
   "id": "0dbd6c44-4b67-4d47-b952-f622e9a37db7",
   "metadata": {
    "jp-MarkdownHeadingCollapsed": true,
    "tags": []
   },
   "source": [
    "<details>\n",
    "    <summary><b>Solution</b></summary>\n",
    "    \n",
    "```python\n",
    "print(msg or \"I got nothin.\")\n",
    "```\n",
    "</details>"
   ]
  },
  {
   "cell_type": "markdown",
   "id": "45c0805e-f855-4b1b-8636-a7ffc56a9213",
   "metadata": {
    "tags": []
   },
   "source": [
    "#### 3.3.4 Conditional Expressions (aka ternary operator) <a id=\"ternary\"></a>\n",
    "\n",
    "Python also has [***conditional expressions***](https://docs.python.org/3/reference/expressions.html#conditional-expressions) with the following syntax:\n",
    "```python\n",
    "x if C else y\n",
    "``` \n",
    "The truth value of condition `C` is evaluated first. If `C` is truthy, this expression evaluates as `x`, otherwise it evaluates as `y`.\n",
    "\n",
    "Given those semantics, we can give the following equivalences for `and` and `or` in terms of conditional expressions:\n",
    "\n",
    "- `x and y` is equivalent to `x if (not x) else y`\n",
    "- `x or y` is equivalent to `x if x else y`\n",
    "\n",
    "Of course, conditional expressions are more general, and the condition `C` does not have to be at all related to `x` or `y`."
   ]
  },
  {
   "cell_type": "code",
   "execution_count": null,
   "id": "101cef4d-6057-4b38-a380-e3cbf014529f",
   "metadata": {
    "tags": []
   },
   "outputs": [],
   "source": [
    "msg = \"\"\n",
    "\n",
    "print(msg if msg else \"I got nothin.\")"
   ]
  },
  {
   "cell_type": "code",
   "execution_count": null,
   "id": "d68cc46d-47d9-465f-880c-498b249a5933",
   "metadata": {
    "tags": []
   },
   "outputs": [],
   "source": [
    "correct_answer = 42\n",
    "student_answer = 24\n",
    "\n",
    "print(\"Correct. Good job!\" if student_answer == correct_answer else \"Incorrect. Try again.\")"
   ]
  },
  {
   "cell_type": "markdown",
   "id": "2a6a5073-0078-44d0-8bf2-dc1ca1a56735",
   "metadata": {},
   "source": [
    "### 3.4 `while` loop <a id=\"while_keyword\"></a>\n",
    "\n",
    "The syntax of a [***while***](https://docs.python.org/3/reference/compound_stmts.html#while) loop is similar to the syntax of an `if` statement:\n",
    "```python\n",
    "while some_expression:\n",
    "    suite\n",
    "```\n",
    "Unlike an `if` statement, which checks its condition one time, a `while` loop (1) checks its condition, (2) executes the suite if the condition is true, then repeats those two steps until the condition is false. If the condition is false on the first check, the suite does ***not*** get executed.\n",
    "\n",
    "If the condition never becomes false, the suite will be run until you somehow interrupt the computer, such as by pressing the square \"stop\" symbol ■ or holding \"ctrl\" and pressing \"c\".  This is called an \"infinite loop\" (usually a bug)."
   ]
  },
  {
   "cell_type": "markdown",
   "id": "8da2c633-23f2-4ea7-ba63-7b95ee1cc59e",
   "metadata": {},
   "source": [
    "##### Exercise 3.4.1: `while` loop\n",
    "\n",
    "Predict the output of the following cell, then run it to see if you are correct."
   ]
  },
  {
   "cell_type": "code",
   "execution_count": null,
   "id": "87b500aa-ee28-4eff-99bc-f4b9731eb019",
   "metadata": {
    "tags": []
   },
   "outputs": [],
   "source": [
    "# We can have the same block of code execute over and over until some condition is satisfied:\n",
    "import math\n",
    "\n",
    "guess = math.pi\n",
    "\n",
    "# while the guess is less than 42\n",
    "while guess < 42:\n",
    "    \n",
    "    # add 1 to guess, this is called an \"augmented assignment\"\n",
    "    guess += 1\n",
    "    \n",
    "print(guess)"
   ]
  },
  {
   "cell_type": "markdown",
   "id": "f07f7528-40a6-4162-a70d-9a49cbe3c1e0",
   "metadata": {
    "jp-MarkdownHeadingCollapsed": true,
    "tags": []
   },
   "source": [
    "<details>\n",
    "    <summary><b>Solution</b></summary>\n",
    "    \n",
    "`guess` is initialized to `3.1415926535898` before the loop. Since `3.1415926535898 < 42`, the suite is executed. The suite only consists of a single statement: an augmented assignment statement that increments `guess`. After each time the suite is executed, the condition `3.1415926535898 < 42` is checked. When the value of `guess` is finally large enough for `3.1415926535898 < 42` to evaluate to `False`, the loop is executed. In this example, the suite is executed 39 times, until `guess` is `42.1415926535898`. After the loop is exited, the line of code `print(guess)` prints the string representation of `guess`.\n",
    "</details>"
   ]
  },
  {
   "cell_type": "markdown",
   "id": "9aecad63-c83b-45b5-bb9a-421746c5993e",
   "metadata": {},
   "source": [
    "##### Exercise 3.4.2: Guessing Game with `input`\n",
    "\n",
    "The [***input***](https://docs.python.org/3/library/functions.html#input) function below will prompt the user (you) for an input.  The return value is a string, but passing that to the `int()` constructor will try to change it to an integer.  If you type something that Python does not know how to convert to an integer (like letters), then it will raise an error. But if you type only digits, those digits will be converted to an integer, and the name `guess` will be bound to that value.\n",
    "\n",
    "Try to give various answers to get each statement to print."
   ]
  },
  {
   "cell_type": "code",
   "execution_count": null,
   "id": "39a4c57c-d959-42c6-8cfa-cbd580eff0e6",
   "metadata": {
    "tags": []
   },
   "outputs": [],
   "source": [
    "# Combining a while loop and some if, elif, else statements, we can make:\n",
    "\n",
    "guess = 0\n",
    "\n",
    "while guess != 42:\n",
    "    \n",
    "    # Let user input a new guess, and convert their input to an int\n",
    "    guess = int(input(\"Guess\"))\n",
    "    \n",
    "    if guess < 10:\n",
    "        print(\"Way too low!\")\n",
    "    elif guess < 42:\n",
    "        print(\"Too low!\")\n",
    "    elif guess > 90:\n",
    "        print(\"Way too high!\")\n",
    "    elif guess > 42:\n",
    "        print(\"Too high!\")\n",
    "    else:\n",
    "        print(\"You win!\")\n",
    "              \n",
    "print(\"Have a nice day!\")"
   ]
  },
  {
   "cell_type": "markdown",
   "id": "0ed162ea-3c1f-4d4c-9166-3dc9fdf1c8d9",
   "metadata": {},
   "source": [
    "### 3.5 `for` loops <a id=\"for_keyword\"></a>\n",
    "\n",
    "In this section, we will use a simplified description of `for` loops that ignores how they actually work, which involves creating an [***iterator***](https://docs.python.org/3/glossary.html#term-iterator). We will explain those details later.\n",
    "\n",
    "For now (no pun intended), we will think of a [***for***](https://docs.python.org/3/reference/compound_stmts.html#for) loop as iterating directly over an [***iterable***](https://docs.python.org/3/glossary.html#term-iterable) (examples of iterables include lists, tuples, ranges, etc.), and executing a suite for each item in the iterable.  The syntax of a for loop is:\n",
    "```python\n",
    "for some_variable in some_iterable:\n",
    "    suite\n",
    "```\n",
    "In this syntax, `for` and `in` are keywords, `some_variable` can be any variable name that you want, and `some_iterable` is the name (or expression, [literal](https://docs.python.org/3/reference/lexical_analysis.html#literals), etc.) of whatever you want to iterate over.\n",
    "\n",
    "Each iteration, the name `some_variable` is bound to the next item from the iterable `some_iterable`, then the `suite` is executed. This continues for each item in the iterable, until there are no more items (the iterable is exhausted).\n",
    "\n",
    "If the iterable is empty, then the suite is never executed."
   ]
  },
  {
   "cell_type": "markdown",
   "id": "11953c58-0119-4aee-bad7-c04593461a40",
   "metadata": {},
   "source": [
    "In the following example, the name `student` is bound to the first item in `my_students`, which is `'Alice'`, then the suite (of two print functions) is executed. Then `student` is bound to the next item, and the suite is executed, ..."
   ]
  },
  {
   "cell_type": "code",
   "execution_count": null,
   "id": "28c8c3c1-38e5-4ff0-b956-3f715b541075",
   "metadata": {
    "tags": []
   },
   "outputs": [],
   "source": [
    "my_students = ['Alice', 'Bob', 'Carl', 'Dave', 'Fred']\n",
    "\n",
    "# Ask each of my students \n",
    "for student in my_students:\n",
    "    print(\"Send in the next student.\")\n",
    "    print(f\"\\tWould you like to present at the next meeting, {student}?\")"
   ]
  },
  {
   "cell_type": "markdown",
   "id": "1f6c8175-d5db-4cec-b09d-c548bace62de",
   "metadata": {},
   "source": [
    "#### 3.5.1 `continue` statements <a id=\"continue_keyword\"></a>\n",
    "\n",
    "A [***continue***](https://docs.python.org/3/reference/simple_stmts.html#continue) statement skips the rest of the code in the suite for that iteration, and *continues* with the next iteration.\n",
    "\n",
    "A continue statement can be used in a `for` or `while` loop."
   ]
  },
  {
   "cell_type": "code",
   "execution_count": null,
   "id": "a4e83c64-f38f-4921-b2dd-32bd6242b2af",
   "metadata": {
    "tags": []
   },
   "outputs": [],
   "source": [
    "for student in my_students:\n",
    "    \n",
    "    print(\"Send in the next student.\")\n",
    "    \n",
    "    # if we don't want to ask Bob\n",
    "    if student == \"Bob\":\n",
    "        continue\n",
    "        \n",
    "    print(f\"\\tWould you like to present at the next meeting, {student}?\")"
   ]
  },
  {
   "cell_type": "markdown",
   "id": "1d8cf138-535a-4527-9e3f-b0872f28eae8",
   "metadata": {},
   "source": [
    "#### 3.5.2 `break` statements <a id=\"break_keyword\"></a>\n",
    "\n",
    "A [***break***](https://docs.python.org/3/reference/simple_stmts.html#break) statement skips the rest of the code in the suite for that iteration and *breaks* out of the loop.\n",
    "\n",
    "A break statement can be used in a `for` or `while` loop."
   ]
  },
  {
   "cell_type": "code",
   "execution_count": null,
   "id": "95da6176-435e-4626-83d9-92c573cded5d",
   "metadata": {
    "tags": []
   },
   "outputs": [],
   "source": [
    "volunteer = \"Carl\"\n",
    "\n",
    "for student in my_students:\n",
    "    \n",
    "    print(\"Send in the next student.\")\n",
    "    \n",
    "    # if we don't want to ask Bob\n",
    "    if student == \"Bob\":\n",
    "        continue\n",
    "        \n",
    "    print(f\"\\tWould you like to present at the next meeting, {student}?\")\n",
    "    \n",
    "    # if the student volunteers\n",
    "    if student == volunteer:\n",
    "        print(f\"{student} will present!\")\n",
    "        \n",
    "        # don't ask anyone else\n",
    "        break"
   ]
  },
  {
   "cell_type": "markdown",
   "id": "4c60723b-33e1-43c9-9284-b1cccec94c49",
   "metadata": {},
   "source": [
    "#### 3.5.3 `else` clause after `for` loop <a id=\"for_else\"></a>\n",
    "\n",
    "An [***else***](https://docs.python.org/3/reference/compound_stmts.html#for) clause, if present, will be executed after the iterable is exhauseted, ***if*** the loop was not terminated by reaching a `break` statement."
   ]
  },
  {
   "cell_type": "code",
   "execution_count": null,
   "id": "e83efce7-6db7-4c41-bff1-7372cbde8a97",
   "metadata": {
    "tags": []
   },
   "outputs": [],
   "source": [
    "volunteer = \"Carl\"\n",
    "\n",
    "for student in my_students:\n",
    "    \n",
    "    print(\"Send in the next student.\")\n",
    "    \n",
    "    # if we don't want to ask Bob\n",
    "    if student == \"Bob\":\n",
    "        continue\n",
    "        \n",
    "    print(f\"\\tWould you like to present at the next meeting, {student}?\")\n",
    "    \n",
    "    # if the student volunteers\n",
    "    if student == volunteer:\n",
    "        print(f\"{student} will present!\")\n",
    "        \n",
    "        # don't ask anyone else\n",
    "        break\n",
    "        \n",
    "else:\n",
    "    print(\"I guess I'll have to just pick someone.\")"
   ]
  },
  {
   "cell_type": "markdown",
   "id": "ef46c77f-2069-4d22-b29b-b71c2967ca61",
   "metadata": {},
   "source": [
    "##### Exercise 3.5.3.1: `for` loop `else` clause\n",
    "\n",
    "Look at the output of the cell above. Change the volunteer in the cell above to `None` and run the cell again. What happened?"
   ]
  },
  {
   "cell_type": "markdown",
   "id": "18e8547d-7344-45cf-b659-a208de824355",
   "metadata": {
    "jp-MarkdownHeadingCollapsed": true,
    "tags": []
   },
   "source": [
    "<details>\n",
    "    <summary><b>Solution</b></summary>\n",
    "    \n",
    "Because the `for` loop exited without executing the `break`, the `else` clause was executed.\n",
    "</details>"
   ]
  },
  {
   "cell_type": "markdown",
   "id": "feafc822-da64-43d6-b3eb-0aced383f98e",
   "metadata": {},
   "source": [
    "##### Exercise 3.5.3.2: `break` out of `for` loop\n",
    "\n",
    "Add a `break` to the following while loop so that if someone guesses the value `lose`, it prints ***\"You lose!\"*** and doesn't give them any more tries."
   ]
  },
  {
   "cell_type": "code",
   "execution_count": null,
   "id": "0229e192-d761-439e-852e-4339f3b3ab74",
   "metadata": {
    "tags": []
   },
   "outputs": [],
   "source": [
    "# an initial value for guess that makes sure we enter the loop\n",
    "guess = 0\n",
    "\n",
    "# if this value is guessed, we want the person to lose without any more tries\n",
    "lose = 13\n",
    "\n",
    "while guess != 42:\n",
    "    \n",
    "    # Let user input a new guess, and convert their input to an int\n",
    "    guess = int(input(\"Guess\"))\n",
    "    \n",
    "    if guess < 10:\n",
    "        print(\"Way too low!\")\n",
    "    elif guess < 42:\n",
    "        print(\"Too low!\")\n",
    "    elif guess > 90:\n",
    "        print(\"Way too high!\")\n",
    "    elif guess > 42:\n",
    "        print(\"Too high!\")\n",
    "    else:\n",
    "        print(\"You win!\")\n",
    "              \n",
    "print(\"Have a nice day!\")"
   ]
  },
  {
   "cell_type": "markdown",
   "id": "b8df3e7b-13d5-4417-814d-883d0e795fe2",
   "metadata": {
    "jp-MarkdownHeadingCollapsed": true,
    "tags": []
   },
   "source": [
    "<details>\n",
    "    <summary><b>Solution</b></summary>\n",
    "    \n",
    "This certainly is the only possible way to do it, but it's probably the most obvious way:\n",
    "    \n",
    "```python\n",
    "# an initial value for guess that makes sure we enter the loop\n",
    "guess = 0\n",
    "\n",
    "# if this value is guessed, we want the person to lose without any more tries\n",
    "lose = 13\n",
    "\n",
    "while guess != 42:\n",
    "    \n",
    "    # Let user input a new guess, and convert their input to an int\n",
    "    guess = int(input(\"Guess\"))\n",
    "    \n",
    "    if guess == lose:\n",
    "        print(\"You lose!\")\n",
    "        break\n",
    "    \n",
    "    if guess < 10:\n",
    "        print(\"Way too low!\")\n",
    "    elif guess < 42:\n",
    "        print(\"Too low!\")\n",
    "    elif guess > 90:\n",
    "        print(\"Way too high!\")\n",
    "    elif guess > 42:\n",
    "        print(\"Too high!\")\n",
    "    else:\n",
    "        print(\"You win!\")\n",
    "              \n",
    "print(\"Have a nice day!\")\n",
    "```\n",
    "</details>"
   ]
  },
  {
   "cell_type": "markdown",
   "id": "798ae20b-d452-4310-84ad-c22fd78c5fe1",
   "metadata": {},
   "source": [
    "##### Exercise 3.5.3.3: Iterate over a string\n",
    "\n",
    "Iterate over the string `\"hello, world!\"`, printing each character.  Note that strings are \"iterable\"; they are sequences of characters."
   ]
  },
  {
   "cell_type": "code",
   "execution_count": null,
   "id": "88d5703a-c9aa-455a-bb17-82409bd52fda",
   "metadata": {},
   "outputs": [],
   "source": [
    "# create for loop\n"
   ]
  },
  {
   "cell_type": "markdown",
   "id": "4f3932e9-35f4-46d4-b77d-5d7e627e51c9",
   "metadata": {
    "jp-MarkdownHeadingCollapsed": true,
    "tags": []
   },
   "source": [
    "<details>\n",
    "    <summary><b>Solution</b></summary>\n",
    "    \n",
    "```python\n",
    "for c in \"hello, world!\":\n",
    "    print(c)\n",
    "```\n",
    "</details>"
   ]
  },
  {
   "cell_type": "markdown",
   "id": "3288fb33-d292-4a8d-9fdd-5e4769420930",
   "metadata": {},
   "source": [
    "### 3.6 Iterating over dictionaries <a id=\"iter_dict\"></a>\n",
    "\n",
    "Iterating over a dictionary only iterates over the keys.  To iterate over the values, or both the keys and the values at the same time, you nee to use methods described in this section."
   ]
  },
  {
   "cell_type": "code",
   "execution_count": null,
   "id": "0bca581e-5fc7-4d8b-b72a-196ae548a938",
   "metadata": {
    "tags": []
   },
   "outputs": [],
   "source": [
    "# student: grade pairs\n",
    "grades = {'Alice': 95, 'Bob': 84, 'Carl': 73, 'Dave': 68, 'Fred': 0}\n",
    "\n",
    "# trying to print the grades, but not going to work this way\n",
    "for g in grades:\n",
    "    print(g)"
   ]
  },
  {
   "cell_type": "markdown",
   "id": "e0f01c1d-efe5-40a0-b994-92d7e7682192",
   "metadata": {},
   "source": [
    "#### 3.6.1 The `values` method of a dictionary <a id=\"dict_values\"></a>\n",
    "\n",
    "To iterate over the values of a dictionary, call its [***values***](https://docs.python.org/3/library/stdtypes.html#dict.values) method, which returns an object of type `dict_values`."
   ]
  },
  {
   "cell_type": "code",
   "execution_count": null,
   "id": "f75d2af5-673f-443d-bad8-a4b761d38177",
   "metadata": {
    "tags": []
   },
   "outputs": [],
   "source": [
    "# to iterate over the values, use the `values` method\n",
    "for g in grades.values():\n",
    "    print(g)"
   ]
  },
  {
   "cell_type": "markdown",
   "id": "ba3a041e-675c-49e6-a67c-8019fba6a9a8",
   "metadata": {},
   "source": [
    "#### 3.6.2 The `items` method of a dictionary <a id=\"dict_items\"></a>\n",
    "\n",
    "To iterate over the keys and values of a dictionary at the same time, call its [***items***](https://docs.python.org/3/tutorial/datastructures.html#looping-techniques) method, which returns an object of type `dict_items`"
   ]
  },
  {
   "cell_type": "code",
   "execution_count": null,
   "id": "e3d503b7-5174-4fac-a8c7-d0b0f6d6a75d",
   "metadata": {
    "tags": []
   },
   "outputs": [],
   "source": [
    "# each iteration, select the next `key:value` pair, and\n",
    "#     assign the key to the name `s` and the value to the name `g`\n",
    "for s, g in grades.items():\n",
    "    print(f\"{s} scored {g}\")"
   ]
  },
  {
   "cell_type": "code",
   "execution_count": null,
   "id": "9080db01-8630-4758-af7b-f970ba3884b6",
   "metadata": {
    "tags": []
   },
   "outputs": [],
   "source": [
    "# I used `s` for student, and `g` for grade, but generically you will usually see\n",
    "#   `k` used as the name for the key and `v` used as the name for the value, as in:\n",
    "for k, v in grades.items():\n",
    "    print(f\"{k} scored {v}\")"
   ]
  },
  {
   "cell_type": "code",
   "execution_count": null,
   "id": "13444e06-51cf-497b-ac40-c1efc9810d05",
   "metadata": {
    "tags": []
   },
   "outputs": [],
   "source": [
    "# if we convert the dictionary items to a list, we see that it becomes a list of tuples\n",
    "list(grades.items())"
   ]
  },
  {
   "cell_type": "markdown",
   "id": "0a150178-47b0-4da0-ae68-45cca22c9787",
   "metadata": {},
   "source": [
    "### 3.7 Packing and unpacking <a id=\"unpacking\"></a>\n",
    "\n",
    "There is syntax in Python that performs multiple [assignments](https://docs.python.org/3/reference/simple_stmts.html#assignment-statements) ([name bindings](https://docs.python.org/3/reference/executionmodel.html#naming-and-binding)) in a single statement. "
   ]
  },
  {
   "cell_type": "markdown",
   "id": "87e98a5f-0833-448b-b2bc-4186edb19594",
   "metadata": {},
   "source": [
    "#### 3.7.1 Sequence unpacking <a id=\"unpacking\"></a>\n",
    "\n",
    "[***Sequence unpacking***](https://docs.python.org/3/tutorial/datastructures.html#tuples-and-sequences) is when an assignment statement has multiple names (or other targets) on the left hand side (the [***target list***](https://docs.python.org/3/reference/simple_stmts.html#grammar-token-python-grammar-target_list)) and a sequence on the right hand side.  There must be as many targets as there are items in the sequence, except when performing extended iterable unpacking as described shortly.  Each name is bound to the corresponding item."
   ]
  },
  {
   "cell_type": "code",
   "execution_count": null,
   "id": "6df4e579-d562-4a78-8a28-f481552250e0",
   "metadata": {
    "tags": []
   },
   "outputs": [],
   "source": [
    "# bind the name `s` to the value 'Alice' and the name `g` to the value 95\n",
    "s, g = ('Alice', 95)\n",
    "\n",
    "print(f\"{s=}\")\n",
    "print(f\"{g=}\")"
   ]
  },
  {
   "cell_type": "code",
   "execution_count": null,
   "id": "05aa31ac-b547-4f5f-84f2-78d56d7bf45f",
   "metadata": {
    "tags": []
   },
   "outputs": [],
   "source": [
    "# unpacking works with lists too\n",
    "s, g = ['Alice', 95]\n",
    "        \n",
    "print(f\"{s=}\")\n",
    "print(f\"{g=}\")"
   ]
  },
  {
   "cell_type": "code",
   "execution_count": null,
   "id": "ad88be9b-164b-4aab-a2c1-92fada7aab6b",
   "metadata": {
    "tags": []
   },
   "outputs": [],
   "source": [
    "# or any \"iterable\", such as a string (a sequence of characters)\n",
    "a, b, c = \"XYZ\"\n",
    "\n",
    "print(f\"{a=}\")\n",
    "print(f\"{b=}\")\n",
    "print(f\"{c=}\")"
   ]
  },
  {
   "cell_type": "code",
   "execution_count": null,
   "id": "e6fd9d13-892c-454e-bcdb-671fd97ef31a",
   "metadata": {
    "tags": []
   },
   "outputs": [],
   "source": [
    "my_students = ('Alice', 'Bob', 'Carl', 'Dave', 'Fred')\n",
    "\n",
    "# but the number of values to unpack must be the same as the number of names on the left hand side...\n",
    "valedictorian, others, failure = my_students"
   ]
  },
  {
   "cell_type": "markdown",
   "id": "79ab0573-b555-4f25-9009-c5c05bbe22cd",
   "metadata": {},
   "source": [
    "#### 3.7.2 Iterable unpacking <a id=\"iterable_unpacking\"></a>\n",
    "\n",
    "In [***iterable unpacking***](https://docs.python.org/3/reference/expressions.html#grammar-token-python-grammar-starred_expression), a starred expression is expanded into its items.\n",
    "\n",
    "Compare the results of the following two cells:"
   ]
  },
  {
   "cell_type": "code",
   "execution_count": null,
   "id": "d71bd815-f6fc-42cd-bf93-b18d1459c24c",
   "metadata": {
    "tags": []
   },
   "outputs": [],
   "source": [
    "a = [1, (2, 3), 4]\n",
    "print(a)\n",
    "print(len(a))"
   ]
  },
  {
   "cell_type": "code",
   "execution_count": null,
   "id": "7f3153bc-f0ca-4da9-908e-8bd6669f868d",
   "metadata": {
    "tags": []
   },
   "outputs": [],
   "source": [
    "a = [1, *(2, 3), 4]\n",
    "print(a)\n",
    "print(len(a))"
   ]
  },
  {
   "cell_type": "markdown",
   "id": "a2669e9f-b0e1-4bac-b7e9-4f34615e2c75",
   "metadata": {},
   "source": [
    "#### 3.7.3 [Extended iterable unpacking](https://peps.python.org/pep-3132/) <a id=\"extended_unpacking\"></a>\n",
    "\n",
    "When exactly one of the targets on the left side of an assignment is preceded by an asterisk, `*`, then the number of targets can be less than the number of items to unpack. The name preceded by the asterisk (called a starred target) is bound to a sublist containing the remaining items."
   ]
  },
  {
   "cell_type": "markdown",
   "id": "9352af6b-2925-4338-aca3-bc84e3f81dff",
   "metadata": {},
   "source": [
    "##### Exercise 3.7.3: Extended iterable unpacking\n",
    "\n",
    "Put an asterisk before the name `others` below (without a space, as in `*others`, referred to as a starred target), then run the cell."
   ]
  },
  {
   "cell_type": "code",
   "execution_count": null,
   "id": "8320f80d-9564-4fa2-b49e-e7ec25f98c92",
   "metadata": {
    "tags": []
   },
   "outputs": [],
   "source": [
    "my_students = ('Alice', 'Bob', 'Carl', 'Dave', 'Fred')\n",
    "\n",
    "# but the number of values to unpack must be the same as the number of names on the left hand side...\n",
    "valedictorian, others, failure = my_students"
   ]
  },
  {
   "cell_type": "code",
   "execution_count": null,
   "id": "19ef3aa1-e9e5-4e16-98af-ca06e12c3991",
   "metadata": {
    "tags": []
   },
   "outputs": [],
   "source": [
    "# when one of the names is prefixed by an asterisk, \n",
    "#   a list of the remaining items are bound to that name\n",
    "print(f\"{valedictorian=}\")\n",
    "print(f\"{others=}\")\n",
    "print(f\"{failure=}\")"
   ]
  },
  {
   "cell_type": "code",
   "execution_count": null,
   "id": "abc0b142-68de-438e-aaab-e77c483412e8",
   "metadata": {
    "tags": []
   },
   "outputs": [],
   "source": [
    "# unpacking can be nested as well\n",
    "(a, (b, c)), d, e = [1, [2, 3]], 4, 5\n",
    "\n",
    "print(f\"{a=}\")\n",
    "print(f\"{b=}\")\n",
    "print(f\"{c=}\")\n",
    "print(f\"{d=}\")\n",
    "print(f\"{e=}\")"
   ]
  },
  {
   "cell_type": "markdown",
   "id": "79bf977f-8fa9-4de2-8199-7b7560e68e60",
   "metadata": {},
   "source": [
    "### 3.8 Use `enumerate` to iterate over values and non-negative integers <a id=\"enumerate\"></a>\n",
    "\n",
    "When an iterable is passed to the [***enumerate***](https://docs.python.org/3/library/functions.html#enumerate) constructor, it returns an enumerate object that is similar to a list of tuples that *enumerate* the items in the iterable.\n",
    "\n",
    "Let's look at some examples:"
   ]
  },
  {
   "cell_type": "code",
   "execution_count": null,
   "id": "96596f07-9797-4f7c-adab-7a7e256b7d04",
   "metadata": {
    "tags": []
   },
   "outputs": [],
   "source": [
    "list(enumerate([\"apple\", \"butterfly\", \"cat\", \"dog\"]))"
   ]
  },
  {
   "cell_type": "code",
   "execution_count": null,
   "id": "33685353-2abf-4bd4-8ac0-6774378289b6",
   "metadata": {},
   "outputs": [],
   "source": [
    "my_students = ['Alice', 'Bob', 'Carl', 'Dave', 'Fred']\n",
    "\n",
    "# use tuple unpacking with `enumerate` to number each item from the iterable:\n",
    "for i, s in enumerate(my_students):\n",
    "    print(f\"{s} is number {i}\")"
   ]
  },
  {
   "cell_type": "markdown",
   "id": "c7e61d64-d765-4c21-bcee-74ab5aa105ba",
   "metadata": {},
   "source": [
    "### 3.9 Use `zip` to iterate over values from multiple iterables <a id=\"zip\"></a>\n",
    "\n",
    "When multiple iterables are passed to the [***zip***](https://docs.python.org/3/library/functions.html#zip) constructor, it returns a zip object that is similar to a list of tuples such that the Nth tuple contains the Nth item from each iterable.  It stops once one of the iterables is exhausted.\n",
    "\n",
    "Let's look at some examples:"
   ]
  },
  {
   "cell_type": "code",
   "execution_count": null,
   "id": "f0e4c9b9-aa20-43cf-be5a-5daa565a4225",
   "metadata": {
    "tags": []
   },
   "outputs": [],
   "source": [
    "my_zip = zip([\"apple\", \"butterfly\", \"cat\", \"dog\"],\n",
    "             [\"1st\", \"2nd\", \"3rd\"],\n",
    "             (\"aaa\",\"bbb\",\"ccc\")\n",
    "            )\n",
    "list(my_zip)"
   ]
  },
  {
   "cell_type": "code",
   "execution_count": null,
   "id": "a03ea136-03ac-4bbe-b05f-c98359414171",
   "metadata": {
    "tags": []
   },
   "outputs": [],
   "source": [
    "last_names = ['Anderson', 'Brown', 'Collins', 'Davis', 'Foster']\n",
    "\n",
    "# tuple unpacking and `zip` are useful for iterating over multiple iterables at the same time\n",
    "for first, last in zip(my_students, last_names):\n",
    "    print(f\"{first} {last}\")"
   ]
  },
  {
   "cell_type": "markdown",
   "id": "f1c11235-b429-4a23-a3dd-03fb112c80dc",
   "metadata": {},
   "source": [
    "##### Exercise 3.9.1: Putting it all together\n",
    "\n",
    "***(not easy)*** Create a `for` loop that uses ***only*** the `grades` dictionary and `last_names` list (***not*** the `my_students` list) to print the grades for each student, using the students' full names. (e.g. \"Alice Anderson earned a 95\")"
   ]
  },
  {
   "cell_type": "code",
   "execution_count": null,
   "id": "321b0aaf-b51d-445d-b1f5-3293ae13fd39",
   "metadata": {},
   "outputs": [],
   "source": []
  },
  {
   "cell_type": "markdown",
   "id": "d746a839-f128-4518-894f-d153a829061c",
   "metadata": {
    "jp-MarkdownHeadingCollapsed": true,
    "tags": []
   },
   "source": [
    "<details>\n",
    "    <summary><b>Solution</b></summary>\n",
    "    \n",
    "```python\n",
    "for (first, grade), last in zip(grades.items(), last_names):\n",
    "    print(first, last, \"earned a\", grade)\n",
    "```\n",
    "</details>"
   ]
  },
  {
   "cell_type": "markdown",
   "id": "019a4840-3341-4e5f-b729-1f1e05d2cd2d",
   "metadata": {
    "tags": []
   },
   "source": [
    "## Part 4: Functions <a id=\"functions\"></a>"
   ]
  },
  {
   "cell_type": "markdown",
   "id": "21325ea0-f357-452e-a319-10ead4848f04",
   "metadata": {
    "tags": []
   },
   "source": [
    "### 4.1 Defining with `def` <a id=\"def_keyword\"></a>\n",
    "\n",
    "A [***function***](https://docs.python.org/3/glossary.html#term-function) is any sequence of statements which returns a value to a caller. Functions can be defined so that  [***arguments***](https://docs.python.org/3/glossary.html#term-argument) can be passed by the caller.  Besides returning a value, functions can also execute any desired code.\n",
    "\n",
    "We define a function using the keyword [***def***](https://docs.python.org/3/tutorial/controlflow.html#defining-functions), as in the following syntax:\n",
    "```python\n",
    "def name_of_function(parameters):\n",
    "    block\n",
    "    return something\n",
    "```\n",
    "The name `name_of_function` can be any [***valid***](#naming_rules) Python name. The `parameters` will be discussed shortly.  The `block` of code (called the ***body*** of the function) can be any code that you want to run when the function is ***called***. \n",
    "\n",
    "Whatever follows the keyword [***return***](https://docs.python.org/3/reference/simple_stmts.html#return) is the value *returned* from the *call* to the function. That value is returned to wherever the function was called, meaning that, if `f(x)` returns `42`, then you can think of that as replacing `f(x)` by `42` in the calling code.\n",
    "\n",
    "***Note*** that *defining* the function does ***not*** run the code in the body of the function. To run that code, you need to ***call*** the function.  We [***call***](https://docs.python.org/3/reference/expressions.html#calls) a function using its name followed by parentheses `()` containing the actual parameters (arguments) that we are passing to the function, or empty if we are not passing in any arguments.\n",
    "\n",
    "Let's look at some examples:"
   ]
  },
  {
   "cell_type": "markdown",
   "id": "17cd88ac-8126-4c71-8ad0-c4c167830d5d",
   "metadata": {},
   "source": [
    "The next cell defines a function that returns the surface area of a box without a top. Note that *defining* the function creates an object of type function, and binds the name in the [***function definition***](https://docs.python.org/3/reference/compound_stmts.html#def) to that object, but does ***not*** execute the code in the body of the function or return a value."
   ]
  },
  {
   "cell_type": "code",
   "execution_count": null,
   "id": "17e1b177-2107-4069-9259-e80dad6d9dc4",
   "metadata": {
    "tags": []
   },
   "outputs": [],
   "source": [
    "# function to compute the surface area of a box without top\n",
    "def SA_of_box_without_top(length, width, height):\n",
    "    \n",
    "    area = 2*length*height + 2*width*height + length*width\n",
    "    \n",
    "    return area"
   ]
  },
  {
   "cell_type": "code",
   "execution_count": null,
   "id": "ff044ac0-1acb-49cb-9b0f-c63583777129",
   "metadata": {
    "tags": []
   },
   "outputs": [],
   "source": [
    "type(SA_of_box_without_top)"
   ]
  },
  {
   "cell_type": "markdown",
   "id": "b8e6d93e-1277-4a61-98db-0a2eae8b8dcc",
   "metadata": {},
   "source": [
    "The next cell calls the function usings its name, followed by a parenthesized list of arguments. The following call binds `length` to 2, `width` to 3, and `height` to 5, inside the [namespace](#namespace) of the function."
   ]
  },
  {
   "cell_type": "code",
   "execution_count": null,
   "id": "b1b53903-1c3d-42b7-aca1-75b5fbd576ad",
   "metadata": {
    "tags": []
   },
   "outputs": [],
   "source": [
    "# Call the function, passing in arguments\n",
    "SA_of_box_without_top(2, 3, 5)"
   ]
  },
  {
   "cell_type": "markdown",
   "id": "34526276-ed3e-43fa-b534-0ccbe05014b4",
   "metadata": {},
   "source": [
    "The next cell redefines the function so that it prints multiple values, in addition to returning the area."
   ]
  },
  {
   "cell_type": "code",
   "execution_count": null,
   "id": "ed4e1a33-8e75-401e-b6cc-7ede67e6deee",
   "metadata": {},
   "outputs": [],
   "source": [
    "# prints the L,W,H, and SA;  returns the surface area.\n",
    "def SA_of_box_without_top(length, width, height):\n",
    "    \n",
    "    print(f\"{length=}\")\n",
    "    print(f\"{width=}\")\n",
    "    print(f\"{height=}\")\n",
    "    \n",
    "    area = 2*length*height + 2*width*height + length*width\n",
    "    print(f\"{area=}\")\n",
    "    \n",
    "    return area"
   ]
  },
  {
   "cell_type": "code",
   "execution_count": null,
   "id": "619b5010-a819-4460-bd48-6f0e067d106c",
   "metadata": {},
   "outputs": [],
   "source": [
    "# Call function with the arguments 2, 3, and 5\n",
    "SA_of_box_without_top(2, 3, 5)"
   ]
  },
  {
   "cell_type": "markdown",
   "id": "9c7872bf-3f13-4c5e-825d-f240c51a5d97",
   "metadata": {
    "tags": []
   },
   "source": [
    "#### 4.1.1 `return` is optional <a id=\"return_keyword\"></a>\n",
    "\n",
    "We can define a function without a [***return***](https://docs.python.org/3/reference/simple_stmts.html#return) value, as in the following syntax:\n",
    "```python\n",
    "def name_of_function(parameters):\n",
    "    block\n",
    "```\n",
    "When a function is defined without an explicit `return` statement, a call to the function returns `None`."
   ]
  },
  {
   "cell_type": "code",
   "execution_count": null,
   "id": "0fd3a95c-2de1-4c5f-8c82-521a678e83ac",
   "metadata": {
    "tags": []
   },
   "outputs": [],
   "source": [
    "# Only prints the L,W,H, and SA. Does not return the SA.\n",
    "def SA_of_box_without_top(length, width, height):\n",
    "    \n",
    "    print(f\"{length=}\")\n",
    "    print(f\"{width=}\")\n",
    "    print(f\"{height=}\")\n",
    "    \n",
    "    area = 2*length*height + 2*width*height + length*width\n",
    "    print(f\"{area=}\")\n",
    "    \n",
    "# Call the function using its name, followed by a parenthesized list of arguments\n",
    "SA_of_box_without_top(2, 3, 5)"
   ]
  },
  {
   "cell_type": "markdown",
   "id": "8820a9d0-d1c4-4b2d-a2b3-a6fca3bd2e6b",
   "metadata": {},
   "source": [
    "***Tip:*** When functions are defined like the one above, their purpose is to do something other than return a value. Be careful not to use the return value of such functions under the false belief that the return value is meaningful, as in the next cell:"
   ]
  },
  {
   "cell_type": "code",
   "execution_count": null,
   "id": "0a80fb01-c45f-4b05-92a0-28a8d4bca27a",
   "metadata": {
    "tags": []
   },
   "outputs": [],
   "source": [
    "# Save the box area in a variable?\n",
    "box_area = SA_of_box_without_top(2, 3, 5)\n",
    "\n",
    "# then use it later\n",
    "print(\"The box area is\", box_area)"
   ]
  },
  {
   "cell_type": "markdown",
   "id": "f3952195-819e-4cbf-94bd-646ff64d5fc4",
   "metadata": {},
   "source": [
    "***Example:***"
   ]
  },
  {
   "cell_type": "code",
   "execution_count": null,
   "id": "2219c877-8413-4dc3-bbed-382f46f9d81a",
   "metadata": {
    "tags": []
   },
   "outputs": [],
   "source": [
    "# an unsorted list\n",
    "my_list = [4,2,9,1,7,5]\n",
    "\n",
    "# let's sort it\n",
    "my_sorted_list = my_list.sort()\n",
    "\n",
    "# let's check it\n",
    "print(my_sorted_list)"
   ]
  },
  {
   "cell_type": "markdown",
   "id": "de5e06bb-4172-4e46-bedb-b6b7e81b5759",
   "metadata": {},
   "source": [
    "##### Exercise 4.1.1.1: Methods that return `None`\n",
    "\n",
    "What happened?  If the [***sort***](https://docs.python.org/3/library/stdtypes.html#list.sort) method returned `None`, do you think the purpose of the method is to return a value?  Try printing `my_list`."
   ]
  },
  {
   "cell_type": "code",
   "execution_count": null,
   "id": "c14b4e10-6ebd-41d9-ba27-b6848dcdc0d9",
   "metadata": {},
   "outputs": [],
   "source": [
    "# print `my_list`\n"
   ]
  },
  {
   "cell_type": "markdown",
   "id": "3832c5ec-692e-4738-b3c8-65ec08aebdff",
   "metadata": {
    "jp-MarkdownHeadingCollapsed": true,
    "tags": []
   },
   "source": [
    "<details>\n",
    "    <summary><b>Solution</b></summary>\n",
    "    \n",
    "```python\n",
    "print(my_list)\n",
    "```\n",
    "</details>"
   ]
  },
  {
   "cell_type": "markdown",
   "id": "5c7b9968-49ac-4d2c-a768-955e21b0437c",
   "metadata": {},
   "source": [
    "The list was ***mutated*** (lists are mutable). If you want to return a sorted copy, instead of sorting the list ***in-place***, use the [***sorted***](https://docs.python.org/3/library/functions.html#sorted) built-in function:"
   ]
  },
  {
   "cell_type": "code",
   "execution_count": null,
   "id": "e7e71b2a-5aba-4c80-9ff7-a0605db4616b",
   "metadata": {
    "tags": []
   },
   "outputs": [],
   "source": [
    "# to return a sorted list (a copy):\n",
    "my_sorted_list = sorted([4,2,9,1,7,5])\n",
    "\n",
    "print(my_sorted_list)"
   ]
  },
  {
   "cell_type": "markdown",
   "id": "0594821a-6925-48e3-a123-76a98073add4",
   "metadata": {
    "tags": []
   },
   "source": [
    "#### 4.1.2 conditional `return` <a id=\"conditional_returns\"></a>\n",
    "\n",
    "A function can have multiple `return` statements. This is usually only useful in conjunction with conditional logic.  The first `return` statement that executes exits the body of the function are returns back to where the function was called, returning the return value.\n",
    "```python\n",
    "def name_of_function(parameters):\n",
    "    if something:\n",
    "        return value\n",
    "    else:\n",
    "        return some_other_value\n",
    "```\n",
    "\n",
    "If the entire body of the function executes without executing a `return` statement, then `None` is returned.\n",
    "```python\n",
    "def name_of_function(parameters):\n",
    "    if something:\n",
    "        value = 42\n",
    "        return value\n",
    "    else:\n",
    "        value = 24 # this value is NOT returned\n",
    "```"
   ]
  },
  {
   "cell_type": "markdown",
   "id": "01903abb-b05d-4852-8662-134f6ff27737",
   "metadata": {},
   "source": [
    "##### Exercise 4.1.2.1: Which `return`?\n",
    "\n",
    "Predict the output of the following cell. Then run it to see if you are correct."
   ]
  },
  {
   "cell_type": "code",
   "execution_count": null,
   "id": "4e80ba29-f7da-437d-8c1a-5bdbe2dae38a",
   "metadata": {
    "tags": []
   },
   "outputs": [],
   "source": [
    "def answer(something):\n",
    "    if something:\n",
    "        msg = 42\n",
    "        return msg\n",
    "    elif not something:\n",
    "        msg = 24\n",
    "        return msg\n",
    "    else:\n",
    "        msg =\"This will never be the answer.\"\n",
    "        return msg\n",
    "        \n",
    "print(answer(something=False))"
   ]
  },
  {
   "cell_type": "markdown",
   "id": "7250ad92-5490-4ab9-a2bd-8643ffe43bc5",
   "metadata": {
    "jp-MarkdownHeadingCollapsed": true,
    "tags": []
   },
   "source": [
    "<details>\n",
    "    <summary><b>Solution</b></summary>\n",
    "    \n",
    "Since something is `False`, `not something` is `True`, so the `elif` suite is executed, which includes the assignment statement `msg = 24` and the return statement `return msg`.  Therefore, the value returned is `24`, which is printed.\n",
    "</details>"
   ]
  },
  {
   "cell_type": "markdown",
   "id": "7363014e-695d-4988-81ca-d45c8c9badcd",
   "metadata": {},
   "source": [
    "##### Exercise 4.1.2.2: Forgetting to `return`\n",
    "\n",
    "Predict the output of the following cell. Then run it to see if you are correct."
   ]
  },
  {
   "cell_type": "code",
   "execution_count": null,
   "id": "a3c15b01-36ec-4c8a-99ff-8ce6602bafcc",
   "metadata": {
    "tags": []
   },
   "outputs": [],
   "source": [
    "def answer(something):\n",
    "    if something:\n",
    "        value = 42\n",
    "        return value\n",
    "    else:\n",
    "        value = 24\n",
    "        \n",
    "print(answer(something=False))"
   ]
  },
  {
   "cell_type": "markdown",
   "id": "689dc06d-053c-47e5-b6ae-067f67e12811",
   "metadata": {
    "jp-MarkdownHeadingCollapsed": true,
    "tags": []
   },
   "source": [
    "<details>\n",
    "    <summary><b>Solution</b></summary>\n",
    "    \n",
    "Since something is `False`, the `if` suite is not executed, so the `else` suite is executed, which includes the assignment statement `value = 24`. However, that value is never used, and no return statement is reached, so the function returns `None`.  Therefore, the value returned is `None`, which is printed.\n",
    "</details>"
   ]
  },
  {
   "cell_type": "markdown",
   "id": "51be347f-74c2-4f05-b3f3-1010871bbc72",
   "metadata": {},
   "source": [
    "##### Exercise 4.1.2.3: `return` in nested function\n",
    "\n",
    "Run the next two cells, then predict the output of the following cell. Then run it to see if you are correct."
   ]
  },
  {
   "cell_type": "code",
   "execution_count": null,
   "id": "d54a9de4-383f-4ccb-9aa2-6307c73fac86",
   "metadata": {
    "tags": []
   },
   "outputs": [],
   "source": [
    "def answer(question):\n",
    "    \n",
    "    # this is a function defined inside a function\n",
    "    def compute_answer(question):\n",
    "        return len(question)\n",
    "        \n",
    "    if question:\n",
    "        value = compute_answer(question)\n",
    "        return value\n",
    "    else:\n",
    "        value = compute_answer(\"What's the answer to the ultimate question\")"
   ]
  },
  {
   "cell_type": "code",
   "execution_count": null,
   "id": "1788aa1c-88c7-489a-9937-a38da852de7b",
   "metadata": {
    "tags": []
   },
   "outputs": [],
   "source": [
    "print(answer(\"What's the answer to the ultimate question\"))"
   ]
  },
  {
   "cell_type": "code",
   "execution_count": null,
   "id": "3fa4f45e-7477-447f-a3ee-8524eae667ca",
   "metadata": {
    "tags": []
   },
   "outputs": [],
   "source": [
    "print(answer(0))"
   ]
  },
  {
   "cell_type": "markdown",
   "id": "d48aa16a-218e-4d28-8be9-c994ae27c0e9",
   "metadata": {
    "jp-MarkdownHeadingCollapsed": true,
    "tags": []
   },
   "source": [
    "<details>\n",
    "    <summary><b>Solution</b></summary>\n",
    "    \n",
    "Since the `question` is `0`, which is [***falsy***](#truth_value), the code in the `else` block is executed:\n",
    "```python\n",
    "value = compute_answer(\"What's the answer to the ultimate question\")\n",
    "```\n",
    "<br></br>\n",
    "The function `compute_answer` returns `42`, meaning that the line above effectively becomes:\n",
    "```python\n",
    "value = 42\n",
    "```\n",
    "<br></br>\n",
    "However, that is the end of function `answer`. The body of the function does not have any code that does ***anything*** with that value.\n",
    "    \n",
    "Since the entire body of the function `answer` has executed without executing a `return` statement (`compute_answer` returned `42` ***to*** the body of `answer`, but no `return` has been executed ***in*** the body of `answer`), `answer` returns `None`.\n",
    "    \n",
    "***Remember***: If your function does ***not*** execute a return statement, then it will return `None` (If it returns. It could also get stuck in an infinite loop, if it contains a while loop, or it could terminate due to an unhandled exception, discussed later).\n",
    "\n",
    "***Remember***: If you call `function1`, and inside that function `function2` is called, then when `function2` returns a value, it returns the value to where ***it*** was called, not to where `function1` was called.\n",
    "</details>"
   ]
  },
  {
   "cell_type": "markdown",
   "id": "6acf229d-1c7a-4d51-832f-2c8e3d865514",
   "metadata": {
    "tags": []
   },
   "source": [
    "### 4.2 [Parameters and arguments](https://docs.python.org/3/faq/programming.html#faq-argument-vs-parameter) <a id=\"parameters\"></a>\n",
    "\n",
    "A [***parameter***](https://docs.python.org/3/glossary.html#term-parameter) is a name in a function definition that specifies a value that the function can accept when called.  When the function is called, it is passed [***arguments***](https://docs.python.org/3/glossary.html#term-argument) whose values are assigned to those names.\n",
    "\n",
    "Previously, when we called `SA_of_box_without_top(2, 3, 5)`, we were telling Python to assign the value 2 to the first parameter, 3 to the second, and 5 to the third; where 'first', 'second', and 'third' refer to the order of the parameters in the definition of the function. This is referred to as passing ***positional arguments***.\n",
    "\n",
    "We can also pass the arguments to the parameters as [***keyword arguments***](https://docs.python.org/3/tutorial/controlflow.html#keyword-arguments) using the syntax `parameter=argument` inside the parentheses of the function call.  When we do that, it does ***not*** matter if we specify the keyword arguments in the same order as in the definition of the function.\n",
    "\n",
    "We can also mix the two, passing some positional arguments and some keyword arguments.  However, positional arguments ***cannot*** come after keyword arguments.\n",
    "\n",
    "***Let's look at examples:***"
   ]
  },
  {
   "cell_type": "markdown",
   "id": "b69738f5-355d-47df-b457-e53a513f113a",
   "metadata": {},
   "source": [
    "If we don't remember the order of the parameters,  we can provide the arguments as ***keyword arguments***,  meaning that we precede the argument with the name of the parameter and `=`"
   ]
  },
  {
   "cell_type": "code",
   "execution_count": null,
   "id": "e24f2cc9-b40d-44f0-aef9-8f561612cecc",
   "metadata": {
    "tags": []
   },
   "outputs": [],
   "source": [
    "SA_of_box_without_top(height=5, length=2, width=3)"
   ]
  },
  {
   "cell_type": "markdown",
   "id": "1da94587-9e8d-4e83-9d79-0b128d21e34f",
   "metadata": {},
   "source": [
    "If we know the first is parameter `length`, we can make that a ***positional argument*** (i.e. not a *keyword argument*), but pass the others as *keyword arguments*:"
   ]
  },
  {
   "cell_type": "code",
   "execution_count": null,
   "id": "e0d56f7a-26bd-448c-acf7-e5f80043201b",
   "metadata": {
    "tags": []
   },
   "outputs": [],
   "source": [
    "SA_of_box_without_top(2, height=5, width=3)"
   ]
  },
  {
   "cell_type": "markdown",
   "id": "e5537a28-4615-4bc1-853a-0d6cd27d7676",
   "metadata": {},
   "source": [
    "But *positional arguments* **CANNOT** come after *keyword arguments*:"
   ]
  },
  {
   "cell_type": "code",
   "execution_count": null,
   "id": "2586ab0a-49f4-4874-9e6f-153d3787103f",
   "metadata": {
    "tags": []
   },
   "outputs": [],
   "source": [
    "SA_of_box_without_top(length=2, 3, 5)"
   ]
  },
  {
   "cell_type": "markdown",
   "id": "2ede12b7-9242-45fd-9593-1990777ec8b7",
   "metadata": {
    "tags": []
   },
   "source": [
    "#### 4.2.1 Positional Only & Keyword Only Arugments <a id=\"arguments\"></a>\n",
    "\n",
    "It is posible to require certain arguments to be passed by position, by including a `/` in the parameter list.  Any parameters ***before*** the `/` can only take positional arguments. Similarly, arguments can be required to be passed in as keyword arguments by including a `*` in the parameter list. Any parameters ***after*** the `*` can only take keyword arguments. This syntax is shown [here](https://docs.python.org/3/tutorial/controlflow.html#special-parameters):\n",
    "```python\n",
    "def f(pos1, pos2, /, pos_or_kwd, *, kwd1, kwd2):\n",
    "    block\n",
    "```\n",
    "When the function defined above is called, the parameters `pos1` and `pos2` can only be passed positional arguments, the parameters `kwd1` and `kwd2` can only be passed keyword arguments, and `pos_or_kwd` can be passed either.\n",
    "\n",
    "***Note*** that the names of the parameters do not affect which are positional/keyword; only their locations relative to (before/after) the `/` and `*` do. They are named that way in this example just to better illustrate which are positional, which are keyword, and which can be either.\n",
    "\n",
    "Let's look at some examples:"
   ]
  },
  {
   "cell_type": "markdown",
   "id": "87b744e5-1925-496b-94bd-a29c7e229880",
   "metadata": {},
   "source": [
    "##### Exercise 4.2.1.0: positional vs keyword arguments\n",
    "\n",
    "Predict what will happen when the following cell is run. Then run it to see if you are correct."
   ]
  },
  {
   "cell_type": "code",
   "execution_count": null,
   "id": "a8d6c134-aa4a-4bab-9bf6-8812edb1418d",
   "metadata": {
    "tags": []
   },
   "outputs": [],
   "source": [
    "# which of these is positional only, keyword only, or either?\n",
    "def f(a, /, b, *, c):\n",
    "    print(a, b, c)"
   ]
  },
  {
   "cell_type": "markdown",
   "id": "21f43d41-10cc-40be-9f75-040789a50a0e",
   "metadata": {
    "jp-MarkdownHeadingCollapsed": true,
    "tags": []
   },
   "source": [
    "<details>\n",
    "    <summary><b>Solution</b></summary>\n",
    "    \n",
    "The function `f` is defined, adding the name `f` to the local namespace, but the body of the function is not executed, so nothing is printed.\n",
    "</details>"
   ]
  },
  {
   "cell_type": "markdown",
   "id": "98866e46-0247-408e-b227-a0ee6bb48a54",
   "metadata": {},
   "source": [
    "##### Exercise 4.2.1.1: positional vs keyword arguments\n",
    "\n",
    "Predict what will happen when the following cell is run. Then run it to see if you are correct."
   ]
  },
  {
   "cell_type": "code",
   "execution_count": null,
   "id": "85c3efc1-6e72-42c1-8a9e-5a98ea43e9c2",
   "metadata": {
    "tags": []
   },
   "outputs": [],
   "source": [
    "# What will happen in the following function call?\n",
    "f(a=1, b=2, c=3)"
   ]
  },
  {
   "cell_type": "markdown",
   "id": "60a17129-f9a7-4650-b9f9-5bb38ce5eaa8",
   "metadata": {
    "jp-MarkdownHeadingCollapsed": true,
    "tags": []
   },
   "source": [
    "<details>\n",
    "    <summary><b>Solution</b></summary>\n",
    "    \n",
    "We tried to pass in an argument for the parameter `a` using the syntax `a=1`, but `a` only accepts ***positional*** arguments, so that raised a <span style=\"color:red\">***TypeError***</span>.\n",
    "</details>"
   ]
  },
  {
   "cell_type": "markdown",
   "id": "17619f66-f4f6-44ed-969e-a717300028d3",
   "metadata": {},
   "source": [
    "##### Exercise 4.2.1.2:\n",
    "\n",
    "Make `a` a positional argument and run the cell again."
   ]
  },
  {
   "cell_type": "markdown",
   "id": "2873556b-0d82-4bb5-ae3a-e81e379c83e3",
   "metadata": {
    "jp-MarkdownHeadingCollapsed": true,
    "tags": []
   },
   "source": [
    "<details>\n",
    "    <summary><b>Solution</b></summary>\n",
    "    \n",
    "```python\n",
    "f(1, b=2, c=3)\n",
    "```\n",
    "    \n",
    "This works.\n",
    "</details>"
   ]
  },
  {
   "cell_type": "markdown",
   "id": "914caeb6-5998-435b-9be8-de2ab96681e5",
   "metadata": {},
   "source": [
    "##### Exercise 4.2.1.3: \n",
    "\n",
    "Now make `b` a positional argument and run the cell again."
   ]
  },
  {
   "cell_type": "markdown",
   "id": "424d1c2a-204d-462e-80df-dbb9514ed658",
   "metadata": {
    "jp-MarkdownHeadingCollapsed": true,
    "tags": []
   },
   "source": [
    "<details>\n",
    "    <summary><b>Solution</b></summary>\n",
    "    \n",
    "```python\n",
    "f(1, 2, c=3)\n",
    "```\n",
    "    \n",
    "This also works, becuase `b` can take positional arguments or keyword arguments.\n",
    "</details>"
   ]
  },
  {
   "cell_type": "markdown",
   "id": "1959f2ee-eb3a-4ce0-bb67-031d4dc18bad",
   "metadata": {},
   "source": [
    "##### Exercise 4.2.1.4: \n",
    "\n",
    "Now make `c` a positional argument, and run the cell again"
   ]
  },
  {
   "cell_type": "markdown",
   "id": "254c5889-f324-49d8-be15-a3705d47dba9",
   "metadata": {
    "jp-MarkdownHeadingCollapsed": true,
    "tags": []
   },
   "source": [
    "<details>\n",
    "    <summary><b>Solution</b></summary>\n",
    "    \n",
    "```python\n",
    "f(1, 2, 3)\n",
    "```\n",
    "    \n",
    "We tried to pass a positional argument for the parameter `c` , but `c` only accepts ***keyword only*** arguments, so that raised a <span style=\"color:red\">***TypeError***</span>.\n",
    "</details>"
   ]
  },
  {
   "cell_type": "markdown",
   "id": "924aa9b7-18ae-4c30-8658-557bebffe033",
   "metadata": {},
   "source": [
    "***Recap:***\n",
    "\n",
    "Any parameter ***before*** a lone `/` in the parameter list must be passed positional arguments.\n",
    "\n",
    "Any parameter ***after*** a lone `*` in the parameter list must be passed keyword arguments"
   ]
  },
  {
   "cell_type": "markdown",
   "id": "690495be-3df8-4b93-aa5d-be12c3a761cb",
   "metadata": {
    "tags": []
   },
   "source": [
    "#### 4.2.2 Default arguments <a id=\"default_args\"></a>\n",
    "\n",
    "Some of the parameters in a function definition can be given [***default argument values***](https://docs.python.org/3/tutorial/controlflow.html#default-argument-values).  In that case, those parameters are ***not*** required to be passed argument values when the function is called, because the default values will be used if no arguments are passed.\n",
    "\n",
    "Otherwise, arguments must be passed in for each parameter or an error will be raised.\n",
    "\n",
    "A function can be defined with some parameters given default argument values and others not.  However, a parameter without a default argument value ***cannot*** come after a parameter with a default argument value."
   ]
  },
  {
   "cell_type": "code",
   "execution_count": null,
   "id": "f2ede8a9-8341-4a3f-be59-8825c41dfba4",
   "metadata": {
    "tags": []
   },
   "outputs": [],
   "source": [
    "# This throws an error for \"missing 1 required positional argument\"\n",
    "SA_of_box_without_top(2,3)"
   ]
  },
  {
   "cell_type": "code",
   "execution_count": null,
   "id": "2330de96-5163-45d9-8153-f9de412637bc",
   "metadata": {
    "tags": []
   },
   "outputs": [],
   "source": [
    "# We can give default values for the arguments when defining the function\n",
    "def SA_of_box_without_top(length, width=1, height=1):\n",
    "    \n",
    "    print(f\"{length=}\")\n",
    "    print(f\"{width=}\")\n",
    "    print(f\"{height=}\")\n",
    "    \n",
    "    area = 2*length*height + 2*width*height + length*width\n",
    "    print(f\"{area=}\")\n",
    "    \n",
    "# Now only the length needs to be given\n",
    "SA_of_box_without_top(2)"
   ]
  },
  {
   "cell_type": "markdown",
   "id": "92f40a1c-498a-45eb-8d95-62c18721b850",
   "metadata": {},
   "source": [
    "##### Exercise 4.2.2.1: Default argument values\n",
    "\n",
    "In the cell above, make only the width have a default value, then run the cell again. What happened? Why?"
   ]
  },
  {
   "cell_type": "markdown",
   "id": "b37157b6-dd95-4cf0-8bd9-1f728d232bdb",
   "metadata": {},
   "source": [
    "<details>\n",
    "    <summary><b>Remember</b></summary>\n",
    "    \n",
    "non-default arguments cannot follow default arguments.\n",
    "</details>"
   ]
  },
  {
   "cell_type": "markdown",
   "id": "f25ffc28-2111-4aed-b811-49884ebad8fa",
   "metadata": {},
   "source": [
    "#### 4.2.3 Arbitrary argument lists: `*args, **kwargs` <a id=\"arbitrary_arg_lists\"></a>\n",
    "\n",
    "A function can also take an unspecified number of parameters by using [***arbitary argument lists***](https://docs.python.org/3/tutorial/controlflow.html#arbitrary-argument-lists). This is denoted by a parameter of the form `*args`. Any extra positional arguments passed during a call to the function will become items in a tuple named `args` (or whatever the name after the `*` is).\n",
    "\n",
    "Similarly, defining a function with a parameter of the form `**kwargs` will allow extra [***keyword arguments***](https://docs.python.org/3/tutorial/controlflow.html#keyword-arguments) to be passed during a function call. Those keyword arguments will become items in a dictionary named `kwargs` (or whatever the name after the `**` is).\n",
    "\n",
    "If present, the parameter `**kwargs` must come after the parameter `*args`.\n",
    "\n",
    "Let's look at examples:"
   ]
  },
  {
   "cell_type": "code",
   "execution_count": null,
   "id": "bc68bb7f-d15a-406e-84cd-e3ac0c183c3e",
   "metadata": {
    "tags": []
   },
   "outputs": [],
   "source": [
    "# Giving too many arguments throws an error\n",
    "SA_of_box_without_top(2,3,5,7)"
   ]
  },
  {
   "cell_type": "code",
   "execution_count": null,
   "id": "f021e23c-25e8-4bac-bf02-c9dd8a8d8180",
   "metadata": {
    "tags": []
   },
   "outputs": [],
   "source": [
    "# As does giving keyword arguments with the wrong name\n",
    "SA_of_box_without_top(length=2, width=3, heighth=5)"
   ]
  },
  {
   "cell_type": "code",
   "execution_count": null,
   "id": "b22fdda4-9f82-4a13-9c3c-a03b9837c56a",
   "metadata": {
    "tags": []
   },
   "outputs": [],
   "source": [
    "# but we can define our function to accept extra positional or keyword arguments\n",
    "#   note that `extra` and `more` are just names that I chose. You can use any names\n",
    "def SA_of_box_without_top(length, width=1, height=1, *extra, **more):\n",
    "    \n",
    "    print(f\"{length=}\")\n",
    "    print(f\"{width=}\")\n",
    "    print(f\"{height=}\")\n",
    "    \n",
    "    area = 2*length*height + 2*width*height + length*width\n",
    "    print(f\"{area=}\")\n",
    "    \n",
    "    if extra or more:\n",
    "        print(\"\\nI didn't use:\")\n",
    "    if extra:\n",
    "        print(f\"{extra=}, which is a {type(extra)}\")\n",
    "    if more:\n",
    "        print(f\"{more=}, which is a {type(more)}\")\n",
    "    \n",
    "SA_of_box_without_top(2,3,5,7,11,heighth=13,girth=17)"
   ]
  },
  {
   "cell_type": "markdown",
   "id": "3b367a8c-82a8-4781-8999-a6112c863953",
   "metadata": {},
   "source": [
    "#### 4.2.4 Unpacking arguments <a id=\"unpack_args\"></a>\n",
    "\n",
    "When passing arguments during a function call, you can pass the arguments together in a tuple (or list) if you use a `*` before the tuple (or list) to [unpack](https://docs.python.org/3/tutorial/controlflow.html#unpacking-argument-lists) the arguments.\n",
    "\n",
    "Similarly, you can unpack a dictionary of keyword arguments using `**` before the dictionary in the call to the function.\n",
    "\n",
    "Let's look at some examples"
   ]
  },
  {
   "cell_type": "code",
   "execution_count": null,
   "id": "18a4c3fd-9bf7-4359-9916-2b7a6e3ffcab",
   "metadata": {
    "tags": []
   },
   "outputs": [],
   "source": [
    "# You can 'go the other way', by unpacking a list or tuple into positional arguments\n",
    "lwh = [2, 3, 5, 113]\n",
    "\n",
    "# Note that here the star is before the argument (unpacking), instead of\n",
    "#   before the parameter in the function definition, which would make an arbitrary argument list\n",
    "SA_of_box_without_top(*lwh)"
   ]
  },
  {
   "cell_type": "code",
   "execution_count": null,
   "id": "67bd24c1-01d9-4cd4-a387-9a888d387258",
   "metadata": {
    "tags": []
   },
   "outputs": [],
   "source": [
    "# You can also unpack a dictionary into keyword arguments\n",
    "lwh = {'length': 2, 'width': 3, 'height': 5, 'answer': 42}\n",
    "\n",
    "# Note that here the star is before the argument (unpacking), instead of\n",
    "#   before the parameter in the function definition, which would make an arbitrary argument list\n",
    "SA_of_box_without_top(**lwh)"
   ]
  },
  {
   "cell_type": "markdown",
   "id": "7b3e778f-c371-4506-8aeb-1d1d850fcb40",
   "metadata": {},
   "source": [
    "### 4.3 Scopes and Namespaces <a id=\"namespace\"></a>\n",
    "\n",
    "In Python, a [***namespace***](https://docs.python.org/3/glossary.html#term-namespace) is an association between names and objects.  A [***scope***](https://docs.python.org/3/tutorial/classes.html#python-scopes-and-namespaces) is a region of code in which a namespace is accessible.  At any point, there are multiple nested scopes whose namespaces are accessible. Different namespaces can use the same names, meaning that the same name in two different namespaces might refer to two different objects.  Python [***resolves***](https://docs.python.org/3/reference/executionmodel.html#resolution-of-names) names into objects by searching the namespace for the innermost scope first.\n",
    "\n",
    "The code inside the body of a function does not execute when the function is defined, only when the function is called. That's when the local namespace of a function is created.  Any names in the body of the function are first searched for in that namespace.  After the function returns or raises an unhandled exception, that namespace is no longer accessible.\n",
    "\n",
    "Let's look at some examples:"
   ]
  },
  {
   "cell_type": "code",
   "execution_count": null,
   "id": "edfd83da-ddd9-4060-85c0-72dc7d494b3c",
   "metadata": {
    "tags": []
   },
   "outputs": [],
   "source": [
    "answer = 42\n",
    "\n",
    "def reply(question):\n",
    "    \n",
    "    # since `answer` is not defined inside the function,\n",
    "    # Python searches its enclosing scope, and finds `42`\n",
    "    print(f\"The answer is {answer}\")\n",
    "    \n",
    "reply(\"What is the answer to life, the universe, and everything?\")"
   ]
  },
  {
   "cell_type": "code",
   "execution_count": null,
   "id": "806a1e2d-c9f6-45fc-8fe7-8e5b3a8d6562",
   "metadata": {
    "tags": []
   },
   "outputs": [],
   "source": [
    "# delete answer\n",
    "del answer"
   ]
  },
  {
   "cell_type": "code",
   "execution_count": null,
   "id": "d695f168-bb66-42e8-9c3f-f1eb9e6763c9",
   "metadata": {
    "tags": []
   },
   "outputs": [],
   "source": [
    "# make sure it's deleted\n",
    "\n",
    "# try to print it\n",
    "try:\n",
    "    print(answer)\n",
    "    \n",
    "# if that raised a NameError, then 'answer' was deleted\n",
    "except NameError:\n",
    "    print(\"There's no object named 'answer'!\")"
   ]
  },
  {
   "cell_type": "code",
   "execution_count": null,
   "id": "bdbae17a-2f43-4971-a6cc-261c7ffab14e",
   "metadata": {
    "tags": []
   },
   "outputs": [],
   "source": [
    "# define the function again\n",
    "def reply(question):\n",
    "    \n",
    "    # `answer` is not defined inside the function\n",
    "    print(f\"The answer is {answer}\")\n",
    "\n",
    "# define `answer` before calling the function\n",
    "answer = 42\n",
    "\n",
    "# when the function is called, the code in the function is executed\n",
    "#   when the name `answer` is resolved, it is not in the local namespace of the function\n",
    "#   but it is found in the enclosing scope\n",
    "reply(\"What is the answer to life, the universe, and everything?\")"
   ]
  },
  {
   "cell_type": "markdown",
   "id": "dd18ca22-098e-48b0-91e1-fdb225d2380b",
   "metadata": {},
   "source": [
    "##### Exercise 4.3.1: Nested scopes 1\n",
    "\n",
    "What do you think the following cell will print?"
   ]
  },
  {
   "cell_type": "code",
   "execution_count": null,
   "id": "b63c7176-2cfa-4a0b-9997-063eb1b8aad9",
   "metadata": {
    "tags": []
   },
   "outputs": [],
   "source": [
    "# Predict what this will print, then run the cell\n",
    "answer = 42\n",
    "\n",
    "def reply(question):\n",
    "    \n",
    "    answer = 777\n",
    "    \n",
    "    # now answer is defined inside the function\n",
    "    print(f\"The answer is {answer}\")\n",
    "    \n",
    "answer = 42\n",
    "    \n",
    "reply(\"What is the answer to life, the universe, and everything?\")"
   ]
  },
  {
   "cell_type": "markdown",
   "id": "4738589f-46dc-4f67-9315-ac1d33f1c554",
   "metadata": {},
   "source": [
    "<details>\n",
    "    <summary><b>Remember</b></summary>\n",
    "    \n",
    "The innermost scope is checked first. If a name used inside a function, was bound inside the function, the function uses that local value.\n",
    "</details>"
   ]
  },
  {
   "cell_type": "markdown",
   "id": "c0a923c6-713d-4ee7-8d29-697e1a75d283",
   "metadata": {},
   "source": [
    "##### Exercise 4.3.2:  Nested scopes 2\n",
    "\n",
    "What do you think the following cell will print?"
   ]
  },
  {
   "cell_type": "code",
   "execution_count": null,
   "id": "772ac4ca-2f46-423f-9c17-55e71caa7126",
   "metadata": {
    "tags": []
   },
   "outputs": [],
   "source": [
    "# Predict what this will print, then run the cell\n",
    "print(f\"The answer is {answer}\")"
   ]
  },
  {
   "cell_type": "markdown",
   "id": "1d57bd84-5b73-48f2-89e8-e25f01cdbe28",
   "metadata": {},
   "source": [
    "<details>\n",
    "    <summary><b>Remember</b></summary>\n",
    "\n",
    "Names [***bound***](https://docs.python.org/3/reference/executionmodel.html#binding-of-names) inside a function definition are local to that function (unless they are declared with the keyword [***nonlocal***](https://docs.python.org/3/reference/simple_stmts.html#nonlocal) or the keyword [***global***](https://docs.python.org/3/reference/simple_stmts.html#global)). Once a function returns, its namespace is no longer accessible.\n",
    "</details>"
   ]
  },
  {
   "cell_type": "code",
   "execution_count": null,
   "id": "413b89a5-8b64-4d42-b546-9e75bb3cc74b",
   "metadata": {
    "tags": []
   },
   "outputs": [],
   "source": [
    "# Predict what this will print, then run the cell\n",
    "answer = [1,1,2,3]\n",
    "\n",
    "def reply(question):\n",
    "    \n",
    "    # add another item to the end of the list\n",
    "    answer.append(5)\n",
    "    \n",
    "    # now answer is defined inside the function\n",
    "    print(f\"The answer is {answer}\")\n",
    "    \n",
    "reply(\"What is the answer to life, the universe, and everything?\")"
   ]
  },
  {
   "cell_type": "markdown",
   "id": "4fa907ec-6ef9-4c27-9d6c-2fae9f173fec",
   "metadata": {},
   "source": [
    "##### Exercise 4.3.3: Mutable arguments\n",
    "\n",
    "Looking at the code above, what do you think the following cell will print?"
   ]
  },
  {
   "cell_type": "code",
   "execution_count": null,
   "id": "f485394a-0b19-4609-88a0-ee3123c2ebf1",
   "metadata": {
    "tags": []
   },
   "outputs": [],
   "source": [
    "# Predict what this will print, then run the cell\n",
    "print(f\"The answer is {answer}\")"
   ]
  },
  {
   "cell_type": "markdown",
   "id": "ba8f5b48-5f04-4e41-be21-e04fa6381e9f",
   "metadata": {},
   "source": [
    "<details>\n",
    "    <summary><b>Remember</b></summary>\n",
    "\n",
    "Didn't I just say that names bound inside a function definition are local to that function, and once the function returns, its namespace is no longer accessible?  \n",
    "    \n",
    "That's true.  They are not accessible. \n",
    "    \n",
    "But `answer` was ***not*** bound inside the function; it was mutated inside the function. \n",
    "    \n",
    "When a mutable is mutated inside a function, it doesn't magically unmutate itself later.\n",
    "https://nedbatchelder.com/text/names.html\n",
    "</details>"
   ]
  },
  {
   "cell_type": "markdown",
   "id": "76817ed5-789e-4f51-958e-c58b3f31574c",
   "metadata": {},
   "source": [
    "##### Example 4.3.4: The unusual case of <span style=\"color:red\">***UnboundLocalError***</span>\n",
    "\n",
    "```python\n",
    "x = 10\n",
    "def foo():\n",
    "    print(x)\n",
    "    x += 1\n",
    "```\n",
    "\n",
    "When you assign a value to a name in a scope (e.g. inside a function), that name becomes local to that scope. The [augmented assignment](#augmented_assignment) above tries to look up the value of `x` in the namespace of the function `foo` in order to add 1 to it, but cannot find `x` in that namespace. See [***here***](https://docs.python.org/3/faq/programming.html#why-am-i-getting-an-unboundlocalerror-when-the-variable-has-a-value) for more details."
   ]
  },
  {
   "cell_type": "markdown",
   "id": "a52397db-3b06-41b9-b59a-ec90cc723738",
   "metadata": {
    "tags": []
   },
   "source": [
    "#### 4.3.1 Mutable default argument values <a id=\"mutable_default_args\"></a>\n",
    "\n",
    "<span style=\"color:red\">Bottomline:  ***usually*** a bad idea.</span>\n",
    "\n",
    "The code inside the ***body*** of a function is only executed when the function is called.  However, any expressions in the parameters are evaluated when the function is ***defined***. That means that the same default arguments are used each time the function is called without passing arguments to those parameters."
   ]
  },
  {
   "cell_type": "code",
   "execution_count": null,
   "id": "fc0677ce-3f73-430f-9b12-5cfcd0cecd24",
   "metadata": {
    "tags": []
   },
   "outputs": [],
   "source": [
    "# a function that makes a list of its arguments, optionally appending them\n",
    "#   to an already existing list (for instructional purposes only)\n",
    "def list_add(*args, old_list=[]):\n",
    "    \n",
    "    old_list.extend(args)\n",
    "    \n",
    "    return old_list\n",
    "    \n",
    "my_list = [10,20,30]\n",
    "\n",
    "new_list = list_add(40, 50, 60, old_list=my_list)\n",
    "print(new_list)"
   ]
  },
  {
   "cell_type": "markdown",
   "id": "762f705a-6da5-4eb5-9b9b-9d78a58c948f",
   "metadata": {},
   "source": [
    "##### Exercise 4.3.1.1: Mutable default arguments\n",
    "\n",
    "Let's say we want to start a brand new list.  We made `my_list` optional, by giving it a default value, so let's use.\n",
    "\n",
    "What do you think the following cell will print?"
   ]
  },
  {
   "cell_type": "code",
   "execution_count": null,
   "id": "b916fee8-20a2-4347-856d-1bd87394c617",
   "metadata": {
    "tags": []
   },
   "outputs": [],
   "source": [
    "# starting a new list using the default argument for old_list\n",
    "brand_new_list = list_add(1, 2, 3)\n",
    "\n",
    "print(f\"{brand_new_list=}\")"
   ]
  },
  {
   "cell_type": "markdown",
   "id": "86cef17b-a6e4-4531-80b5-6e94f65d7a2d",
   "metadata": {},
   "source": [
    "##### Exercise 4.3.1.2: Mutable default arguments 2\n",
    "\n",
    "Let's create ANOTHER brand new list, again using the default value for `my_list`.\n",
    "\n",
    "What do you think the following cell will print?"
   ]
  },
  {
   "cell_type": "code",
   "execution_count": null,
   "id": "0e16c2de-0feb-4a8b-81e6-ef4f5865c5a0",
   "metadata": {
    "tags": []
   },
   "outputs": [],
   "source": [
    "# starting a new list using the default argument for old_list\n",
    "another_new_list = list_add(44, 55, 66)\n",
    "\n",
    "print(f\"{another_new_list=}\")"
   ]
  },
  {
   "cell_type": "markdown",
   "id": "aac291d3-f024-4454-af7d-22929a2cbd0c",
   "metadata": {},
   "source": [
    "##### Exercise 4.3.1.3: Without using the defalut value\n",
    "\n",
    "This time let's ***NOT*** use the default value for `my_list`.\n",
    "\n",
    "What do you think the following cell will print?"
   ]
  },
  {
   "cell_type": "code",
   "execution_count": null,
   "id": "dac6287a-a3bb-4e34-ab0d-42e73506f2da",
   "metadata": {
    "tags": []
   },
   "outputs": [],
   "source": [
    "my_other_list = [1000,2000,3000]\n",
    "\n",
    "this_list = list_add(4000, 5000, 6000, old_list=my_other_list)\n",
    "print(this_list)"
   ]
  },
  {
   "cell_type": "markdown",
   "id": "48e425ed-cde5-4728-80fa-614c045bc76c",
   "metadata": {},
   "source": [
    "##### Exercise 4.3.1.4: Mutable default arguments 3\n",
    "\n",
    "Let's create ONE MORE brand new list, again using the default value for `my_list`.\n",
    "\n",
    "What do you think the following cell will print?"
   ]
  },
  {
   "cell_type": "code",
   "execution_count": null,
   "id": "e88fd23c-0b0c-4a3f-9562-d1847f1969ee",
   "metadata": {
    "tags": []
   },
   "outputs": [],
   "source": [
    "# starting a new list using the default argument for old_list\n",
    "newest_list = list_add(777, 888, 999)\n",
    "\n",
    "print(f\"{newest_list=}\")"
   ]
  },
  {
   "cell_type": "markdown",
   "id": "ace23ff5-d163-42f9-ae4a-b22d71b04e90",
   "metadata": {},
   "source": [
    "<details>\n",
    "    <summary><b>Remember</b></summary>\n",
    "\n",
    "When we defined `list_add`, the default value `old_list=[]` was created.  Every time we called `list_add` without an argument for `old_list`, it used that same list as the value for `old_list`, which is why it kept getting bigger. Mutable default arguments can give unexpected results!\n",
    "</details>"
   ]
  },
  {
   "cell_type": "markdown",
   "id": "57e947e3-d99e-4ddd-956e-96e908556b76",
   "metadata": {},
   "source": [
    "##### Exercise 4.3.1.5: No mutable default arguments\n",
    "\n",
    "Change `old_list=[]` to `old_list=None` in the definition of `list_add`.\n",
    "\n",
    "Then add the line \n",
    "```python\n",
    "if old_list is None: old_list = []\n",
    "```\n",
    "as the first line in the body of the function.\n",
    "\n",
    "Finally, run that cell again, and all of the cells below it (up to this one).\n",
    "\n",
    "What changed?"
   ]
  },
  {
   "cell_type": "markdown",
   "id": "642182a4-2cde-4f39-b85c-9b805d309ddc",
   "metadata": {},
   "source": [
    "### 4.4 First-class functions <a id=\"first_class_functions\"></a>\n",
    "\n",
    "In Python, functions are first-class, which means that they can be used like other objects, e.g. as items in lists, or passed in as arguments during function calls, etc."
   ]
  },
  {
   "cell_type": "code",
   "execution_count": null,
   "id": "7ff569c9-0716-4344-8ae0-3114a6c4f0cc",
   "metadata": {
    "tags": []
   },
   "outputs": [],
   "source": [
    "def f1(x):\n",
    "    return x + 1\n",
    "\n",
    "def f2(x):\n",
    "    return x**2\n",
    "\n",
    "def f3(x):\n",
    "    return 3*x\n",
    "\n",
    "def f4(x):\n",
    "    return x//4\n",
    "\n",
    "def f5(x):\n",
    "    return x % 5\n",
    "\n",
    "def compose(x, fns_list):\n",
    "    \n",
    "    y = x\n",
    "    \n",
    "    for f in fns_list:\n",
    "        \n",
    "        # print the input and output, saving the output as the next input\n",
    "        print(f\"{y} -> {(y := f(y))}\")\n",
    "        \n",
    "    return y"
   ]
  },
  {
   "cell_type": "markdown",
   "id": "8a42a993-bab9-4461-a05a-c7f529cd8f8a",
   "metadata": {},
   "source": [
    "##### Exercise 4.4.1: list of functions\n",
    "\n",
    "Create a list of the five functions `f1` through `f5`. Then call `compose`, passing the argument `17` to the parameter `x` and your list to the parameter `fns_list`."
   ]
  },
  {
   "cell_type": "code",
   "execution_count": null,
   "id": "43c245d5-4bfb-4b63-a49d-6327ffff7f86",
   "metadata": {},
   "outputs": [],
   "source": [
    "# Put your code here:\n"
   ]
  },
  {
   "cell_type": "markdown",
   "id": "ff54b1ce-596c-44df-9e13-7e92192fd370",
   "metadata": {
    "jp-MarkdownHeadingCollapsed": true,
    "tags": []
   },
   "source": [
    "<details>\n",
    "    <summary><b>Solution</b></summary>\n",
    "    \n",
    "```python\n",
    "fun = [f1,f2,f3,f4,f5]\n",
    "compose(17, fun)\n",
    "```\n",
    "</details>"
   ]
  },
  {
   "cell_type": "markdown",
   "id": "d26dac59-0a36-4c96-bef2-a194524027d1",
   "metadata": {},
   "source": [
    "### 4.5 Lambda Expressions <a id=\"lambda_keyword\"></a>\n",
    "\n",
    "There is a shorthand for creating small functions when you don't want to name them (anonymous functions), that uses the following syntax:\n",
    "```python\n",
    "lambda parameters: expression\n",
    "```\n",
    "[***Lambdas***](https://docs.python.org/3/tutorial/controlflow.html#lambda-expressions) can only contain a single expression. They're often used to pass simple anonymous functions as arguments, as in the following example:"
   ]
  },
  {
   "cell_type": "code",
   "execution_count": null,
   "id": "8e70d1db-11f8-46f0-b059-f9f861aff872",
   "metadata": {
    "tags": []
   },
   "outputs": [],
   "source": [
    "compose(17,\n",
    "        [lambda x: x + 1,\n",
    "         lambda x: x**2,\n",
    "         lambda x: 3*x,\n",
    "         lambda x: x//4,\n",
    "         lambda x: x % 5,\n",
    "        ]\n",
    "       )"
   ]
  },
  {
   "cell_type": "markdown",
   "id": "758bd7cd-6bb4-4e6f-89b3-d85ba35c9ede",
   "metadata": {},
   "source": [
    "##### Exercise 4.5.1: use a lambda as an argument\n",
    "\n",
    "The `sorted` built-in function returns a list of the items of a sequence (e.g. list or tuple) sorted in some order. It can take an optional argument passed to a parameter named [***key***](https://docs.python.org/3/howto/sorting.html#key-functions), which should be a function (or other callable). When an argument is passed to `key`, the sequence is sorted based on the return value of that function, instead of based on the items in the sequence.\n",
    "\n",
    "Pass a lambda in for the `key` to sort the following list of tuples in order from highest grade to lowest:"
   ]
  },
  {
   "cell_type": "code",
   "execution_count": null,
   "id": "670f86b2-8649-4f16-8cc5-c70ed8b2371d",
   "metadata": {},
   "outputs": [],
   "source": [
    "# list of (student, grade) tuples\n",
    "exam1 = [('Alice', 100), ('Bob', 85), ('Carla', 70), ('Dave', 68), ('Fred', 0)]\n",
    "\n",
    "# sorted by grade\n"
   ]
  },
  {
   "cell_type": "markdown",
   "id": "f76db62d-8887-49be-aa80-7f3b93096d00",
   "metadata": {
    "jp-MarkdownHeadingCollapsed": true,
    "tags": []
   },
   "source": [
    "<details>\n",
    "    <summary><b>Solution</b></summary>\n",
    "    \n",
    "```python\n",
    "sorted(exam1, key=lambda x: -x[1])\n",
    "```\n",
    "</details>"
   ]
  },
  {
   "cell_type": "markdown",
   "id": "3231ccaf-5bb2-4991-82f0-e121cd05769b",
   "metadata": {},
   "source": [
    "### 4.6 Documentation strings <a id=\"docstrings\"></a>\n",
    "\n",
    "The first statement in the definition of a function can be a string literal, called the documenation string, or [***docstring***](https://docs.python.org/3/tutorial/controlflow.html#documentation-strings). By [***convention***](https://peps.python.org/pep-0257/), triple-quoted strings are used. The first line of a docstring is meant to be a concise summary of the purpose of the function. If there are more lines, they usually describe the arguments, return value, any side effects, and when an error is raised.\n",
    "\n",
    "The docstring of a function is stored in an attribute named `__doc__`, and can also be displayed by calling the built-in function `help()` on the function.  In Jupyter notebooks, the docstring is displayed when two question marks are typed after the function name, as in the following example:"
   ]
  },
  {
   "cell_type": "code",
   "execution_count": null,
   "id": "4dcc12f1-7797-4351-bb0e-3b91aaa6d9ec",
   "metadata": {},
   "outputs": [],
   "source": [
    "print??"
   ]
  },
  {
   "cell_type": "code",
   "execution_count": null,
   "id": "63e54b80-ff7f-4bfb-9d29-e1f450325da6",
   "metadata": {
    "tags": []
   },
   "outputs": [],
   "source": [
    "def letter_grade(percent, \n",
    "                 cutoffs=[0.,60,70,80,90], \n",
    "                 letters=['F','D','C','B','A']):\n",
    "    \"\"\"\n",
    "    Compute the letter grade for a given percentage.\n",
    "\n",
    "    Parameters\n",
    "    ----------\n",
    "    percent : int or float\n",
    "        The grade in a percentage.\n",
    "    cutoffs : tuple or list of ints or floats, optional\n",
    "        DESCRIPTION. The default is [0.,60,70,80,90].\n",
    "    letters : tuple or list of str, optional\n",
    "        DESCRIPTION. The default is ['F','D','C','B','A'].\n",
    "\n",
    "    Raises\n",
    "    ------\n",
    "    ValueError\n",
    "        If `percent` is not in the interval [0, 100].\n",
    "        If the length of `cutoffs` is not equal to the length of `letters`.\n",
    "\n",
    "    Returns\n",
    "    -------\n",
    "    str\n",
    "        The letter grade for the given percentage.\n",
    "\n",
    "    \"\"\"\n",
    "    \n",
    "    if len(cutoffs) != len(letters):\n",
    "        msg = \"cutoffs and letters should have the same number of items.\"\n",
    "        raise ValueError(msg)\n",
    "        \n",
    "    if percent < 0 or percent > 100:\n",
    "        msg = \"percent should be between 0 and 100, inclusive.\"\n",
    "        raise ValueError(msg)\n",
    "        \n",
    "    index = max(t[0] if t[1] <= percent else 0 for t in enumerate(cutoffs))\n",
    "    \n",
    "    return letters[index]"
   ]
  },
  {
   "cell_type": "code",
   "execution_count": null,
   "id": "44093736-3101-41f6-a043-1f58ca3eb1c3",
   "metadata": {
    "tags": []
   },
   "outputs": [],
   "source": [
    "help(letter_grade)"
   ]
  },
  {
   "cell_type": "markdown",
   "id": "4cda8293-5503-4615-a2ab-5ce8aa16572a",
   "metadata": {
    "tags": []
   },
   "source": [
    "## Part 5: I/0 <a id=\"io\"></a>\n",
    "\n",
    "This part explains some of the concepts and Python syntax related to input and output (I/O). \n",
    "\n",
    "For input, we will mostly discuss how to open and read files, including changing directories and listing the contents of the current working directory. We will discuss several types of files: plain text files, files containing arbitrary binary data, compressed files, and specially formatted files such as json, jsonl, csv, or MS Excel files.\n",
    "\n",
    "For output, we will discuss how to write to files or the console, including saving different types of objects for data interchange."
   ]
  },
  {
   "cell_type": "markdown",
   "id": "9c9d2445-9501-44c6-9cee-f0224b9350ac",
   "metadata": {},
   "source": [
    "### 5.1 The os module <a id=\"os\"></a>\n",
    "\n",
    "The [***os***](https://docs.python.org/3/library/os.html) module contains functions that interface with your operating system, such as checking what your current working directory is, listing its contents, and changing it.\n",
    "\n",
    "It contains many other functions, some of which are listed [***here***](https://docs.python.org/3/library/pathlib.html#correspondence-to-tools-in-the-os-module) in a table that shows corresponding functions in the [***pathlib***](https://docs.python.org/3/library/pathlib.html#) module."
   ]
  },
  {
   "cell_type": "markdown",
   "id": "4dda6102-3e45-46ed-82bc-2fc524f3d512",
   "metadata": {},
   "source": [
    "#### 5.1.1 Check your current working directory <a id=\"getcwd\"></a>\n",
    "\n",
    "You can check which directory is your current working directory using the function [***getcwd***](https://docs.python.org/3/library/os.html#os.getcwd), which returns a string representing the full path to the current working directory. \n",
    "\n",
    "If you save a file using only a filename (instead of a full path), the file will be saved in your current working directory."
   ]
  },
  {
   "cell_type": "code",
   "execution_count": null,
   "id": "c6eb648f-954b-4aad-afd6-1f197e7ed64d",
   "metadata": {
    "tags": []
   },
   "outputs": [],
   "source": [
    "import os\n",
    "\n",
    "os.getcwd()"
   ]
  },
  {
   "cell_type": "markdown",
   "id": "4d1b7273-054c-487e-9bcc-c31785f1f892",
   "metadata": {},
   "source": [
    "#### 5.1.2 CHANGE your current working directory <a id=\"chdir\"></a>\n",
    "\n",
    "You can ***change*** which directory is your current working directory using the function [***chdir***](https://docs.python.org/3/library/os.html#os.chdir) with the path of the directory that you want to be your new working directory passed in as the only argument.\n",
    "```python\n",
    "os.chdir(path)\n",
    "```\n",
    "Remember that [raw strings](#raw_string_path) are good for file paths."
   ]
  },
  {
   "cell_type": "markdown",
   "id": "6fe801ff-6672-4bbf-9c4f-4a84166cecaf",
   "metadata": {},
   "source": [
    "##### Exercise 5.1.2.1: change your working directory\n",
    "\n",
    "Choose a directory on your computer to change your working directory to.  If you're not sure how to, review [this](#raw_string_path)."
   ]
  },
  {
   "cell_type": "code",
   "execution_count": null,
   "id": "4c6ee7bb-29e5-4dbf-a67e-d5ddacbdcf5e",
   "metadata": {
    "tags": []
   },
   "outputs": [],
   "source": [
    "# change this to some directory on your computer\n",
    "os.chdir(r'C:\\Users\\joseph.pedersen\\ipynb\\tutorial')"
   ]
  },
  {
   "cell_type": "markdown",
   "id": "2b814122-0df1-4e9b-86d4-2bdfe811fcdb",
   "metadata": {},
   "source": [
    "#### 5.1.3 List the contents of a directory <a id=\"listdir\"></a>\n",
    "\n",
    "You can list the contents of a directory (the files and/or sub-directories in it) using the function [***listdir***](https://docs.python.org/3/library/os.html#os.listdir), which has one parameter - the path to the directory whose contents you want to list, which defaults to your current working directory.\n",
    "```python\n",
    "os.listdir(path='.')\n",
    "```"
   ]
  },
  {
   "cell_type": "code",
   "execution_count": null,
   "id": "2b849b14-5bd2-4181-8b0f-4af38784bf9c",
   "metadata": {
    "tags": []
   },
   "outputs": [],
   "source": [
    "# list the contents of the current working directory\n",
    "os.listdir()"
   ]
  },
  {
   "cell_type": "markdown",
   "id": "2e7ce44d-4c4d-496f-90b7-485274af1bea",
   "metadata": {},
   "source": [
    "### 5.2 Opening a file <a id=\"open\"></a>\n",
    "\n",
    "The built-in function [***open***](https://docs.python.org/3/library/functions.html#open) can be used to open a file and return a [***file object***](https://docs.python.org/3/library/io.html#overview) (also called a stream):\n",
    "```python\n",
    "f = open(file, mode='r', buffering=-1, encoding=None, errors=None, newline=None, closefd=True, opener=None)\n",
    "```\n",
    "After you are finished with the file, it is recommended that you [***close***](https://docs.python.org/3/library/io.html#io.IOBase.close) the file (e.g. `f.close()`).  However, there is a convenient syntax using the [***with***](https://docs.python.org/3/reference/compound_stmts.html#the-with-statement) keyword that will close the file for you:\n",
    "```python\n",
    "with open(file, mode='r', buffering=-1, encoding=None, errors=None, newline=None, closefd=True, opener=None) as f:\n",
    "    indented_block_of_code\n",
    "```\n",
    "After the code in the `indented_block_of_code` has executed, Python will automatically close the file."
   ]
  },
  {
   "cell_type": "markdown",
   "id": "63f6099a-eeec-4805-839d-6f1fe546426f",
   "metadata": {},
   "source": [
    "#### 5.2.1 file mode: r/w/a/x <a id=\"file_mode\"></a>\n",
    "\n",
    "The most important parameter to understand is the `mode`. If you open an existing file with `mode=w`, it <span style=\"color:red\">***WILL BE ERASED***</span> (also called *truncated*).\n",
    "\n",
    "The first character in the mode is either `r` (read), `w` (truncate, then write), `a` (append), or `x` (create, then write). As can be seen in the signature above, if an argument is not passed to `mode`, it defaults to `r`."
   ]
  },
  {
   "cell_type": "code",
   "execution_count": null,
   "id": "16a36ffb-a955-47dc-ae26-b836154061c7",
   "metadata": {},
   "outputs": [],
   "source": [
    "# open a file named `blah.txt` for Writing and name the file object `f`\n",
    "with open('blah.txt', 'w') as f:\n",
    "    \n",
    "    # write to the file object\n",
    "    f.write(\"hello, world!\")"
   ]
  },
  {
   "cell_type": "code",
   "execution_count": null,
   "id": "63e32a2d-7c83-4be0-b506-7cb05ce7dec6",
   "metadata": {
    "tags": []
   },
   "outputs": [],
   "source": [
    "# open a file named `blah.txt` for Reading and name the file object `f`\n",
    "with open('blah.txt', 'r') as f:\n",
    "    \n",
    "    # read the whole file as a single string, and name that string `txt`\n",
    "    txt = f.read()\n",
    "    \n",
    "print(txt)"
   ]
  },
  {
   "cell_type": "markdown",
   "id": "92aa0ac8-dab8-4002-a5e5-440c1fc89c38",
   "metadata": {},
   "source": [
    "##### Exercise 5.2.1.1: appending to a file\n",
    "\n",
    "What do you expect the output of the following cell will be?\n",
    "\n",
    "Form a specific answer, then run the cell to see if you are correct"
   ]
  },
  {
   "cell_type": "code",
   "execution_count": null,
   "id": "46f9b0ad-4939-484a-98b2-1aebec4af0e6",
   "metadata": {},
   "outputs": [],
   "source": [
    "# open a file named `blah.txt` for Appending and name the file object `f`\n",
    "with open('blah.txt', 'a') as f:\n",
    "    \n",
    "    # write to the file object\n",
    "    f.write(\"hello, again!\")\n",
    "    \n",
    "# open a file named `blah.txt` for Reading and name the file object `f`\n",
    "with open('blah.txt', 'r') as f:\n",
    "    \n",
    "    # read the whole file as a single string, and name that string `txt`\n",
    "    txt = f.read()\n",
    "    \n",
    "print(txt)"
   ]
  },
  {
   "cell_type": "markdown",
   "id": "524ff827-2b18-434a-8755-1c72506d0ff9",
   "metadata": {
    "tags": []
   },
   "source": [
    "<details>\n",
    "    <summary><b>Solution</b></summary>\n",
    "    \n",
    "Opening the file with `mode=a` left `hello, world!` in the file, and when we wrote `hello, again!` to the file, it ***appended*** that to the end. That's why, when we opened the file to read it, we read `hello, world!hello, again!`.\n",
    "</details>"
   ]
  },
  {
   "cell_type": "markdown",
   "id": "46eb4713-68b0-4af4-bec3-1968740e216e",
   "metadata": {
    "toc-hr-collapsed": true
   },
   "source": [
    "##### Exercise 5.2.1.2: writing to a file\n",
    "\n",
    "What do you expect the output of the following cell will be?\n",
    "\n",
    "Form a specific answer, then run the cell to see if you are correct"
   ]
  },
  {
   "cell_type": "code",
   "execution_count": null,
   "id": "7db11b57-4901-4fd7-9841-30e5fa98e534",
   "metadata": {},
   "outputs": [],
   "source": [
    "# open a file named `blah.txt` for Writing and name the file object `f`\n",
    "with open('blah.txt', 'w') as f:\n",
    "    \n",
    "    # write to the file object\n",
    "    f.write(\"hello, one more time!\")\n",
    "    \n",
    "# open a file named `blah.txt` for Reading and name the file object `f`\n",
    "with open('blah.txt', 'r') as f:\n",
    "    \n",
    "    # read the whole file as a single string, and name that string `txt`\n",
    "    txt = f.read()\n",
    "    \n",
    "print(txt)"
   ]
  },
  {
   "cell_type": "markdown",
   "id": "eb9b5d2b-344f-4a8e-8225-1298cc4dc46a",
   "metadata": {
    "tags": []
   },
   "source": [
    "<details>\n",
    "    <summary><b>Solution</b></summary>\n",
    "    \n",
    "Opening the file with `mode=w` <span style=\"color:red\">***ERASED THE FILE!***</span>. That's why, after we wrote `hello, one more time!` to the file, that was the one thing in the file.\n",
    "</details>"
   ]
  },
  {
   "cell_type": "markdown",
   "id": "695685d9-59f9-4100-ba54-048ac5cb044a",
   "metadata": {},
   "source": [
    "##### Exercise 5.2.1.3: create, then write to a file\n",
    "\n",
    "What do you expect the output of the following cell will be?\n",
    "\n",
    "Form a specific answer, then run the cell to see if you are correct"
   ]
  },
  {
   "cell_type": "code",
   "execution_count": null,
   "id": "978fe9ef-0d53-4786-af43-ec4c843b9e59",
   "metadata": {},
   "outputs": [],
   "source": [
    "# open a file named `blah.txt` for Xclusive creation then writing,\n",
    "#   and name the file object `f`\n",
    "with open('blah.txt', 'x') as f:\n",
    "    \n",
    "    # write to the file object\n",
    "    f.write(\"hello, one LAST time!\")\n",
    "    \n",
    "# open a file named `blah.txt` for Reading and name the file object `f`\n",
    "with open('blah.txt', 'r') as f:\n",
    "    \n",
    "    # read the whole file as a single string, and name that string `txt`\n",
    "    txt = f.read()\n",
    "    \n",
    "print(txt)"
   ]
  },
  {
   "cell_type": "markdown",
   "id": "d0399dcc-47f3-4fc4-ac2d-3c14508430d5",
   "metadata": {
    "tags": []
   },
   "source": [
    "<details>\n",
    "    <summary><b>Solution</b></summary>\n",
    "    \n",
    "Opening the file with `mode=x` ensures that the file does not exist before opening it for writing. If the file exists, it raises <span style=\"color:red\">***FileExistsError***</span>.\n",
    "</details>"
   ]
  },
  {
   "cell_type": "markdown",
   "id": "01431bad-76be-4529-944f-1da9366ffbbb",
   "metadata": {},
   "source": [
    "***update mode*** You can open a file with mode `r+`, `w+`, `a+`, or `x+`, for reading and writing from the same stream (called updating).  However, the behavior of the reading and writing is complicated, due to buffering. Therefore, I do not discuss that here in this introduction."
   ]
  },
  {
   "cell_type": "markdown",
   "id": "22813807-50f3-49e2-ab73-e75a0e973f25",
   "metadata": {},
   "source": [
    "#### 5.2.2 file mode: text vs binary <a id=\"text_vs_bytes\"></a>\n",
    "\n",
    "After the first character in the mode (`r`, `w`, `a`, or `x`), optionally followed by a `+`, you can then optionally include either the character `t` (for text mode) or `b` (for binary mode). If you do not specify, the default is text mode.\n",
    "\n",
    "When you open a file in ***text*** mode and name the file object `f`, `f.read()` returns a [***string***](https://docs.python.org/3/library/stdtypes.html#textseq) (in read mode) and `f.write(something)` will raise an error if `something` is not a string (in write mode).\n",
    "\n",
    "When you open a file in ***binary*** mode and name the file object `f`, `f.read()` returns a [***bytes***](https://docs.python.org/3/library/stdtypes.html#bytes-objects) object (in read mode) and `f.write(something)` will raise an error if `something` is not a bytes object (in write mode).\n",
    "\n",
    "***Those are the only two possibilities: strings or bytes.***  You cannot use `open` to open a JPEG image, a PDF, a Microsoft Excel spreadsheet, or any other file type ***unless*** either (1) the data is stored as plain text, and you want to open the text as a string, or (2) you want to work directly with the bytes in which the data is encoded.\n",
    "\n",
    "There are Python modules that can open other file types, such as Pandas for spreadsheets.\n",
    "\n",
    "The next important point to understand is that ***files only contain bytes***, i.e. `0`s and `1`s. That is the language of computers.  To open a file in text mode, it needs an [***encoding***](https://docs.python.org/3/glossary.html#term-text-encoding). If you do not specify an encoding, Python will use the default encoding for your machine. If you read a file in text mode, and see many strange characters, that ***may not*** be a problem with the file. That may indicate that you opened it with a different encoding than was used to write the data to the file.\n",
    "\n",
    "To learn more about unicode and encodings, you can read the [***Unicode HOWTO***](https://docs.python.org/3/howto/unicode.html)."
   ]
  },
  {
   "cell_type": "code",
   "execution_count": null,
   "id": "88b083db-df1d-4b69-bc7f-04304d5c92ce",
   "metadata": {},
   "outputs": [],
   "source": [
    "# open a file named `blah.txt` for Writing and name the file object `f`\n",
    "with open('blah.txt', 'w', encoding=\"hz\") as f:\n",
    "    \n",
    "    # write to the file object\n",
    "    f.write('祝你今天过得愉快')\n",
    "    \n",
    "# open a file named `blah.txt` for Reading Bytes and name the file object `f`\n",
    "with open('blah.txt', 'rb') as f:\n",
    "    \n",
    "    # read the whole file as a bytes object, and name that bytes object `data`\n",
    "    data = f.read()\n",
    "\n",
    "# look at the bytes used to encode the unicode\n",
    "#   note that bytes that are printable ASCII will be displayed as such\n",
    "print(data)"
   ]
  },
  {
   "cell_type": "code",
   "execution_count": null,
   "id": "b827aeb0-4b4f-48a6-ab0f-36a1d4238bd1",
   "metadata": {},
   "outputs": [],
   "source": [
    "# open the file and read with a different encoding than we used to write\n",
    "with open('blah.txt', 'r', encoding=\"utf8\") as f:\n",
    "    \n",
    "    # read the whole file as a string, and name that string `txt\n",
    "    txt = f.read()\n",
    "\n",
    "# look at the text\n",
    "print(txt)"
   ]
  },
  {
   "cell_type": "code",
   "execution_count": null,
   "id": "08be0a37-a97a-4b20-9caa-6af12ce85989",
   "metadata": {},
   "outputs": [],
   "source": [
    "# open the file and read with the encoding that we used to write\n",
    "with open('blah.txt', 'r', encoding=\"hz\") as f:\n",
    "    \n",
    "    # read the whole file as a string, and name that string `txt\n",
    "    txt = f.read()\n",
    "\n",
    "# look at the text\n",
    "print(txt)"
   ]
  },
  {
   "cell_type": "markdown",
   "id": "37e36edc-1ffc-45f2-ba30-7c5350faf537",
   "metadata": {},
   "source": [
    "***Important note:*** the safest option in terms of data preservation and interoperability is to explicitly choose an encoding rather than relying on the platform dependent default. That way you will be sure which encoding your data is stored in and can decode the data with that encoding.\n",
    "\n",
    "According to [python.org](https://docs.python.org/3/tutorial/inputoutput.html#reading-and-writing-files), \"Because UTF-8 is the modern de-facto standard, `encoding=\"utf8\"` is recommended unless you know that you need to use a different encoding.\" The list of standard encodings is [here](https://docs.python.org/3/library/codecs.html#standard-encodings)."
   ]
  },
  {
   "cell_type": "markdown",
   "id": "faa29d65-8da7-4bf4-b94d-b79c941d1fdc",
   "metadata": {},
   "source": [
    "#### 5.2.3 Encoding Errors <a id=\"encoding\"></a>\n",
    "\n",
    "As we said [earlier](#strings_intro), strings contain unicode code points. However, not every unicode code point can be encoded using every encoding.  If you try to encode a string that contains code points which the encoding does not support, you will get a <span style=\"color:red\">***UnicodeEncodeError***</span>."
   ]
  },
  {
   "cell_type": "code",
   "execution_count": null,
   "id": "2b215db4-6938-4ac8-8fc0-7d01ce8d0139",
   "metadata": {
    "tags": []
   },
   "outputs": [],
   "source": [
    "# open a file named `blah.txt` for Writing and name the file object `f`\n",
    "with open('blah.txt', 'w', encoding=\"latin1\") as f:\n",
    "    \n",
    "    # write to the file object\n",
    "    f.write(\"Have a nice day! 😀\")"
   ]
  },
  {
   "cell_type": "markdown",
   "id": "472cfa1b-3642-48b5-9809-e9c7a1598a5d",
   "metadata": {},
   "source": [
    "The `errors` parameter allows you to specify how errors should be [***handled***](https://docs.python.org/3/library/codecs.html#error-handlers). "
   ]
  },
  {
   "cell_type": "code",
   "execution_count": null,
   "id": "7e1b2c38-75e0-4831-aae7-f025f0231caf",
   "metadata": {
    "tags": []
   },
   "outputs": [],
   "source": [
    "# open a file named `blah.txt` for Writing and name the file object `f`\n",
    "with open('blah.txt', 'w', encoding=\"latin1\", errors='namereplace') as f:\n",
    "    \n",
    "    # write to the file object\n",
    "    f.write(\"Have a nice day! 😀\")\n",
    "    \n",
    "# open a file named `blah.txt` for Reading and name the file object `f`\n",
    "with open('blah.txt', 'r', encoding=\"latin1\", errors='namereplace') as f:\n",
    "    \n",
    "    # read the file object\n",
    "    txt = f.read()\n",
    "    \n",
    "print(txt)"
   ]
  },
  {
   "cell_type": "markdown",
   "id": "dda3b181-8ab8-4793-8383-ec608e4ffe8c",
   "metadata": {},
   "source": [
    "#### 5.2.4 newline <a id=\"newline\"></a>\n",
    "\n",
    "The `newline` parameter indicates how to handle reading lines from a file and writing lines to a file.  How [***lines***](https://docs.python.org/3/library/os.html#os.linesep) are separated is platform dependent. On POSIX compliant operating systems (e.g. UNIX), lines are separated by the newline character `\\n` (also called a line feed: LF). On Windows, lines are separated by the two character sequence `\\r\\n` ( a carriage return, then a line feed: CR+LF)."
   ]
  },
  {
   "cell_type": "code",
   "execution_count": null,
   "id": "b2922a57-d49c-4114-9e57-65dd495f5843",
   "metadata": {
    "tags": []
   },
   "outputs": [],
   "source": [
    "multiline_text = \"\"\"Line 1\n",
    "Line 2\n",
    "Line 3\"\"\"\n",
    "\n",
    "# look at the characters that make up the string\n",
    "# Python represents the line breaks by the newline character \\n\n",
    "print(repr(multiline_text))"
   ]
  },
  {
   "cell_type": "code",
   "execution_count": null,
   "id": "db2d12ff-08c6-4451-a4a6-fb9f52a72616",
   "metadata": {
    "tags": []
   },
   "outputs": [],
   "source": [
    "# Write the string to file without an argument to `newline` (default is None)\n",
    "# On my Windows machine, this translates the \\n to \\r\\n\n",
    "with open('blah.txt', 'w') as f:\n",
    "    f.write(multiline_text)\n",
    "\n",
    "# Read the file with newline='', which keeps the newline characters as they are in the file\n",
    "with open('blah.txt', 'r', newline='') as f:\n",
    "    txt = f.read()\n",
    "    print(repr(txt))"
   ]
  },
  {
   "cell_type": "markdown",
   "id": "5042b4d5-9d15-4d75-92ce-a6d069987d29",
   "metadata": {},
   "source": [
    "### 5.3 Reading a file <a id=\"read\"></a>\n",
    "\n",
    "There are multiple different ways to read a file:\n",
    "- `read()` to read the whole file at once, or a specific number of characters/bytes, \n",
    "-  `readline()` to read the file line by line, \n",
    "- `readlines()` to read the entire file into a list of lines, or\n",
    "- iterate over the file, line by line"
   ]
  },
  {
   "cell_type": "markdown",
   "id": "f9c3c0ee-8078-4666-ac1b-ad09751023b7",
   "metadata": {},
   "source": [
    "#### 5.3.1 Reading a specific number of characters/bytes\n",
    "\n",
    "We have used `f.read()` many times already. It reads the entire file. If we pass a positive integer in as the single argument, then only that many characters (unicode code points) are read (in text mode), or that many bytes are read (in binary mode)†.\n",
    "\n",
    "†Technically, an internal buffer may be used for efficiency, so more than that many characters/bytes may be read at a time, with only that many returned, and the rest kept in the buffer."
   ]
  },
  {
   "cell_type": "code",
   "execution_count": null,
   "id": "f244fac1-d933-485d-8ccf-8aa8954da93f",
   "metadata": {
    "tags": []
   },
   "outputs": [],
   "source": [
    "multiline_text = \"\"\"I am happy! o͜o\n",
    "I am indifferent. o͟o\n",
    "Help, I am upside down! o͝o\n",
    "\n",
    "\"\"\"\n",
    "\n",
    "# write the text to a file\n",
    "with open('blah.txt', 'w', encoding='utf8') as f:\n",
    "    f.write(multiline_text)\n",
    "\n",
    "with open('blah.txt', 'r', encoding='utf8') as f:\n",
    "    \n",
    "    # only read 22 characters\n",
    "    txt = f.read(22)\n",
    "    print(repr(txt))"
   ]
  },
  {
   "cell_type": "code",
   "execution_count": null,
   "id": "89d73e12-3986-4beb-9085-69fd7a538b0d",
   "metadata": {
    "tags": []
   },
   "outputs": [],
   "source": [
    "\"Help, I am upside down! o\\u0360o\""
   ]
  },
  {
   "cell_type": "markdown",
   "id": "110430f1-ac69-4e8c-aa9c-c698649d181d",
   "metadata": {},
   "source": [
    "#### 5.3.2 Reading a file line by line\n",
    "\n",
    "Often we work with files line by line. Each time the method `readline()` is called, it returns the next line of a file object as a string.  If a file is very large, this prevents needing to read it all into memory at the same time."
   ]
  },
  {
   "cell_type": "code",
   "execution_count": null,
   "id": "1160827d-aabe-412a-8ef0-df7756b1cd68",
   "metadata": {
    "tags": []
   },
   "outputs": [],
   "source": [
    "multiline_text = \"\"\"I am happy! o͜o\n",
    "I am indifferent. o͟o\n",
    "Help, I am upside down! o͝o\n",
    "\"\"\"\n",
    "\n",
    "# write the text to a file\n",
    "with open('blah.txt', 'w', encoding='utf8') as f:\n",
    "    f.write(multiline_text)\n",
    "\n",
    "with open('blah.txt', 'r', encoding='utf8') as f:\n",
    "    \n",
    "    # read one line at a time\n",
    "    for i in range(3):\n",
    "            print(repr(f.readline()))"
   ]
  },
  {
   "cell_type": "markdown",
   "id": "6b77b313-e892-479b-a87a-addecc115a4e",
   "metadata": {},
   "source": [
    "##### Exercise 5.3.2.1: working on file lines\n",
    "\n",
    "Add conditional logic to the cell above so that it only prints lines that begin with a capital H."
   ]
  },
  {
   "cell_type": "markdown",
   "id": "7c55c418-54df-4b67-8aac-8eb97fad33c0",
   "metadata": {
    "tags": []
   },
   "source": [
    "<details>\n",
    "    <summary><b>Solution</b></summary>\n",
    "    \n",
    "```python\n",
    "with open('blah.txt', 'r', encoding='utf8') as f:\n",
    "    \n",
    "    # read one line at a time\n",
    "    for i in range(3):\n",
    "        this = f.readline()\n",
    "        if this[0] == \"H\":\n",
    "            print(repr(this))\n",
    "```\n",
    "<br>\n",
    "    \n",
    "Make sure not to try the following:\n",
    "\n",
    "```python\n",
    "with open('blah.txt', 'r', encoding='utf8') as f:\n",
    "    \n",
    "    # read one line at a time\n",
    "    for i in range(3):\n",
    "        if f.readline()[0] == \"H\":\n",
    "            print(repr(f.readline()))\n",
    "```\n",
    "<br>\n",
    "    \n",
    "If you did that, the `f.readline()` inside the `print()` would be the line ***after*** the line checked to start with an `\"H\"`.\n",
    "</details>"
   ]
  },
  {
   "cell_type": "markdown",
   "id": "84184e42-6646-4148-8d07-dd28706b19ae",
   "metadata": {
    "tags": []
   },
   "source": [
    "#### 5.3.3 Iterating over a file line by line\n",
    "\n",
    "You can also iterate directly over the file object:"
   ]
  },
  {
   "cell_type": "code",
   "execution_count": null,
   "id": "9402dd53-dfb4-4c25-a688-7feb0bbf9a40",
   "metadata": {
    "tags": []
   },
   "outputs": [],
   "source": [
    "multiline_text = \"\"\"I am happy! o͜o\n",
    "I am indifferent. o͟o\n",
    "Help, I am upside down! o͝o\n",
    "\"\"\"\n",
    "\n",
    "# write the text to a file\n",
    "with open('blah.txt', 'w', encoding='utf8') as f:\n",
    "    f.write(multiline_text)\n",
    "\n",
    "with open('blah.txt', 'r', encoding='utf8') as f:\n",
    "    \n",
    "    # read one line at a time\n",
    "    for line in f:\n",
    "        print(repr(line))"
   ]
  },
  {
   "cell_type": "markdown",
   "id": "88d24949-b532-4bee-9d36-77966a45c34a",
   "metadata": {
    "tags": []
   },
   "source": [
    "#### 5.3.4 Creating a list of lines\n",
    "\n",
    "You can also make a list of the lines using `readlines()`.  This reads the entire file into memory, so take care not to do this if the file is too large."
   ]
  },
  {
   "cell_type": "code",
   "execution_count": null,
   "id": "3c02118f-7899-4ecc-afcd-2dbe495fc09c",
   "metadata": {
    "tags": []
   },
   "outputs": [],
   "source": [
    "multiline_text = \"\"\"I am happy! o͜o\n",
    "I am indifferent. o͟o\n",
    "Help, I am upside down! o͝o\n",
    "\"\"\"\n",
    "\n",
    "# write the text to a file\n",
    "with open('blah.txt', 'w', encoding='utf8') as f:\n",
    "    f.write(multiline_text)\n",
    "\n",
    "with open('blah.txt', 'r', encoding='utf8') as f:\n",
    "    \n",
    "    # read one line at a time\n",
    "    lines = f.readlines()\n",
    "    \n",
    "print(lines)"
   ]
  },
  {
   "cell_type": "markdown",
   "id": "5f653a87-00dc-4f84-92e7-f7bdb491072b",
   "metadata": {},
   "source": [
    "### 5.4 Writing and Printing to a file <a id=\"write\"></a>\n",
    "\n",
    "There are multiple different ways to write to a file:\n",
    "- `write()` to write a string (in text mode) or bytes (in binary mode) to a file\n",
    "-  `writelines()` to write a list of strings (in text mode) or bytes (in binary mode) to a file\n",
    "- `print()` to write a single or multiple objects (not necessarily strings) to a file, with formatting"
   ]
  },
  {
   "cell_type": "markdown",
   "id": "d5a475c4-8468-47ed-9f7a-26435fa5061d",
   "metadata": {},
   "source": [
    "#### 5.4.1 Writing a string or bytes object to file\n",
    "\n",
    "We have used `f.write()` many times already. It takes a single argument, a string (in text mode) or a bytes object (in binary mode), and writes that to the file†.\n",
    "\n",
    "†Technically, an internal buffer may be used for efficiency, in which case the string/bytes will be written to the file when the buffer [***flushes***](https://docs.python.org/3/library/io.html?highlight=flush#io.BufferedWriter.flush). In fact, [***python.org***](https://docs.python.org/3/tutorial/inputoutput.html#reading-and-writing-files) warns that if you do not use [***with***](https://docs.python.org/3/reference/compound_stmts.html#with) to open the file, or call [***close***](https://docs.python.org/3/library/io.html#io.IOBase.close) on the file when you are finished with it, then the string/bytes might not be completely written to the file."
   ]
  },
  {
   "cell_type": "markdown",
   "id": "ea3a294e-9ff7-45b0-968a-80f9a1eb5126",
   "metadata": {},
   "source": [
    "#### 5.4.2 Writing a list of strings or bytes objects to file\n",
    "\n",
    "Calling `f.writelines(some_iterable)` will write each item returned from the iterable (e.g. list) to file. It takes a single argument, an iterable of strings (in text mode) or an iterable bytes objects (in binary mode), and writes those to file.\n",
    "\n",
    "A [***line separator***](https://docs.python.org/3/library/os.html#os.linesep) is not automatically added after each string. If the items should be separated by newlines or spaces, you need to add those yourself.\n",
    "\n",
    "Ensure that you do not call `f.writelines()` on a single string (or bytes object), because the write will take much longer than calling `f.write()`, although it will work, since strings and bytes objects are iterables."
   ]
  },
  {
   "cell_type": "code",
   "execution_count": null,
   "id": "1fb687ba-ab5a-43cb-8f05-a9ca477a1c86",
   "metadata": {},
   "outputs": [],
   "source": [
    "multiline_text = \"\"\"I am happy! o͜o\n",
    "I am indifferent. o͟o\n",
    "Help, I am upside down! o͝o\n",
    "\"\"\"\n",
    "\n",
    "# write the text to a file\n",
    "with open('blah.txt', 'w', encoding='utf8') as f:\n",
    "    f.write(multiline_text)\n",
    "\n",
    "with open('blah.txt', 'r', encoding='utf8') as f:\n",
    "    \n",
    "    # read one line at a time\n",
    "    lines = f.readlines()\n",
    "    \n",
    "# this is a list of lines, each ending in a line separator\n",
    "print(lines)\n",
    "\n",
    "print() # blank line\n",
    "\n",
    "with open('blah2.txt', 'w', encoding='utf8') as f:\n",
    "    \n",
    "    # write each item in `lines` to blah2.txt\n",
    "    f.writelines(lines)\n",
    "    \n",
    "with open('blah2.txt', 'r', encoding='utf8') as f:\n",
    "    \n",
    "    # read the file \n",
    "    txt = f.read()\n",
    "\n",
    "# the contents of blah2.txt\n",
    "#   note that \\n characters CAUSE a newline, rather than getting printed as \\n\n",
    "print(txt)"
   ]
  },
  {
   "cell_type": "markdown",
   "id": "404e715a-25cc-44b5-8ebc-9b97b5517a0c",
   "metadata": {},
   "source": [
    "#### 5.4.3 Printing to file <a id=\"print\"></a>\n",
    "\n",
    "We have called [***print***](https://docs.python.org/3/library/functions.html#print) many times in this tutorial so far, but only for printing inside the notebook. We can also print to file. The signature for print is:\n",
    "```python\n",
    "print(*objects, sep=' ', end='\\n', file=None, flush=False)\n",
    "```\n",
    "If you remember [***arbitrary argument lists***](#arbitrary_arg_lists), you will recognize that print can accept any number of positional arguments, which all get saved to the parameter `objects` (a list). These are what get printed. One convenience print provides that write does not is that the arguments do not need to be strings; they are automatically converted to strings using [***str( )***](https://docs.python.org/3/library/stdtypes.html#str).\n",
    "\n",
    "If there are multiple arguments passed to `objects`, the argument passed to `sep` (which should be a string or `None`) is printed in between each. Then, the argument to `end` (another string or `None`) is printed *at the end* (even if `objects` was empty).\n",
    "\n",
    "The argument passed to `file` should either be a file object or `None`. It cannot be a string (even if that string is a filename or path). If `file=None`, then the writing is done to [***sys.stdout***](https://docs.python.org/3/library/sys.html#sys.stdout) (e.g. in this notebook). If a file object is passed to `file`, it should be in text mode, since `print` converts everything to strings before writing."
   ]
  },
  {
   "cell_type": "code",
   "execution_count": null,
   "id": "65364e4f-453f-4ce8-822e-acbbbcc52eb2",
   "metadata": {},
   "outputs": [],
   "source": [
    "print(1, 2, 3)"
   ]
  },
  {
   "cell_type": "markdown",
   "id": "e3998559-03ae-423b-b137-4abd7ecf8a8b",
   "metadata": {},
   "source": [
    "##### Exercise 5.4.3.1: `sep`\n",
    "\n",
    "Pass an argument to `sep` in the call to print in the cell below so that each number is printed on its own line."
   ]
  },
  {
   "cell_type": "code",
   "execution_count": null,
   "id": "d87b835b-b5dd-4b39-85ef-69ccfc561963",
   "metadata": {},
   "outputs": [],
   "source": [
    "# only change the line below by adding a `sep` argument\n",
    "print(1, 2, 3)"
   ]
  },
  {
   "cell_type": "markdown",
   "id": "19fca768-c185-434a-8ff2-97f8d393abe4",
   "metadata": {
    "tags": []
   },
   "source": [
    "<details>\n",
    "    <summary><b>Solution</b></summary>\n",
    "    \n",
    "```python\n",
    "print(1, 2, 3, sep='\\n')\n",
    "```\n",
    "</details>"
   ]
  },
  {
   "cell_type": "markdown",
   "id": "61261076-5e86-4625-9346-e4a3dee4dc29",
   "metadata": {},
   "source": [
    "##### Exercise 5.4.3.2: `sep` and `end`\n",
    "\n",
    "Pass arguments to `sep` and `end` so that there are dashes between the numbers, instead of spaces, and there is an exclamation point after the 3."
   ]
  },
  {
   "cell_type": "code",
   "execution_count": null,
   "id": "75b328d2-729f-40df-9986-1b66d8c9f499",
   "metadata": {
    "tags": []
   },
   "outputs": [],
   "source": [
    "# only change the line below by adding arguments for `sep` and `end`\n",
    "print(1, 2, 3)"
   ]
  },
  {
   "cell_type": "markdown",
   "id": "ed3e5b21-f71a-4c7f-89e4-8b4c6abe0984",
   "metadata": {
    "tags": []
   },
   "source": [
    "<details>\n",
    "    <summary><b>Solution</b></summary>\n",
    "    \n",
    "```python\n",
    "print(1, 2, 3, sep='-', end='!')\n",
    "```\n",
    "</details>"
   ]
  },
  {
   "cell_type": "markdown",
   "id": "7eed5433-5a72-4a85-8180-b61299665072",
   "metadata": {},
   "source": [
    "##### Exercise 5.4.3.3: Multiple appends to the same file\n",
    "\n",
    "Think about what the output of the following cell will be and why.  Then run it to see if you are correct."
   ]
  },
  {
   "cell_type": "code",
   "execution_count": null,
   "id": "05453307-5443-4145-a1ba-2b4cc98f1243",
   "metadata": {},
   "outputs": [],
   "source": [
    "f = open('blah.txt', 'w') # truncate the file\n",
    "f.close() # then close it\n",
    "\n",
    "# a function for logging messages to file\n",
    "def logger(msg, logfile):\n",
    "    \n",
    "    with open(logfile, 'a') as f:\n",
    "        print(msg, file=f)\n",
    "\n",
    "        \n",
    "# open blah.txt in Append mode, for logging messages\n",
    "with open('blah.txt', 'a', encoding='utf8') as f:\n",
    "    \n",
    "    # print a message to the file\n",
    "    print(\"This is the FIRST message.\", file=f)\n",
    "    \n",
    "    msg2 = \"This is the second message.\"\n",
    "    \n",
    "    # use logger to print a second messages\n",
    "    logger(msg2, 'blah.txt')\n",
    "    \n",
    "# after logging all of the messages, open the file\n",
    "with open('blah.txt', 'r', encoding='utf8') as f:\n",
    "    \n",
    "    # read the file \n",
    "    txt = f.read()\n",
    "\n",
    "# print the messages\n",
    "print(txt)"
   ]
  },
  {
   "cell_type": "markdown",
   "id": "627a5177-37ee-40b0-ad54-8bfe8dd591d8",
   "metadata": {
    "tags": []
   },
   "source": [
    "<details>\n",
    "    <summary><b>Solution</b></summary>\n",
    "    \n",
    "Here is the order of the code executed:\n",
    "- The file `\"blah.txt\"` is opened in append mode, and the message `\"This is the FIRST message.\"` is written to the ***buffer*** for that file object. \n",
    "- When logger is called, it also opens `\"blah.txt\"` in append mode, with its own file object, and writes `\"This is the second message.\"` to the ***buffer*** for THAT file object. \n",
    "- When the block of code inside the with statement, inside logger, is finished executing, the buffer for that file object is flushed (printing `\"This is the second message.\"` to the file) and the file is closed. \n",
    "- Then, after logger returns, the block of code inside the with statement (the with statement not inside logger) has finished, so the buffer for that file object is flushed (printing `\"This is the FIRST message.\"` to the file) and that file is closed.\n",
    "</details>"
   ]
  },
  {
   "cell_type": "markdown",
   "id": "739de57f-8bb6-48ae-847b-d5bb54c4dc90",
   "metadata": {},
   "source": [
    "##### Exercise 5.4.3.4: `flush`\n",
    "\n",
    "Add `flush=True` to the calls to `print()`.  Then run it to see if anything changes."
   ]
  },
  {
   "cell_type": "code",
   "execution_count": null,
   "id": "c56c51d4-3bdd-4dda-8d14-7fbd65f7dcd0",
   "metadata": {},
   "outputs": [],
   "source": [
    "f = open('blah.txt', 'w') # truncate the file\n",
    "f.close() # then close it\n",
    "\n",
    "# a function for logging messages to file\n",
    "def logger(msg, logfile):\n",
    "    \n",
    "    with open(logfile, 'a') as f:\n",
    "        print(msg, file=f)\n",
    "\n",
    "        \n",
    "# open blah.txt in Append mode, for logging messages\n",
    "with open('blah.txt', 'a', encoding='utf8') as f:\n",
    "    \n",
    "    # print a message to the file\n",
    "    print(\"This is the FIRST message.\", file=f)\n",
    "    \n",
    "    msg2 = \"This is the second message.\"\n",
    "    \n",
    "    # use logger to print a second messages\n",
    "    logger(msg2, 'blah.txt')\n",
    "    \n",
    "# after logging all of the messages, open the file\n",
    "with open('blah.txt', 'r', encoding='utf8') as f:\n",
    "    \n",
    "    # read the file \n",
    "    txt = f.read()\n",
    "\n",
    "# print the messages\n",
    "print(txt)"
   ]
  },
  {
   "cell_type": "markdown",
   "id": "9bb5ff5e-2ae3-4d1f-90ba-05ebd5ced4e5",
   "metadata": {},
   "source": [
    "### 5.5 gzip files<a id=\"gzip\"></a>\n",
    "\n",
    "The [***gzip***](https://docs.python.org/3/library/gzip.html) module in the Python Standard Library provides an interface to compress/decompress files similar to the GNU programs gzip and gunzip.  The signature of the open function in gzip is:\n",
    "```python\n",
    "gzip.open(filename, mode='rb', compresslevel=9, encoding=None, errors=None, newline=None)\n",
    "```\n",
    "Note that the default mode is ***binary***, not text like it is for the built-in function open. To select text mode, you need to explicitly include the `t` in the argument to `mode`.\n",
    "\n",
    "The `compresslevel` parameter controls the level of compression: an integer from 0 (no compression) to 9 (most compression, and slowest).\n",
    "\n",
    "Files compressed with gzip are usually saved with the extension `.gz` to indicate that, although that's just a convention.\n",
    "\n",
    "Also note that there are compression methods that GNU gzip/gunzip support that are not supported by the Python module gzip."
   ]
  },
  {
   "cell_type": "markdown",
   "id": "64cec899-1e96-4190-80a2-5acc785a244c",
   "metadata": {},
   "source": [
    "##### Exercise 5.5.1: `gzip` `open`\n",
    "\n",
    "Each character in the string below takes one byte to store in the UTF-8 encoding.\n",
    "\n",
    "Predict the output of the following cell, then run it to see if you are correct."
   ]
  },
  {
   "cell_type": "code",
   "execution_count": null,
   "id": "a42c32b1-1dc0-45dd-8c41-fd3e1a884028",
   "metadata": {},
   "outputs": [],
   "source": [
    "import gzip\n",
    "import os\n",
    "\n",
    "long_string = \"This is a short string.\" * 1000\n",
    "\n",
    "with open('blah.txt', 'w', encoding='utf8') as f:\n",
    "    f.write(long_string)\n",
    "\n",
    "with gzip.open('bla.txt.gz', 'w', encoding='utf8') as f:\n",
    "    f.write(long_string)\n",
    "    \n",
    "# look at the sizes of the files\n",
    "print(f\"blah.txt is {os.stat('blah.txt').st_size} bytes\")\n",
    "print(f\"bla.txt.gz is {os.stat('bla.txt.gz').st_size} bytes\")"
   ]
  },
  {
   "cell_type": "markdown",
   "id": "bb00e6ed-7d9a-483c-9594-97a318822da6",
   "metadata": {},
   "source": [
    "##### Exercise 5.5.2: `gzip open mode`\n",
    "\n",
    "Change the `mode` in the cell above from `w` to `wt`, then rerun the cell."
   ]
  },
  {
   "cell_type": "markdown",
   "id": "cd4cd77c-d690-4d52-97a3-fb7f08485347",
   "metadata": {},
   "source": [
    "### 5.6 json <a id=\"json\"></a>\n",
    "\n",
    "The [***json***](https://docs.python.org/3/library/json.html) module in the Python Standard Library provides an interface to serialize ***some*** objects to [***JSON***](https://www.json.org/) (JavaScript Object Notation), which is a very popular format for data interchange that stores data as plain text. \n",
    "\n",
    "The json module [can serialize](https://docs.python.org/3/library/json.html#py-to-json-table) the following Python data structures: strings, numbers, True, False, None, as well as dictionaries (called objects in JSON) and lists (called arrays in JSON) containing serializable items. If you serialize tuples, they get converted to lists. If you try to serialize an object that the json module does not know how to serialize, it raises <span style=\"color:red\">***TypeError***</span>: Object of type set is not JSON serializable.\n",
    "\n",
    "[Python.org](https://docs.python.org/3/library/json.html#) warns, <span style=\"color:red\">\"Be cautious when parsing JSON data from untrusted sources. A malicious JSON string may cause the decoder to consume considerable CPU and memory resources. Limiting the size of data to be parsed is recommended.\"</span>"
   ]
  },
  {
   "cell_type": "markdown",
   "id": "455b154a-69a3-4221-932d-d6f95649f87c",
   "metadata": {},
   "source": [
    "#### 5.6.1 `dump` and `load`\n",
    "\n",
    "The json function [***dump***](https://docs.python.org/3/library/json.html#json.dump) takes several keyword arguments, but the two position arguments it takes are: `obj` (the object to be serialized), and `fp` (the file object to write to, which must be in text mode).\n",
    "\n",
    "The json function [***load***](https://docs.python.org/3/library/json.html#json.load) takes a file object of a file containing JSON, and returns the corresponding Python data structure."
   ]
  },
  {
   "cell_type": "markdown",
   "id": "275d6205-2c37-4825-88fc-f1b6c52808f9",
   "metadata": {},
   "source": [
    "##### Exercise 5.6.1.1: `dump` and `load`\n",
    "\n",
    "Predict the output of the following cell, then run it to see if you are correct."
   ]
  },
  {
   "cell_type": "code",
   "execution_count": null,
   "id": "3489c5c3-04b2-4dc7-94d9-0ae936ccf848",
   "metadata": {},
   "outputs": [],
   "source": [
    "import json\n",
    "\n",
    "data = [True, None, 3.14, ('apple', 'banana', 'cherry')]\n",
    "\n",
    "with open('blah.txt', 'w', encoding='utf8') as f:\n",
    "    json.dump(data, f)\n",
    "    \n",
    "with open('blah.txt', 'r', encoding='utf8') as f:\n",
    "    data2 = json.load(f)\n",
    "    \n",
    "print(data2)"
   ]
  },
  {
   "cell_type": "markdown",
   "id": "2f208bcd-d167-4e46-9c70-a22753c2cbb4",
   "metadata": {
    "tags": []
   },
   "source": [
    "<details>\n",
    "    <summary><b>Solution</b></summary>\n",
    "    \n",
    "The tuple `('apple', 'banana', 'cherry')` is converted to a list, `['apple', 'banana', 'cherry']`, because JSON does not have two separate sequence types like Python does.\n",
    "</details>"
   ]
  },
  {
   "cell_type": "markdown",
   "id": "1faab667-a218-4e0b-99a0-89f104b0836f",
   "metadata": {},
   "source": [
    "##### Exercise 5.6.1.2: more `json`\n",
    "\n",
    "Predict the output of the following cell, then run it to see if you are correct."
   ]
  },
  {
   "cell_type": "code",
   "execution_count": null,
   "id": "1cf8f9f7-063b-407b-a08f-490108ab8f2c",
   "metadata": {},
   "outputs": [],
   "source": [
    "data = [True, None, 3.14, {'apple', 'banana', 'cherry'}]\n",
    "\n",
    "with open('blah.txt', 'w', encoding='utf8') as f:\n",
    "    json.dump(data, f)\n",
    "    \n",
    "with open('blah.txt', 'r', encoding='utf8') as f:\n",
    "    data2 = json.load(f)\n",
    "    \n",
    "print(data2)"
   ]
  },
  {
   "cell_type": "markdown",
   "id": "4e27f5ca-7048-435c-8f72-31171f0608c5",
   "metadata": {
    "tags": []
   },
   "source": [
    "<details>\n",
    "    <summary><b>Solution</b></summary>\n",
    "    \n",
    "Sets are not a type that the json module can convert to JSON, since the JSON format does not support sets.  Therefore, this raises <span style=\"color:red\">***TypeError***</span>: Object of type set is not JSON serializable.  Depending on what you are trying to achieve, you could convert the set to a list to convert it to JSON, or you could [pickle](#pickle) the set.\n",
    "</details>"
   ]
  },
  {
   "cell_type": "markdown",
   "id": "89790921-d3d4-45c2-a1f1-34cb97eccc77",
   "metadata": {},
   "source": [
    "#### 5.6.2 `dumps` and `loads`\n",
    "\n",
    "The json function [***dumps***](https://docs.python.org/3/library/json.html#json.dumps) works similarly to dump, except that it returns a string instead of writing to a file.\n",
    "\n",
    "Similary, the json function [***loads***](https://docs.python.org/3/library/json.html#json.loads) takes a string of JSON as its only positional argument, instead of a file object, and returns the corresponding Python data structure."
   ]
  },
  {
   "cell_type": "code",
   "execution_count": null,
   "id": "bfc185aa-e780-476d-930e-eaece3d81d9d",
   "metadata": {},
   "outputs": [],
   "source": [
    "data = {\n",
    "    'answer': True, \n",
    "    'grade': None, \n",
    "    'constant': 3.14, \n",
    "    'fruit': ('apple', 'banana', 'cherry')\n",
    "}\n",
    "\n",
    "# create a string encoding the data structure as JSON\n",
    "s = json.dumps(data)\n",
    "\n",
    "# decode the JSON and bind the data structure to the name `data2`\n",
    "data2 = json.loads(s)\n",
    "\n",
    "print(data)\n",
    "print(s)\n",
    "print(data2)"
   ]
  },
  {
   "cell_type": "markdown",
   "id": "ff7bbf68-98b7-46d7-bf8c-475633c34981",
   "metadata": {},
   "source": [
    "##### Exercise 5.6.2.1: compact `dumps`\n",
    "\n",
    "Add `separators=(',', ':')` to the call to `dumps()` in the cell below, then see if you can tell the difference in the string that it creates (compared to the one above). If you are storing large amounts of JSON, this could save memory."
   ]
  },
  {
   "cell_type": "code",
   "execution_count": null,
   "id": "9720cb65-671a-435a-87f6-b7a2ab5d60ed",
   "metadata": {},
   "outputs": [],
   "source": [
    "# create a string encoding the data structure as JSON\n",
    "s = json.dumps(data)\n",
    "\n",
    "print(s)"
   ]
  },
  {
   "cell_type": "markdown",
   "id": "c6457c51-4c13-464a-92d0-5d7946f1fabf",
   "metadata": {
    "tags": []
   },
   "source": [
    "<details>\n",
    "    <summary><b>Solution</b></summary>\n",
    "    \n",
    "```python\n",
    "s = json.dumps(data, separators=(',', ':'))\n",
    "```\n",
    "</details>"
   ]
  },
  {
   "cell_type": "markdown",
   "id": "c1c20b9b-5a37-44e4-84c0-320ae9fd1388",
   "metadata": {},
   "source": [
    "##### Exercise 5.6.2.2: pretty `dumps`\n",
    "\n",
    "Add `indent=4` to the call to `dumps()` in the cell below, then see if you can tell the difference in the string that it creates (compared to the one above)."
   ]
  },
  {
   "cell_type": "code",
   "execution_count": null,
   "id": "7c46bddf-773f-4d72-86bd-88a8ff5a3275",
   "metadata": {},
   "outputs": [],
   "source": [
    "# create a string encoding the data structure as JSON\n",
    "s = json.dumps(data)\n",
    "\n",
    "print(s)"
   ]
  },
  {
   "cell_type": "markdown",
   "id": "0f315ef7-0084-4522-9758-29ab577393ba",
   "metadata": {
    "tags": []
   },
   "source": [
    "<details>\n",
    "    <summary><b>Solution</b></summary>\n",
    "    \n",
    "```python\n",
    "s = json.dumps(data, indent=4)\n",
    "```\n",
    "</details>"
   ]
  },
  {
   "cell_type": "markdown",
   "id": "b410f8d9-442b-4999-847f-49067d579aff",
   "metadata": {},
   "source": [
    "#### 5.6.3 JSON Lines (JSONL) <a id=\"jsonl\"></a>\n",
    "\n",
    "Another popular data interchange format is [***JSON Lines***](https://jsonlines.org/), which is just the same as storing multiple JSON strings in the same file, separated by `\\n`.\n",
    "\n",
    "It's ok if your platform separates lines with `\\r\\n`, because the `\\n` is considered the separator between the JSON values, and the `\\r` is treated as extra whitespace, which is ignored.\n",
    "\n",
    "Files containing data in the JSON Lines format are usually named with the `.jsonl` extension to indicate that."
   ]
  },
  {
   "cell_type": "code",
   "execution_count": null,
   "id": "2c9c9d0d-3b47-4fb5-9ce4-4113bafa3258",
   "metadata": {},
   "outputs": [],
   "source": [
    "# practice data\n",
    "a = [1,2,3]\n",
    "b = {'L': 4, 'W': 5, 'H': 6}\n",
    "c = \"bacon cheeseburger\"\n",
    "\n",
    "with open('blah.jsonl', 'w') as f:\n",
    "    json.dump(a, f)\n",
    "    json.dump(b, f)\n",
    "    json.dump(c, f)"
   ]
  },
  {
   "cell_type": "markdown",
   "id": "ecf92da4-bda4-4668-8396-b78528f6b1bd",
   "metadata": {},
   "source": [
    "##### Exercise 5.6.3.1: JSON lines\n",
    "\n",
    "Predict the output of the following cell, then run it to see if you are correct."
   ]
  },
  {
   "cell_type": "code",
   "execution_count": null,
   "id": "7482fe35-d873-40a4-aac6-01d0852846b6",
   "metadata": {
    "tags": []
   },
   "outputs": [],
   "source": [
    "with open('blah.jsonl', 'r') as f:\n",
    "    data = json.load(f)\n",
    "    \n",
    "print(data)"
   ]
  },
  {
   "cell_type": "markdown",
   "id": "5e2d73bc-e804-41cf-ab31-10c4d85f2ca5",
   "metadata": {
    "tags": []
   },
   "source": [
    "<details>\n",
    "    <summary><b>Solution</b></summary>\n",
    "    \n",
    "You received the error \"<span style=\"color:red\">***JSONDecodeError***</span>: Extra data\" indicating that there is more data in the file beyond the JSON.  That is because this file does not contain a single JSON value. We are trying to read JSON Lines.  Try the next exercise.\n",
    "</details>"
   ]
  },
  {
   "cell_type": "markdown",
   "id": "35b77153-94e8-4d90-9041-3094464db3aa",
   "metadata": {},
   "source": [
    "##### Exercise 5.6.3.2: more JSON lines\n",
    "\n",
    "Predict the output of the following cell, then run it to see if you are correct."
   ]
  },
  {
   "cell_type": "code",
   "execution_count": null,
   "id": "822a4770-6f1d-4e7f-81be-a20e471060b4",
   "metadata": {
    "tags": []
   },
   "outputs": [],
   "source": [
    "with open('blah.jsonl', 'r') as f:\n",
    "    a = json.loads(f.readline())\n",
    "    b = json.loads(f.readline())\n",
    "    c = json.loads(f.readline())\n",
    "    \n",
    "print(a, b, c, sep='\\n')"
   ]
  },
  {
   "cell_type": "markdown",
   "id": "1f0e2bf0-9953-44a3-b80e-c78ae15c95df",
   "metadata": {
    "tags": []
   },
   "source": [
    "<details>\n",
    "    <summary><b>Solution</b></summary>\n",
    "    \n",
    "Same error? \"<span style=\"color:red\">***JSONDecodeError***</span>: Extra data\" indicating that there is more data in the file beyond the JSON.\n",
    "    \n",
    "Let's look at the data to see what is going on:\n",
    "</details>"
   ]
  },
  {
   "cell_type": "code",
   "execution_count": null,
   "id": "cf083c3a-0840-4f39-83ab-a05bd4ab6aed",
   "metadata": {
    "tags": []
   },
   "outputs": [],
   "source": [
    "with open('blah.jsonl', 'r') as f:\n",
    "    txt = f.read()\n",
    "    \n",
    "print(txt)"
   ]
  },
  {
   "cell_type": "markdown",
   "id": "aee6ceeb-063b-4fad-8833-875944936af1",
   "metadata": {},
   "source": [
    "##### Exercise 5.6.3.3: actual JSON lines\n",
    "\n",
    "There were NOT any newlines between the JSON values, so it was not JSON Lines.\n",
    "\n",
    "You could write a newline to the file after each call to `dump`, or you can call `dumps` to create a string then `print` that to the file (which automatically adds the newline).\n",
    "\n",
    "Your call.  Fix the next cell, then run it, and the one after it."
   ]
  },
  {
   "cell_type": "code",
   "execution_count": null,
   "id": "337d87ac-b736-4caa-b14b-3ff7c7c00840",
   "metadata": {},
   "outputs": [],
   "source": [
    "# practice data\n",
    "a = [1,2,3]\n",
    "b = {'L': 4, 'W': 5, 'H': 6}\n",
    "c = \"bacon cheeseburger\"\n",
    "\n",
    "with open('blah.jsonl', 'w') as f:\n",
    "    json.dump(a, f)\n",
    "    json.dump(b, f)\n",
    "    json.dump(c, f)"
   ]
  },
  {
   "cell_type": "code",
   "execution_count": null,
   "id": "6aa564c4-633f-49e6-bd88-3bc81c57eccb",
   "metadata": {
    "tags": []
   },
   "outputs": [],
   "source": [
    "with open('blah.jsonl', 'r') as f:\n",
    "    a = json.loads(f.readline())\n",
    "    b = json.loads(f.readline())\n",
    "    c = json.loads(f.readline())\n",
    "    \n",
    "print(a, b, c, sep='\\n')"
   ]
  },
  {
   "cell_type": "markdown",
   "id": "c73f5b23-c985-4ef7-b796-913003f8a17b",
   "metadata": {},
   "source": [
    "### 5.7 pickle <a id=\"pickle\"></a>\n",
    "\n",
    "The [***pickle***](https://docs.python.org/3/library/pickle.html) module in the Python Standard Library provides an interface to serialize most Python objects to bytes, called *pickling*, and deserialize back to a Python object, called *unpickling*. This is a Python specific protocol, so not used for data interchange as much as JSON, but capable of serializing many more types of objects, and often much faster for large data.\n",
    "\n",
    "The interface is very similar to the `json` module, except that `dump` and `load` should be written to files in binary mode, `dumps` and `loads` expect bytes instead of a string, and you can `load` multiple times from the same file if `dump` was used to pickle multiple objects to the same file.\n",
    "\n",
    "[Python.org](https://docs.python.org/3/library/pickle.html) warns, <span style=\"color:red\">\"Warning The pickle module is not secure. Only unpickle data you trust.\"</span>"
   ]
  },
  {
   "cell_type": "code",
   "execution_count": null,
   "id": "9d9f5ce4-9a9e-45dd-b473-2664d441f09c",
   "metadata": {},
   "outputs": [],
   "source": [
    "import pickle as pkl\n",
    "\n",
    "# practice data\n",
    "a = [1,2,3]\n",
    "b = {'L': 4, 'W': 5, 'H': 6}\n",
    "c = \"bacon cheeseburger\"\n",
    "\n",
    "with open('blah.pkl', 'w') as f:\n",
    "    pkl.dump(a, f)\n",
    "    pkl.dump(b, f)\n",
    "    pkl.dump(c, f)"
   ]
  },
  {
   "cell_type": "markdown",
   "id": "4c4d7be8-f2f0-492b-9aea-a6682b6a2b2b",
   "metadata": {},
   "source": [
    "##### Exercise 5.7.1: pickling object into bytes\n",
    "\n",
    "What went wrong? Read the intro again if you need to, then fix the cell above."
   ]
  },
  {
   "cell_type": "code",
   "execution_count": null,
   "id": "f5886775-e55e-421f-b3bc-7c4d90c8c1b0",
   "metadata": {
    "tags": []
   },
   "outputs": [],
   "source": [
    "with open('blah.pkl', 'rb') as f:\n",
    "    a = pkl.load(f)\n",
    "    b = pkl.load(f)\n",
    "    c = pkl.load(f)\n",
    "    \n",
    "print(a, b, c, sep='\\n')"
   ]
  },
  {
   "cell_type": "markdown",
   "id": "349e27de-451b-4925-8e0a-99f2612c18e6",
   "metadata": {},
   "source": [
    "### 5.8 Reading spreadsheets and CSVs with Pandas <a id=\"pandas\"></a>\n",
    "\n",
    "There is a [***csv***](https://docs.python.org/3/library/csv.html) module in the Python Standard Library that can be used to read CSV files, but I prefer [***pandas***](https://pandas.pydata.org/).  It can read many formats of tabular data: CSV, MS Excel spreadsheets, HTML, JSON Lines, and more.\n",
    "\n",
    "Since pandas is not part of the Python Standard Library, you need to install it before you can import it. If you are using a virtual environment (such as a conda environment), then you need to have pandas installed in your current environment in order to import it.\n",
    "\n",
    "An introduction to pandas would require an entire tutorial itself.  There is a lot of great information on the [pandas website](https://pandas.pydata.org/docs/getting_started/index.html#intro-to-pandas), including the [10 minutes to pandas](https://pandas.pydata.org/docs/user_guide/10min.html)."
   ]
  },
  {
   "cell_type": "code",
   "execution_count": null,
   "id": "ff3d5c21-02e0-4a4c-aca5-121be419b03f",
   "metadata": {},
   "outputs": [],
   "source": [
    "import pandas as pd"
   ]
  },
  {
   "cell_type": "code",
   "execution_count": null,
   "id": "da6b7c41-9d1c-4ba5-991a-de821f66f674",
   "metadata": {},
   "outputs": [],
   "source": [
    "# create a practice CSV file\n",
    "data = \"\"\"Name,Height,Weight\n",
    "Sam,70,185\n",
    "Bill,68,179\n",
    "Henry,73,234\"\"\"\n",
    "\n",
    "with open('blah.csv', 'w') as f:\n",
    "    f.write(data)"
   ]
  },
  {
   "cell_type": "code",
   "execution_count": null,
   "id": "d2505324-8957-4d02-8a0a-72b6bf680084",
   "metadata": {},
   "outputs": [],
   "source": [
    "# create a dataframe\n",
    "df = pd.read_csv('blah.csv')"
   ]
  },
  {
   "cell_type": "code",
   "execution_count": null,
   "id": "ed8c893d-a5dd-4958-a599-8cca59e72acb",
   "metadata": {},
   "outputs": [],
   "source": [
    "# look at the first 5 rows (but there are only 3 rows)\n",
    "df.head()"
   ]
  },
  {
   "cell_type": "code",
   "execution_count": null,
   "id": "85f6353f-8f90-44e7-834c-f944fbf90e7e",
   "metadata": {},
   "outputs": [],
   "source": [
    "# create a practice JSONL file\n",
    "data = \"\"\"{\"Name\": \"Sam\", \"Height\": 70, \"Weight\": 185}\n",
    "{\"Name\": \"Bill\", \"Height\": 68, \"Weight\": 179}\n",
    "{\"Name\": \"Henry\", \"Height\": 73, \"Weight\": 234}\n",
    "\"\"\"\n",
    "\n",
    "with open('blah.jsonl', 'w') as f:\n",
    "    f.write(data)"
   ]
  },
  {
   "cell_type": "code",
   "execution_count": null,
   "id": "4df3b510-fb3e-4bcd-96d2-c3de98f4d1d8",
   "metadata": {},
   "outputs": [],
   "source": [
    "# create a dataframe\n",
    "df = pd.read_json('blah.jsonl', lines=True)\n",
    "\n",
    "# look at the first 5 rows (but there are only 3 rows)\n",
    "df.head()"
   ]
  },
  {
   "cell_type": "markdown",
   "id": "0d20f7ed-bd43-4626-864d-be0a59c95292",
   "metadata": {
    "tags": []
   },
   "source": [
    "## Part 6: Containers (in more detail) <a id=\"containers_more\"></a>\n",
    "\n",
    "In this part, we will go over many of the different built-in [***container***](https://docs.python.org/3/library/collections.html) types in Python.  The three main categories of containers are [***sequences***](https://docs.python.org/3/reference/datamodel.html#sequences) (such as lists and tuples), [***mappings***](https://docs.python.org/3/reference/datamodel.html#mappings) (different flavors of dictionaries), and [***sets***](https://docs.python.org/3/reference/datamodel.html#set-types) (sets and frozensets). We will go over the methods typically associated with types in these categories, as well as the differences between the specific types in these categories."
   ]
  },
  {
   "cell_type": "markdown",
   "id": "835444e4-9659-4da3-bf03-3e55c779ce34",
   "metadata": {
    "tags": []
   },
   "source": [
    "### 6.1 Membership testing with `in` <a id=\"in_keyword\"></a>\n",
    "\n",
    "Abstractly speaking, a ***container*** is any object which implements the [`__contains__()`](https://docs.python.org/3/reference/datamodel.html#object.__contains__) method, which enables testing whether or not another object is *contained* inside of it. This is referred to as [***membership testing***](https://docs.python.org/3/reference/expressions.html#membership-test-details). To test if `item` is contained in `obj`, we use the keyword [***in***](https://docs.python.org/3/reference/expressions.html#in), with the following syntax:\n",
    "```python\n",
    "item in obj\n",
    "```\n",
    "If the above syntax does ***not*** follow the [***for***](#for_keyword) keyword, then the syntax is an expression that evalutes to either `True` or `False` (or raises an error).\n",
    "\n",
    "If `obj` is not a container, a <span style=\"color:red\">***TypeError***</span> will be raised, but the error message may seem confusing, since instead of saying that the type is not a container, it will say that the type is not iterable. This is because, if an object does ***not*** have a contain method, membership testing will try to turn the object into an iterable (covered later), to check if any of the values returned are (or are equal to) the `item`.\n",
    "\n",
    "***Note*** that `for item in obj` is ***not*** membership testing; it is the [***for statement***](#for_keyword) which begins a for loop. \n",
    "\n",
    "Let's look at some examples:"
   ]
  },
  {
   "cell_type": "code",
   "execution_count": null,
   "id": "2c2d329e-35fe-4be1-84b2-fdc16901ff5a",
   "metadata": {
    "tags": []
   },
   "outputs": [],
   "source": [
    "names = ('Randy', 'Seth', 'Tim')\n",
    "ages = [31, 42, None]\n",
    "group_size = 3\n",
    "group_name = 'Ransim7'\n",
    "hometowns = {'Randy': 'Middletown', 'Seth': 'Newburgh', 'Tim': 'Oswego'}"
   ]
  },
  {
   "cell_type": "markdown",
   "id": "594c3367-f28e-4d54-95f8-eedf260e9292",
   "metadata": {},
   "source": [
    "##### Exercise 6.1.1: Is it in?\n",
    "\n",
    "Predict the output of the following cells, then run each to see if you are correct."
   ]
  },
  {
   "cell_type": "code",
   "execution_count": null,
   "id": "7dd48531-0142-424d-b681-4aced9789069",
   "metadata": {
    "tags": []
   },
   "outputs": [],
   "source": [
    "'Randy' in names"
   ]
  },
  {
   "cell_type": "code",
   "execution_count": null,
   "id": "d1011037-60e3-4cb4-b7ca-26a2777704ea",
   "metadata": {
    "tags": []
   },
   "outputs": [],
   "source": [
    "None in ages"
   ]
  },
  {
   "cell_type": "code",
   "execution_count": null,
   "id": "8637557a-4a92-4314-bb51-1410639d45dd",
   "metadata": {
    "tags": []
   },
   "outputs": [],
   "source": [
    "31.0 in ages"
   ]
  },
  {
   "cell_type": "code",
   "execution_count": null,
   "id": "0aaae673-f6ac-4d77-9380-be1b8bf823f4",
   "metadata": {
    "tags": []
   },
   "outputs": [],
   "source": [
    "[31, 42] in ages"
   ]
  },
  {
   "cell_type": "code",
   "execution_count": null,
   "id": "8628a224-f2fe-4e6d-8cda-c80bc4a4a4b7",
   "metadata": {
    "tags": []
   },
   "outputs": [],
   "source": [
    "3 in group_size"
   ]
  },
  {
   "cell_type": "code",
   "execution_count": null,
   "id": "0f700ed4-4c1b-4216-bb6e-0d0da5b9aeb0",
   "metadata": {
    "tags": []
   },
   "outputs": [],
   "source": [
    "'r' in group_name"
   ]
  },
  {
   "cell_type": "code",
   "execution_count": null,
   "id": "f0f68add-945a-448d-b7a1-2033f81dac12",
   "metadata": {
    "tags": []
   },
   "outputs": [],
   "source": [
    "'a' in group_name"
   ]
  },
  {
   "cell_type": "code",
   "execution_count": null,
   "id": "9845671d-9a21-40bb-b01b-8ec924c8b20a",
   "metadata": {
    "tags": []
   },
   "outputs": [],
   "source": [
    "'sim' in group_name"
   ]
  },
  {
   "cell_type": "code",
   "execution_count": null,
   "id": "62b50e99-d834-4b57-b64a-8cd6a0bb0312",
   "metadata": {
    "tags": []
   },
   "outputs": [],
   "source": [
    "7 in group_name"
   ]
  },
  {
   "cell_type": "code",
   "execution_count": null,
   "id": "8d21d66c-fa54-45a7-90cf-499d65ec4203",
   "metadata": {
    "tags": []
   },
   "outputs": [],
   "source": [
    "'Middletown' in hometowns"
   ]
  },
  {
   "cell_type": "code",
   "execution_count": null,
   "id": "1cee8f35-47f8-4f66-b656-7132e759739a",
   "metadata": {
    "tags": []
   },
   "outputs": [],
   "source": [
    "('Randy', 'Middletown') in hometowns"
   ]
  },
  {
   "cell_type": "code",
   "execution_count": null,
   "id": "2a105636-adb6-45c1-a7cd-6b518339df89",
   "metadata": {
    "tags": []
   },
   "outputs": [],
   "source": [
    "['Randy', 'Middletown'] in hometowns"
   ]
  },
  {
   "cell_type": "code",
   "execution_count": null,
   "id": "05bb5113-dbf1-4cbc-bbc5-23025a147cd3",
   "metadata": {
    "tags": []
   },
   "outputs": [],
   "source": [
    "'Randy' in hometowns"
   ]
  },
  {
   "cell_type": "markdown",
   "id": "76a84b67-0040-44f9-92c1-6f159beee3dd",
   "metadata": {
    "tags": []
   },
   "source": [
    "<details>\n",
    "    <summary><b>Solutions</b></summary>\n",
    "    \n",
    "The solutions are explained in the next few subsections\n",
    "    \n",
    "</details>"
   ]
  },
  {
   "cell_type": "markdown",
   "id": "bccfdada-88d0-41e1-ab76-986a08b3c852",
   "metadata": {
    "tags": []
   },
   "source": [
    "#### 6.1.1 Membership testing for sequences\n",
    "\n",
    "When we test membership for most sequences, such as lists and tuples, using the syntax:\n",
    "```python\n",
    "some_object in some_sequence\n",
    "```\n",
    "...the value will be `True` if there is an item in `some_sequence` that equals `some_object` (has the same [***identity***](#identity) ***or*** the same [***value***](#value)), and `False` otherwise. That's why `31.0 in ages` evaluated to `True` even though the list `ages` does not have any items that are floats.\n",
    "\n",
    "***Note*** that we cannot use `in` to test if a list is a *sub-list*, such as with `[31, 42] in ages`. That membership test evaluated to `False` because none of the items in `ages` are equal to the list `[31, 42]`."
   ]
  },
  {
   "cell_type": "markdown",
   "id": "2a1909da-eb7e-4c6b-982d-2774aa15d7c4",
   "metadata": {
    "tags": []
   },
   "source": [
    "#### 6.1.2 Membership testing for strings\n",
    "\n",
    "A string is an immutable sequence of unicode code points. However, membership testing works differently for strings. The test...\n",
    "```python\n",
    "some_object in some_string\n",
    "```\n",
    "***...will*** evaluate to `True` if `some_object` is a *sub-string* of `some_string`. That's why `'sim' in group_name` evaluated to `True`. Notice that the membership test is ***case-sensitive***, which is why `'r' in group_name` evaluated to `False`.\n",
    "\n",
    "***Note*** also that `some_object` must be a string or a <span style=\"color:red\">***TypeError***</span> will be raised rather than simply returning `False`, such as when we tried `7 in group_name`."
   ]
  },
  {
   "cell_type": "markdown",
   "id": "94397668-812b-4913-b044-2fa6d9e2b09e",
   "metadata": {
    "tags": []
   },
   "source": [
    "#### 6.1.3 Membership testing for dictionaries\n",
    "\n",
    "For dictionaries, the membership test...\n",
    "```python\n",
    "some_object in some_dictionary\n",
    "```\n",
    "evaluates to `True` if `some_object` is a ***key*** of `some_dictionary`. That's why both `'Middletown' in hometowns` and `('Randy', 'Middletown') in hometowns` evaluated to `False`, but `'Randy' in hometowns` evaluated to `True`.\n",
    "\n",
    "***Note*** also that `some_object` must be hashable or a <span style=\"color:red\">***TypeError***</span> will be raised rather than simply returning `False`, such as when we tried `['Randy', 'Middletown'] in hometowns`.  The reason why will be explained in the section on *Membership testing for sets*."
   ]
  },
  {
   "cell_type": "markdown",
   "id": "003bbbfd-cadd-440b-9f23-7cfa45238e66",
   "metadata": {
    "tags": []
   },
   "source": [
    "#### 6.1.4 Membership testing for sets\n",
    "\n",
    "For sets, the membership test...\n",
    "```python\n",
    "some_object in some_set\n",
    "```\n",
    "evaluates to `True` if `some_object` is an item in `some_set`.\n",
    "\n",
    "The ***very important*** thing to note about membership tests for sets, compared to those for lists or tuples, is that the time it takes to perform a membership test for a set does not depend on the size of the set, whereas it does for lists and tuples.  \n",
    "\n",
    "If list `a` is a million times longer than list `b`, then on average it will take a million times longer to perform a membership test `x in a`. This is because the membership test scans through the list item by item until it finds an item equal to `x` or the list is exhausted.\n",
    "\n",
    "However, if set `c` is a million times larger than set `d`, it doesn't take any longer to perform a membership test on `c`.  This is because sets are implemented as resizable hash tables (in CPython), so membership tests are performed by computing the hash code of `some_object` to look up it's location in the set (if it is there) and check that one location.\n",
    "\n",
    "***Note*** that this is why `some_object` must be hashable or a <span style=\"color:red\">***TypeError***</span> will be raised rather than simply returning `False`. The same is true for dictionary keys, which are also implemented as resizable hash tables.\n",
    "\n",
    "***Important tip***:  if you have a very large list or tuple, and are going to be testing membership on it many times, you may want to convert it to a set first so that the tests are faster. Of course, this is only possible if the items in the list or tuple are hashable. If the items are not hashable (such as lists), then you may want to try to make them hashable (such as converting lists to tuples)."
   ]
  },
  {
   "cell_type": "markdown",
   "id": "36f4b5a0-b652-45e2-b392-5a8ad4ac00c5",
   "metadata": {
    "tags": []
   },
   "source": [
    "#### 6.1.5 `not in`\n",
    "\n",
    "Just like the `is not` operator, which is opposite of `is`, Python has a `not in` operator that is the opposite of `in` (i.e. `True` when `in` is `False`, and vice versa). For readability, use\n",
    "```python\n",
    "some_object not in some_container\n",
    "```\n",
    "...rather than\n",
    "```python\n",
    "not some_object in some_container\n",
    "```"
   ]
  },
  {
   "cell_type": "markdown",
   "id": "2bd1dc16-cd6d-4afc-99fd-76e2b449a06d",
   "metadata": {},
   "source": [
    "##### Exercise 6.1.2: Is it in?\n",
    "\n",
    "Predict the output of the following cells. Explain ***why*** you expect that output. Then run each to see if you are correct."
   ]
  },
  {
   "cell_type": "code",
   "execution_count": null,
   "id": "a8ade62b-c489-4c3a-b2c0-e0631c37071c",
   "metadata": {
    "tags": []
   },
   "outputs": [],
   "source": [
    "[123] in [123, 456, 789]"
   ]
  },
  {
   "cell_type": "code",
   "execution_count": null,
   "id": "687ed14e-145b-4652-9b21-7710bdde261f",
   "metadata": {},
   "outputs": [],
   "source": [
    "'3' in \"hello\""
   ]
  },
  {
   "cell_type": "code",
   "execution_count": null,
   "id": "0768a255-895f-4804-b078-d177afc8e4fc",
   "metadata": {},
   "outputs": [],
   "source": [
    "(\"he\") in \"hello\""
   ]
  },
  {
   "cell_type": "code",
   "execution_count": null,
   "id": "45fceb67-2719-4349-b2c5-b466c0f8834a",
   "metadata": {},
   "outputs": [],
   "source": [
    "\"\" in \"hello\""
   ]
  },
  {
   "cell_type": "code",
   "execution_count": null,
   "id": "fa4da42f-78ae-458b-81e4-722e8762393d",
   "metadata": {},
   "outputs": [],
   "source": [
    "None in \"hello\""
   ]
  },
  {
   "cell_type": "code",
   "execution_count": null,
   "id": "5f7a5464-00df-4c27-b060-01c065d209ba",
   "metadata": {},
   "outputs": [],
   "source": [
    "[55] in {\"Ned\": [33], \"Oscar\": [44], \"Pete\": [55]} "
   ]
  },
  {
   "cell_type": "code",
   "execution_count": null,
   "id": "f9dbb400-596f-483b-acae-ade52b8a4a09",
   "metadata": {},
   "outputs": [],
   "source": [
    "(22) in {11, 22, 33, 44}"
   ]
  },
  {
   "cell_type": "code",
   "execution_count": null,
   "id": "079e4ee8-0ece-4834-8924-40278e1382bd",
   "metadata": {},
   "outputs": [],
   "source": [
    "x = float('nan')\n",
    "y = float('nan')\n",
    "x in [y]"
   ]
  },
  {
   "cell_type": "code",
   "execution_count": null,
   "id": "34b2c602-c55c-4dd0-b7dd-d983846b6bb8",
   "metadata": {
    "tags": []
   },
   "outputs": [],
   "source": [
    "1 in [True, False, None]"
   ]
  },
  {
   "cell_type": "code",
   "execution_count": null,
   "id": "be233bb7-b5d3-4b15-96bb-86a5ac7daf2b",
   "metadata": {},
   "outputs": [],
   "source": [
    "a = [1,2,3]\n",
    "b = [1,2,3]\n",
    "c = [b]\n",
    "a in c"
   ]
  },
  {
   "cell_type": "markdown",
   "id": "e86decf8-bedb-4562-adbe-f6d06fe3bac9",
   "metadata": {
    "tags": []
   },
   "source": [
    "<details>\n",
    "    <summary><b>Solutions</b></summary>\n",
    "    \n",
    "The ***list*** `[123]` is ***not*** in the list `[123, 456, 789]`.\n",
    "    \n",
    "The string `'3'` is not in the string `\"hello\"`, but the string `\"he\"` is (it's a sub-string of it). Note that the parentheses do ***not*** make a tuple, because that would require a trailing comma, as in `(\"he\",)`.\n",
    "    \n",
    "The empty string ***is*** a substring of ***every*** string, just like the empty set is a subset of every set. If this seems strange, think about a definition of sub-string: Every character in the sub-string appears in the string, in the same order and contiguous. This is true for the empty string (called vacuously true).\n",
    "    \n",
    "`None` is not a string, so the membership test raises a <span style=\"color:red\">***TypeError***</span>.\n",
    "    \n",
    "`[55]` is not a ***key***, and it is not hashable, so it raises a <span style=\"color:red\">***TypeError***</span>.\n",
    "\n",
    "`22` is in the set. (again note that this is ***not*** a tuple!)\n",
    "    \n",
    "***Remember*** that membership tests if the object is in the container ***or*** there is a value in the container that is equal to the value of the object. Since `x is y` ***and*** `x == y` both evaluate as `False`, so does `x in [y]`! (see [here](#nan_comparison)).\n",
    "    \n",
    "`1` has the same value as `True` (i.e. `1==True`), so `1 in [True, False, None]` evaluates as `True`.\n",
    "    \n",
    "Although you ***cannot*** access the list `a` through the list `c` (`c` does ***not*** contain a reference to `a`), the membership test evaluates as `True` because `c` contains a list with the same value (i.e. `a == b`).\n",
    "    \n",
    "</details>"
   ]
  },
  {
   "cell_type": "markdown",
   "id": "71750de5-1706-4f53-9c91-2ba2154e7b2f",
   "metadata": {
    "tags": []
   },
   "source": [
    "### 6.2 Subscription using `[]` <a id=\"subscription\"></a>\n",
    "\n",
    "To reference an item in a container named `some_container`, use the `key` for that item inside square brackets following the container, as in:\n",
    "```python\n",
    "some_container[key]\n",
    "```\n",
    "The expression above will evaluate to the item in `some_container` designated by `key`, if there is one, otherwise an error will be raised. \n",
    "\n",
    "Note that `key` can be any expression that evaluates to an object with the same value as one of the keys of the container.\n",
    "\n",
    "This is referred to as [***subscription***](https://docs.python.org/3/reference/expressions.html#subscriptions) (also called indexing). The expression is evaluated by calling the `__getitem__` [***method***](https://docs.python.org/3/reference/datamodel.html#object.__getitem__) of `some_container` with the argument `key`.\n",
    "\n",
    "Sequences of length `N` accept integer keys (also called indices) from `0` to `N-1`, referred to as the [index set](https://docs.python.org/3/reference/datamodel.html#sequences). Built-in sequences also accept negative integer keys between `-N` and `-1`, which is described in the section on [***negative indices***](#negative_indices), and accept slice objects, described in the section on [***slicing***](#slicing). If subscription is performed with an invalid key (i.e. invalid index), <span style=\"color:red\">***IndexError***</span> will be raised.\n",
    "\n",
    "Mappings can have arbitrary hashable keys (not just integers and slices). If subscription is attempted with an unhashable key, a <span style=\"color:red\">***TypeError***</span> will be raised. If subscription is attempted with a value that is not one of the keys in the mapping, a <span style=\"color:red\">***KeyError***</span> will be raised. \n",
    "\n",
    "Let's look at some examples:"
   ]
  },
  {
   "cell_type": "code",
   "execution_count": null,
   "id": "fec57adc-a430-4989-b066-dfaf9d4adb51",
   "metadata": {
    "tags": []
   },
   "outputs": [],
   "source": [
    "names = ('Randy', 'Seth', 'Tim')\n",
    "ages = [31, 42, None]\n",
    "group_size = 3\n",
    "group_name = 'Ransim'\n",
    "hometowns = {'Randy': 'Middletown', 'Seth': 'Newburgh', 'Tim': 'Oswego'}"
   ]
  },
  {
   "cell_type": "markdown",
   "id": "0ad68dab-b6bd-41a2-b1a4-cadd56d4b968",
   "metadata": {},
   "source": [
    "##### Exercise 6.2.1: Which item is it?\n",
    "\n",
    "Predict the output of the following cells, then run each to see if you are correct."
   ]
  },
  {
   "cell_type": "code",
   "execution_count": null,
   "id": "b90aa831-3f7f-4b1e-86c9-8047b3b35c33",
   "metadata": {
    "tags": []
   },
   "outputs": [],
   "source": [
    "names[1]"
   ]
  },
  {
   "cell_type": "code",
   "execution_count": null,
   "id": "368c5d0c-3506-4b1c-8943-a0a225870c8c",
   "metadata": {
    "tags": []
   },
   "outputs": [],
   "source": [
    "ages[False]"
   ]
  },
  {
   "cell_type": "code",
   "execution_count": null,
   "id": "435404d9-3da0-455a-9680-3a8166f209fd",
   "metadata": {
    "tags": []
   },
   "outputs": [],
   "source": [
    "ages[2]"
   ]
  },
  {
   "cell_type": "code",
   "execution_count": null,
   "id": "e159b5a6-ed05-41ed-89d4-c9cd6335b6a5",
   "metadata": {
    "tags": []
   },
   "outputs": [],
   "source": [
    "group_size[3]"
   ]
  },
  {
   "cell_type": "code",
   "execution_count": null,
   "id": "174b155c-651e-4237-bcdb-9c1ed8bbfd6c",
   "metadata": {
    "tags": []
   },
   "outputs": [],
   "source": [
    "group_name[6]"
   ]
  },
  {
   "cell_type": "code",
   "execution_count": null,
   "id": "698effea-3713-4191-bad4-369816ab1b5d",
   "metadata": {
    "tags": []
   },
   "outputs": [],
   "source": [
    "hometowns[0]"
   ]
  },
  {
   "cell_type": "markdown",
   "id": "19aa8195-cf0f-4421-a617-9ce0001c7661",
   "metadata": {
    "tags": []
   },
   "source": [
    "<details>\n",
    "    <summary><b>Solutions</b></summary>\n",
    "    \n",
    "***Remember*** that Python is zero-indexed, so that `names[1]` is the ***second*** item: `'Seth'`.\n",
    "    \n",
    "`False` has the same value as `0` (i.e. `False == 0`) so `ages[False]` is the same as `ages[0]`, which is `31`.\n",
    "    \n",
    "`ages[2]` is `None`, but that does not produce any output by default. If you evaluate `print(ages[2])`, that will print `None`.\n",
    "    \n",
    "`group_size` is an integer, which is not subscriptable so you get a <span style=\"color:red\">***TypeError***</span>. Integers are not containers.\n",
    "    \n",
    "`group_name` only has a length of `6`, so the index `6` is \"out of range\", raising an <span style=\"color:red\">***IndexError***</span>. The index set includes integers from `0` to `5`.\n",
    "\n",
    "`0` is not one of the keys for the dictionary `hometowns`. To get the first item, you need to use the first key, `'Randy'`, as in `hometowns['Randy']`, which would evaluate to `'Middletown'`.  You could also convert the dictionary's [values](#dict_values) to a list using the [list constructor](#set_dedupe_list), then select the first item in that list, as in `list(hometown.values())[0]`\n",
    "    \n",
    "</details>"
   ]
  },
  {
   "cell_type": "markdown",
   "id": "63304fd2-314d-4d16-8f81-1c899b36b10d",
   "metadata": {
    "tags": []
   },
   "source": [
    "#### 6.2.1 Negative indices <a id=\"negative_indices\"></a>\n",
    "\n",
    "Built-in sequences accept negative indices, which count position backward from the end of the sequence, meaning that `some_sequence[-1]` is the last item, `some_sequence[-2]` is the item before that, and so on... up to `some_sequence[-N]`, where `N = len(some_sequence)`, which is the first item in the sequence.\n",
    "\n",
    "For example, each of the following expressions would evaluate as `True`:\n",
    "```python\n",
    "\"Python\"[-1] == \"n\"\n",
    "\"Python\"[-2] == \"o\"\n",
    "\"Python\"[-3] == \"h\"\n",
    "\"Python\"[-4] == \"t\"\n",
    "\"Python\"[-5] == \"y\"\n",
    "\"Python\"[-6] == \"P\"\n",
    "```\n",
    "Although Python uses 0-based indexing, the reason the last item is `-1`, instead of `-0`, is because `-0 == 0`.\n",
    "\n",
    "One way to remember which item is referred to by a negative sequence is by adding the length of the sequence to the index. So if the sequence is length `N`, then `-N` is the same as `-N+N`, or `0` (i.e. the first item), and `-1` is the same `-1+N`, or `N-1` (i.e. the last item).\n",
    "\n",
    "Let's look at some examples:"
   ]
  },
  {
   "cell_type": "code",
   "execution_count": null,
   "id": "518545d4-170d-48de-8746-7564e6b828e5",
   "metadata": {
    "tags": []
   },
   "outputs": [],
   "source": [
    "names = ('Randy', 'Seth', 'Tim')\n",
    "ages = [31, 42, None]\n",
    "group_size = 3\n",
    "group_name = 'Ransim'\n",
    "hometowns = {0: 'Middletown', 1: 'Newburgh', 2: 'Oswego'}"
   ]
  },
  {
   "cell_type": "markdown",
   "id": "8db65d84-c72b-43f1-acdd-6aa30b3e2e01",
   "metadata": {},
   "source": [
    "##### Exercise 6.2.1: Which item is it?\n",
    "\n",
    "Predict the output of the following cells, then run each to see if you are correct."
   ]
  },
  {
   "cell_type": "code",
   "execution_count": null,
   "id": "cbd397b4-a796-47a9-bd99-d04173f89167",
   "metadata": {
    "tags": []
   },
   "outputs": [],
   "source": [
    "names[-0]"
   ]
  },
  {
   "cell_type": "code",
   "execution_count": null,
   "id": "c628ecab-af72-4474-92a1-154a0a26fab1",
   "metadata": {
    "tags": []
   },
   "outputs": [],
   "source": [
    "ages[-1]"
   ]
  },
  {
   "cell_type": "code",
   "execution_count": null,
   "id": "90f03dd2-704a-41cf-8aed-ef8efa7bdc28",
   "metadata": {
    "tags": []
   },
   "outputs": [],
   "source": [
    "group_size[-3]"
   ]
  },
  {
   "cell_type": "code",
   "execution_count": null,
   "id": "73c55900-9543-4bfb-ab05-f8faecd3f658",
   "metadata": {
    "tags": []
   },
   "outputs": [],
   "source": [
    "group_name[-6]"
   ]
  },
  {
   "cell_type": "code",
   "execution_count": null,
   "id": "e835b3ec-2f54-479b-aed9-5fd1c8a6e659",
   "metadata": {
    "tags": []
   },
   "outputs": [],
   "source": [
    "hometowns[-1]"
   ]
  },
  {
   "cell_type": "markdown",
   "id": "833d636a-ae20-48ba-925a-2c1b46b0b188",
   "metadata": {
    "tags": []
   },
   "source": [
    "<details>\n",
    "    <summary><b>Solutions</b></summary>\n",
    "    \n",
    "***Remember***, although Python is zero-indexed, `-0 == 0`, so that `names[-0]` is the ***first*** item: `'Randy'`.\n",
    "    \n",
    "`ages[-1]` is `None`, but that does not produce any output by default. If you evaluate `print(ages[2])`, that will print `None`.\n",
    "    \n",
    "`group_size` is an integer, which is not subscriptable so you get a <span style=\"color:red\">***TypeError***</span>. Integers are not containers.\n",
    "    \n",
    "`group_name` has a length of `6`, so the index `-6` is the first item. It might take practice to remember that, for a sequence of length `N`, the index `N` is \"out of range\" and raises an <span style=\"color:red\">***IndexError***</span>, but the index `-N` is not out of range; it's the first item.\n",
    "\n",
    "`-1` is not one of the keys for the dictionary `hometowns`. To get the last item, you need to use the last key, `2`, as in `hometowns[2]`, which would evaluate to `'Oswego'`.  Making the keys to dictionaries be integers does ***not*** make them behave as sequences.  You could also convert the dictionary's [values](#dict_values) to a list using the [list constructor](#set_dedupe_list), then select the last item in that list, as in `list(hometown.values())[-1]`\n",
    "    \n",
    "</details>"
   ]
  },
  {
   "cell_type": "markdown",
   "id": "26f2b653-f452-4e3e-8f8d-ef5c35e9ed8d",
   "metadata": {
    "tags": []
   },
   "source": [
    "#### 6.2.2 Slicing <a id=\"slicing\"></a>\n",
    "\n",
    "Built-in sequences also accept [***slices***](https://docs.python.org/3/glossary.html#term-slice) as keys, which is referred to as [***slicing***](https://docs.python.org/3/reference/expressions.html#slicings) instead of subscription. A slice of a sequence is a sequence of the same type, which is a [***shallow copy***](#list_copy) of a (possibly empty) part of the sequence (or the whole thing).\n",
    "\n",
    "The syntax for slicing a sequence named `some_sequence` is one or two colons, `:`, inside square brackets after the name, optionally with expressions before and/or after each colon that evaluate to ***integers*** or `None`. The `step` ***cannot*** be zero.  Here are some examples of the syntax:\n",
    "```python\n",
    "some_sequence1[start:stop]\n",
    "some_sequence2[start:stop:step]\n",
    "```\n",
    "Before describing `start`, `stop`, and `step` (which behave somewhat similarly as they do in [ranges](#ranges_intro)) in detail, let's look at some examples:"
   ]
  },
  {
   "cell_type": "code",
   "execution_count": null,
   "id": "0f9e219f-55c9-4ce7-ba4b-63c36426ec4a",
   "metadata": {
    "tags": []
   },
   "outputs": [],
   "source": [
    "numbers = (0,1,2,3,4,5,6,7,8,9)\n",
    "letters = \"abcdefghijklmnopqrstuvwxyz\"\n",
    "\n",
    "print(numbers[:]) # shallow copy\n",
    "print(letters[:]) # shallow copy\n",
    "print(numbers[2:6])\n",
    "print(letters[2:6])\n",
    "print(numbers[7:4]) # empty tuple\n",
    "print(letters[7:4]) # empty string\n",
    "print(numbers[1:9:2]) # every other, starting at 1, stopping before 9\n",
    "print(letters[1:9:2]) # every other, starting at 1, stopping before 9\n",
    "print(numbers[9:2:-3])\n",
    "print(letters[9:2:-3])\n",
    "print(numbers[::-1]) # reversed\n",
    "print(letters[::-1]) # reversed"
   ]
  },
  {
   "cell_type": "markdown",
   "id": "4ab5b4a4-b703-4a1c-8ea3-a90750de9140",
   "metadata": {
    "tags": []
   },
   "source": [
    "##### 6.2.2.1 `start`\n",
    "\n",
    "When `start` is given, that is the first item in the new sequence, if it is non-empty. \n",
    "\n",
    "If `start` is not given, it defaults to `None`, which will make the first item in the new sequence the same as the first item in the original sequence ***if step is positive***, or the last item in the original sequence if step is negative.\n",
    "\n",
    "If `start` is negative, the length of the sequence is added to it, just like for negative indices. \n",
    "\n",
    "However, `start` is also ***clipped*** to be between `0` and `N-1` (for a sequence of length `N`), so you can use ***any integer*** value for `start` without raising an error.\n",
    "\n",
    "If, after adding the length of the sequence to negative values of `start` and/or `stop`, `start >= stop` and `step > 0` or `step is None`, then the slice will be empty. Similarly, if `start <= stop` and `step < 0`, then the slice will be empty."
   ]
  },
  {
   "cell_type": "code",
   "execution_count": null,
   "id": "20a7da6e-c80f-44d5-bb0f-9ae27b269369",
   "metadata": {
    "tags": []
   },
   "outputs": [],
   "source": [
    "# running this code will print examples\n",
    "x = (0,1,2,3,4,5)\n",
    "print(f\"For x = {x}, which has length {len(x)}\\n\")\n",
    "for i in range(-7, 6):\n",
    "    print(f\"{f'x[{i}:4] =':>9}\", x[i:4])"
   ]
  },
  {
   "cell_type": "markdown",
   "id": "c20b1902-59e2-4e95-b0d0-130aa78e854d",
   "metadata": {
    "tags": []
   },
   "source": [
    "##### 6.2.2.2 `stop`\n",
    "\n",
    "When `stop` is given, the item at that index will ***not*** be in the slice. This is similar to [ranges](#ranges_intro).\n",
    "\n",
    "If `stop` is not given, it defaults to `None`, which for a sequence of length `N` is the same as having `stop = N` `step > 0`, or `stop = -(N+1)` for `step < 0`.\n",
    "\n",
    "If `stop` is negative, the length of the sequence is added to it, just like for negative indices. \n",
    "\n",
    "Just like `start`, `stop` is ***clipped*** so you can use ***any integer*** value for `stop` without raising an error.\n",
    "\n",
    "Again, after adding the length of the sequence to negative values of `start` and/or `stop`, if `start >= stop` and `step > 0` or `step is None`, then the slice will be empty. Similarly, if `start <= stop` and `step < 0`, then the slice will be empty."
   ]
  },
  {
   "cell_type": "code",
   "execution_count": null,
   "id": "008e2be4-b058-49c3-bfba-808a26490c97",
   "metadata": {
    "tags": []
   },
   "outputs": [],
   "source": [
    "x = (0,1,2,3,4,5)\n",
    "\n",
    "print(x[:3]) # everything up to, but NOT including the value at index 3\n",
    "print(x[:4])\n",
    "print(x[:17]) # the whole sequence\n",
    "print(x[:-99]) # since\n",
    "print(x[:-99:-1])\n",
    "print(x[:2:-1])"
   ]
  },
  {
   "cell_type": "markdown",
   "id": "c53c0441-173b-40c9-970b-6083c71093b4",
   "metadata": {
    "tags": []
   },
   "source": [
    "##### 6.2.2.3 `step`\n",
    "\n",
    "The `step` has a similar effect as it does in [ranges](#ranges_intro).\n",
    "\n",
    "If `step` is `None`, it behaves as `step = 1`.\n",
    "\n",
    "If `step > 0`, the slice is taking in order of increasing indices from the original sequence.\n",
    "\n",
    "If `step < 0`, the slice is taking in order of ***decreasing*** indices from the original sequence.\n",
    "\n",
    "`step` cannot be `0`.\n",
    "\n",
    "If step is not `1` or `-1`, then items are skipped."
   ]
  },
  {
   "cell_type": "code",
   "execution_count": null,
   "id": "d588b40d-c7f5-44cd-8753-cf14a1d9a294",
   "metadata": {
    "tags": []
   },
   "outputs": [],
   "source": [
    "x = (0,1,2,3,4,5)\n",
    "\n",
    "print(x[::]) # same as x[:]\n",
    "print(x[::1]) # same as x[:]\n",
    "print(x[::2]) # every other item\n",
    "print(x[::3]) # every third item\n",
    "print(x[::-1]) # reversed\n",
    "print(x[::-2]) # every other item, reversed"
   ]
  },
  {
   "cell_type": "markdown",
   "id": "10b3f318-7962-4f00-8031-69fce2d5d112",
   "metadata": {},
   "source": [
    "##### Exercise 6.2.2.3: Predict that slice!\n",
    "\n",
    "Predict the output of the following cells, then run each to see if you are correct."
   ]
  },
  {
   "cell_type": "code",
   "execution_count": null,
   "id": "c854e7da-bbfb-4c01-a8c3-09e14a448fed",
   "metadata": {},
   "outputs": [],
   "source": [
    "x = (0,1,2,3,4,5,6,7,8,9)\n",
    "\n",
    "x[3:6]"
   ]
  },
  {
   "cell_type": "code",
   "execution_count": null,
   "id": "7ea6ff5d-fece-4152-bd77-3a3b9eeb192a",
   "metadata": {},
   "outputs": [],
   "source": [
    "x[8:2]"
   ]
  },
  {
   "cell_type": "code",
   "execution_count": null,
   "id": "867d8f34-1a3c-4fb2-a979-e21af236e6c3",
   "metadata": {},
   "outputs": [],
   "source": [
    "x[0:8:2]"
   ]
  },
  {
   "cell_type": "code",
   "execution_count": null,
   "id": "0719356d-b083-407b-b181-e6c276725cfd",
   "metadata": {},
   "outputs": [],
   "source": [
    "x[6::-1]"
   ]
  },
  {
   "cell_type": "code",
   "execution_count": null,
   "id": "db32ec7b-3053-42b6-845a-c220929da36a",
   "metadata": {},
   "outputs": [],
   "source": [
    "x[9:0:-1]"
   ]
  },
  {
   "cell_type": "code",
   "execution_count": null,
   "id": "11427459-7456-472f-9b6f-ae5ddd9bddf0",
   "metadata": {},
   "outputs": [],
   "source": [
    "x[0:11]"
   ]
  },
  {
   "cell_type": "code",
   "execution_count": null,
   "id": "5f65c34a-8786-4a5c-bb7b-df48d66678da",
   "metadata": {},
   "outputs": [],
   "source": [
    "x[3:6:-1]"
   ]
  },
  {
   "cell_type": "markdown",
   "id": "aa87000f-fc51-4910-ba84-0a3ee67939dd",
   "metadata": {
    "tags": []
   },
   "source": [
    "<details>\n",
    "    <summary><b>Solutions</b></summary>\n",
    "    \n",
    "`x[3:6]` is a ***copy*** of the sublist that starts at `3` and ends ***before*** `6` (increasing indices).\n",
    "    \n",
    "Since `8 > 2` and `step` is not given, `x[8:2]` is an empty list.\n",
    "    \n",
    "`x[0:8:2]` has a `step = 2`, so it is every other number, starting at `0` and ending ***before*** `8`.\n",
    "    \n",
    "`x[6::-1]` has `step = -1`, so it is every item starting at index `6` and going backwards (decreasing indices).\n",
    "    \n",
    "`x[9:0:-1]` is a ***copy*** of ***almost*** the whole list backwards, but it stops ***before*** reaching item `0`.\n",
    "    \n",
    "`x[0:11]` is a ***copy*** of the whole list. ***Remember*** that indices that are \"out of range\" are ***clipped***, so that there is no error raised.\n",
    "    \n",
    "`3 < 6`, but `step < 0`, so `x[3:6:-1]` is an empty list.\n",
    "</details>"
   ]
  },
  {
   "cell_type": "markdown",
   "id": "220ea7d0-da19-4b47-bfec-4aec4c25d940",
   "metadata": {
    "tags": []
   },
   "source": [
    "##### 6.2.2.4 slice objects\n",
    "\n",
    "When the syntax `some_container[i:j:k]` is parsed, it creates a [***slice object***](https://docs.python.org/3/reference/datamodel.html#slice-objects) that is equal to the slice object created using the built-in [***slice( )***](https://docs.python.org/3/library/functions.html#slice) called as:\n",
    "```python\n",
    "slice(start=i, stop=j, step=k)\n",
    "```\n",
    "If any of `i`, `j`, or `k` are missing, the equivalent slice object would be created by using `None` for that argument.\n",
    "\n",
    "If you ever want to create a slice object programmaticaly, you could use:\n",
    "```python\n",
    "x = slice(start=i, stop=j, step=k)\n",
    "some_container[x]\n",
    "```\n",
    "...to do the same thing as:\n",
    "```python\n",
    "some_container[i:j:k]\n",
    "```"
   ]
  },
  {
   "cell_type": "markdown",
   "id": "abc0c191-cb5e-4ec3-9ee5-434a34d483c0",
   "metadata": {
    "tags": []
   },
   "source": [
    "#### 6.2.3 Assignment statements with subscriptions\n",
    "\n",
    "This section will cover several examples of [***assignment statements***](#assignment) with subscriptions (and slicings), including subscriptions as targets on the left hand side and subscriptions as expressions on the right hand side.\n",
    "\n",
    "As the target on the left hand side, there's an important difference between a mapping subscription, a sequence subscription, and a sequence slicing."
   ]
  },
  {
   "cell_type": "markdown",
   "id": "c06b8473-dff7-4e62-9496-f93253454e35",
   "metadata": {
    "tags": []
   },
   "source": [
    "##### 6.2.3.1 Subscriptions in the expression list\n",
    "\n",
    "A normal subscription (i.e. not a slicing) in the expression list of an assignment statement will be evaluated, and that ***item*** of the container will be assigned to the appropriate target in the target list. Now that item will have at least two names. For example:\n",
    "```python\n",
    "some_name = some_container[some_key]\n",
    "```\n",
    "In the above assignment, the name `some_name` is bound to the item in `some_container` designated by the key `some_key`. Now that item can be referenced either as `some_name` or as `some_container[some_key]`.\n",
    "\n",
    "***Note*** that for mutable objects, you can mutate the object through either reference."
   ]
  },
  {
   "cell_type": "markdown",
   "id": "37c166e5-e06b-4364-a83e-b41b1dc0216a",
   "metadata": {},
   "source": [
    "##### Exercise 6.2.3.1: subscription in the expression list\n",
    "\n",
    "Predict the output of the following cells, then run each to see if you are correct."
   ]
  },
  {
   "cell_type": "code",
   "execution_count": null,
   "id": "fd027220-5f91-4f4f-ba7a-5b46b4045ea6",
   "metadata": {
    "tags": []
   },
   "outputs": [],
   "source": [
    "a = [0,1,2,3,4,5]\n",
    "b = a[3]\n",
    "print(b)"
   ]
  },
  {
   "cell_type": "code",
   "execution_count": null,
   "id": "5ea88356-7612-44c2-bfd2-ad6403f82a0d",
   "metadata": {
    "tags": []
   },
   "outputs": [],
   "source": [
    "b = 6\n",
    "print(a)"
   ]
  },
  {
   "cell_type": "code",
   "execution_count": null,
   "id": "e5744807-fd25-41b2-81f1-b7a05ca70016",
   "metadata": {
    "tags": []
   },
   "outputs": [],
   "source": [
    "x = {'a': [1], 'b': (2), 'c': {3}}\n",
    "y = x['a']\n",
    "print(y)"
   ]
  },
  {
   "cell_type": "code",
   "execution_count": null,
   "id": "4203e027-11e5-4539-82ca-cf128d61d888",
   "metadata": {
    "tags": []
   },
   "outputs": [],
   "source": [
    "y[0] = 4\n",
    "print(x)"
   ]
  },
  {
   "cell_type": "markdown",
   "id": "cbfd9a46-a796-4fd7-b00a-1d1e9f54c0d8",
   "metadata": {
    "tags": []
   },
   "source": [
    "<details>\n",
    "    <summary><b>Solutions</b></summary>\n",
    "\n",
    "`a[3]` equals `3`, so now `b` equals `3`.\n",
    "    \n",
    "`b = 6` rebinds the name `b` so that it now refers to `6`. That does ***not*** change the item that `a[3]` refers to, which is the integer `3`. In fact, since integers are not mutable, there is no way to effect `a` through `b`.\n",
    "    \n",
    "`x['a']` equals the list `[1]`, so now the name `y` refers to that ***same*** list (remember that assignment does not create a copy).\n",
    "    \n",
    "`y[0] = 4` mutates the list that `y` refers to, by changing its first item to the integer 4. That is the ***same*** list that `x['a']` refers to, so we see that mutation when we print `x`.\n",
    "    \n",
    "***Note*** the value in `y` identified by the key `'b'`. It is not a tuple.\n",
    "</details>"
   ]
  },
  {
   "cell_type": "markdown",
   "id": "59f1cabc-a8e8-41c5-abc6-501916fdd73d",
   "metadata": {
    "tags": []
   },
   "source": [
    "##### 6.2.3.2 Slicing in the expression list\n",
    "\n",
    "A slicing in the expression list of an assignment statement will be evaluated, and that ***new container object*** will be assigned to the appropriate target in the target list. If the container is not empty, then it is a  [***shallow copy***](#list_copy) of all or part of the container that was sliced. For example:\n",
    "```python\n",
    "some_name = some_container[some_slice]\n",
    "```\n",
    "In the above assignment, the name `some_name` is bound to a container of the same type as `some_container`. If there are any items in the container `some_name`, those ***same*** items are also in `some_container` and can be referenced by subscripting either name.\n",
    "\n",
    "***Note*** that for mutable objects, you can mutate the object through either name."
   ]
  },
  {
   "cell_type": "markdown",
   "id": "2dd695a6-5711-4fe2-9d4c-3560db7560bf",
   "metadata": {},
   "source": [
    "##### Exercise 6.2.3.2: slicing in the expression list\n",
    "\n",
    "Predict the output of the following cells, then run each to see if you are correct."
   ]
  },
  {
   "cell_type": "code",
   "execution_count": null,
   "id": "8473384e-41a3-4d3a-8d47-9943c64c6128",
   "metadata": {
    "tags": []
   },
   "outputs": [],
   "source": [
    "a = [0,1,2,3,4,5]\n",
    "b = a[2:5]\n",
    "print(b)"
   ]
  },
  {
   "cell_type": "code",
   "execution_count": null,
   "id": "6a6327e7-d810-48a9-88b5-5b2036952fcf",
   "metadata": {
    "tags": []
   },
   "outputs": [],
   "source": [
    "b[1] = 6\n",
    "print(a)"
   ]
  },
  {
   "cell_type": "code",
   "execution_count": null,
   "id": "59c178eb-c687-4f3f-a468-4ef62a6136ec",
   "metadata": {
    "tags": []
   },
   "outputs": [],
   "source": [
    "x = ['a', (2,3), [4,5,6], None, lambda x: x**2, True]\n",
    "y = x[1:5]\n",
    "print(y)"
   ]
  },
  {
   "cell_type": "code",
   "execution_count": null,
   "id": "dd7e33a2-b4ca-42d7-9b78-7db495c5f4b2",
   "metadata": {
    "tags": []
   },
   "outputs": [],
   "source": [
    "y[2] = \"789\"\n",
    "print(x)"
   ]
  },
  {
   "cell_type": "code",
   "execution_count": null,
   "id": "5bb0ada6-3ec7-4031-bed3-c959c13160ab",
   "metadata": {
    "tags": []
   },
   "outputs": [],
   "source": [
    "y[1][0] = \"four\"\n",
    "print(x)"
   ]
  },
  {
   "cell_type": "markdown",
   "id": "63db2126-8bf8-4392-aaa1-1226cf3eecdd",
   "metadata": {
    "tags": []
   },
   "source": [
    "<details>\n",
    "    <summary><b>Solutions</b></summary>\n",
    "    \n",
    "`a[2:5]` makes a ***new*** list that contains the items `a[2]`, `a[3]`, and `a[4]`. In fact, in this example, `a[2:5]` does the same thing as `[a[2], a[3], a[4]]` would. That's not true in general though; this is only equivalent when `a` is a list with at least five items.\n",
    "    \n",
    "`b[1] = 6` mutates the list `b`, but that does not affect the list `a`, since they are distinct lists.\n",
    "    \n",
    "`x[1:5]` makes a ***new*** list that contains the items `x[1]`, `x[2]`, `x[3]`, and `x[4]`.\n",
    "    \n",
    "`y[2] = \"789\"` mutates the list `y` (changes the third item in `y` to be a different object), but that does not affect the list `x`.\n",
    "    \n",
    "`y[1][0] = \"four\"`  mutates the list `y[1]` (changes the first item in `y[1]` to be a different object), which is the ***same*** list as `x[2]`. Changing the first item of `y[1]` to `\"four\"` is the ***same*** as changing the first item of `x[2]` to `\"four\"`, because they are the ***same*** list.\n",
    "    \n",
    "***This is important to understand:***\n",
    "    \n",
    "`y = x[1:5]` makes a ***new*** list and binds the name `y` to it, so `y` is a ***different*** list than `x`, ***but*** all of the ***items*** in `y` are the ***same*** as items in `x`, since the slice is a [***shallow copy***](#list_copy).\n",
    "    \n",
    "There is a difference between mutating a list, and mutating one of the mutable items ***in*** the list. `y[1][0] = \"four\"` does ***not*** mutate `y` (it still contains the same items), but it does mutate one of the items contained in `y`.\n",
    "    \n",
    "The lists `x` and `y` are ***different***, meaning that `(y is x) == False`, but the item `y[1]` is the ***same*** as the item `x[2]`, meaning that  `(y[1] is x[2]) == True`. That item is a list, which is mutable. Mutating `y[1]` is the same as mutating `x[2]`, because `x[2]` and `y[1]` are two names for ***one*** list.\n",
    "</details>"
   ]
  },
  {
   "cell_type": "markdown",
   "id": "d4f8b759-e6f6-4455-9879-71ce8522d3e4",
   "metadata": {
    "tags": []
   },
   "source": [
    "##### 6.2.3.3 Subscriptions in the target list <a id=\"subscription_target\"></a>\n",
    "\n",
    "A normal subscription (i.e. not a slicing) in the target list of an assignment statement will raise a <span style=\"color:red\">***TypeError***</span> if the container is not mutable, stating that the object `does not support item assignment`.\n",
    "\n",
    "For mutable containers, there is an important difference in behavior for sequences versus mappings. For sequences (e.g. lists), the key in the subscription must be a valid index for the sequence. Assigning to a subscription ***cannot*** change the size of the sequence. For example:\n",
    "```python\n",
    "some_sequence[some_key] = some_expression\n",
    "```\n",
    "In the above assignment, if `some_key` is not a valid index for the sequence, an <span style=\"color:red\">***IndexError***</span> will be raised.  If it is a valid index, then `some_expression` will be evaluated and `some_sequence[some_key]` will be bound to that object.\n",
    "\n",
    "For mappings (e.g. dictionaries), the key in the subcription does ***not*** need to be one of the keys for the mapping. Assigning to a subscription ***can*** change the size of the mapping. For example:\n",
    "```python\n",
    "some_mapping[some_key] = some_expression\n",
    "```\n",
    "In the above assignment, if the `some_key` ***is*** already one of the keys of `some_mapping`, then the assignment rebinds `some_mapping[some_key]` to refer to the object that `some_expression` evaluated to. Otherwise,`some_key` becomes one of the keys for `some_mapping`, and refers to the object that `some_expression` evaluated to."
   ]
  },
  {
   "cell_type": "markdown",
   "id": "5939246a-8029-4679-9f09-0b636805eb95",
   "metadata": {},
   "source": [
    "##### Exercise 6.2.3.3: subscription in the target list\n",
    "\n",
    "Predict the output of the following cells, then run each to see if you are correct."
   ]
  },
  {
   "cell_type": "code",
   "execution_count": null,
   "id": "9b41d2f6-4f04-4e03-b8f3-22649433827c",
   "metadata": {
    "tags": []
   },
   "outputs": [],
   "source": [
    "p = ['a', 'b', 'c', 'd', 'e']\n",
    "p[5] = 'f'\n",
    "print(p)"
   ]
  },
  {
   "cell_type": "code",
   "execution_count": null,
   "id": "856994ea-61e6-4ac9-a621-bb2941e69a36",
   "metadata": {
    "tags": []
   },
   "outputs": [],
   "source": [
    "q = (0, 1, 2)\n",
    "q[1] = 4\n",
    "print(q)"
   ]
  },
  {
   "cell_type": "code",
   "execution_count": null,
   "id": "d274731b-15f1-4efa-9143-516680d0686f",
   "metadata": {
    "tags": []
   },
   "outputs": [],
   "source": [
    "x = {'a': [1], 'b': (2), 'c': {'d', 4}}\n",
    "x['e'] = 5\n",
    "print(x)"
   ]
  },
  {
   "cell_type": "code",
   "execution_count": null,
   "id": "03031649-567a-4672-9c98-aa2cde46eb95",
   "metadata": {},
   "outputs": [],
   "source": [
    "x['a'][0] = 11\n",
    "print(x)"
   ]
  },
  {
   "cell_type": "code",
   "execution_count": null,
   "id": "7ff9f5c1-6182-42d3-977f-3bd5596c166e",
   "metadata": {},
   "outputs": [],
   "source": [
    "x['b'][0] = 22\n",
    "print(x)"
   ]
  },
  {
   "cell_type": "code",
   "execution_count": null,
   "id": "605ae5c6-80d4-473a-8268-656dca1b69d9",
   "metadata": {
    "tags": []
   },
   "outputs": [],
   "source": [
    "x['c']['d'] = 44\n",
    "print(x)"
   ]
  },
  {
   "cell_type": "code",
   "execution_count": null,
   "id": "ddcd6026-56b8-46e8-9bdd-baaa2a5be1f0",
   "metadata": {
    "tags": []
   },
   "outputs": [],
   "source": [
    "y = ([0], [1], [2])\n",
    "y[1][0] = 11\n",
    "print(y)"
   ]
  },
  {
   "cell_type": "markdown",
   "id": "97718fee-703c-4e2c-9138-11b560c4a092",
   "metadata": {
    "tags": []
   },
   "source": [
    "<details>\n",
    "    <summary><b>Solutions</b></summary>\n",
    "    \n",
    "`p` only has 5 items, so `p[5]` raises an <span style=\"color:red\">***IndexError***</span> (the valid indices are `0` through `4`).\n",
    "    \n",
    "`q` is a tuple, which is immutable, so `q[1] = 4` raises a <span style=\"color:red\">***TypeError***</span>. You cannot assign anything to an item of a tuple, so a subscription or slicing of a tuple should never be in the target list of an assignment statement.\n",
    "    \n",
    "`x['e'] = 5` adds a `key:value` pair to the dictionary, so that the key `'e'` now refers to the value `5`.\n",
    "    \n",
    "`x['a'][0] = 11` mutates the list referenced by `x['a']` so that its first item is `11`.\n",
    "    \n",
    "`x['b']` is an integer, which is not a container, so it does not support item assignment. Hence, `x['b'][0] = 22` raises a <span style=\"color:red\">***TypeError***</span>.\n",
    "\n",
    "`x['c']` is a set, which is immutable, so `x['c']['d'] = 44` raises a <span style=\"color:red\">***TypeError***</span>.\n",
    "    \n",
    "`y[1]` refers to a list with at least one item, so `y[1][0] = 11` mutates that list so that its first item is `11`. Remember, you ***cannot*** mutate a tuple (i.e. change which items it contains), but you ***can*** mutate the mutable items ***in*** a tuple.\n",
    "</details>"
   ]
  },
  {
   "cell_type": "code",
   "execution_count": null,
   "id": "639851cb-7dd6-4eae-bb3f-4cdd1caae376",
   "metadata": {},
   "outputs": [],
   "source": []
  },
  {
   "cell_type": "code",
   "execution_count": null,
   "id": "da19ce96-61f2-4430-9ec9-a994a4121c81",
   "metadata": {},
   "outputs": [],
   "source": []
  },
  {
   "cell_type": "markdown",
   "id": "614b4458-cc46-4b47-920f-41394c62328d",
   "metadata": {},
   "source": [
    "# Work in progress"
   ]
  },
  {
   "cell_type": "markdown",
   "id": "040e2e80-21aa-43d6-85ec-ddc897aa8546",
   "metadata": {
    "tags": []
   },
   "source": [
    "#### 6.2.4 `del` statements with subscriptions\n",
    "\n",
    "- Sequences\n",
    "- Mappings\n",
    "- Slicings"
   ]
  },
  {
   "cell_type": "markdown",
   "id": "9a5fd025-8e49-4e4e-96d6-f96a8a880183",
   "metadata": {},
   "source": [
    "### 6.3 Sequences <a id=\"sequences\"></a>"
   ]
  },
  {
   "cell_type": "markdown",
   "id": "df53f91f-53e6-46d2-b00e-1da8ba7cc292",
   "metadata": {},
   "source": [
    "### 6.4 Sets <a id=\"sets\"></a>"
   ]
  },
  {
   "cell_type": "markdown",
   "id": "6720e552-003e-4aea-b010-c460913bcc2c",
   "metadata": {},
   "source": [
    "### 6.5 Mappings <a id=\"mappings\"></a>"
   ]
  },
  {
   "cell_type": "markdown",
   "id": "72add5a1-72e6-411c-a8b6-f7aeaaf97f94",
   "metadata": {},
   "source": [
    "### 6.6 Strings <a id=\"strings\"></a>"
   ]
  },
  {
   "cell_type": "markdown",
   "id": "51536ffa-97cd-49c2-87b8-cb5d7aa46ff6",
   "metadata": {},
   "source": [
    "### 6.7 Other Containers <a id=\"other_containers\"></a>"
   ]
  },
  {
   "cell_type": "code",
   "execution_count": null,
   "id": "aae9c5cc-0be3-4ba1-88e5-3f397c1c6b90",
   "metadata": {},
   "outputs": [],
   "source": [
    "Mutable sequences should provide methods append(), count(), index(), extend(), insert(), pop(), remove(), reverse() and sort()"
   ]
  },
  {
   "cell_type": "code",
   "execution_count": null,
   "id": "47e33a57-c559-403f-9cc6-0d317f29f40e",
   "metadata": {},
   "outputs": [],
   "source": [
    "mapping methods keys(), values(), items(), get(), clear(), setdefault(), pop(), popitem(), copy(), and update()"
   ]
  },
  {
   "cell_type": "markdown",
   "id": "5092fa97-974e-4115-aa48-464e35912e0f",
   "metadata": {
    "tags": []
   },
   "source": [
    "What to cover:\n",
    "* [containers](https://docs.python.org/3/library/collections.html)\n",
    "  * [membership](https://docs.python.org/3/reference/expressions.html#membership-test-operations)\n",
    "  * set vs list\n",
    "  * dictionary - key, not pair\n",
    "* sequences\n",
    "  * subscription (indexing) - including negative, assignment, augmented assignment\n",
    "  * adding, multiplying (same list multiple times)\n",
    "  * slices, are copies, assignment, augmented assignment\n",
    "  * immutable methods\n",
    "  * mutable methods <a id=\"lists_more\"></a>\n",
    "  * namedtuple\n",
    "* sets\n",
    "  * methods\n",
    "  * frozenset\n",
    "* mappings\n",
    "  * subscription, assignment, augmented assignment\n",
    "  * methods\n",
    "  * ordereddict\n",
    "  * defaultdict\n",
    "  * counter\n",
    "* strings <a id=\"strings_more\"></a>\n",
    "  * methods\n",
    "  * formatting\n",
    "  * unicode: `chr` and `ord`\n",
    "  * bytes\n",
    "* others\n",
    "  * arrays\n",
    "  * bytearrays\n",
    "  * ?"
   ]
  },
  {
   "cell_type": "code",
   "execution_count": null,
   "id": "e6213fcf-64f6-448b-b517-097f32b104d3",
   "metadata": {},
   "outputs": [],
   "source": []
  },
  {
   "cell_type": "markdown",
   "id": "a51b1665-8c62-42ee-a35e-849b14ecb869",
   "metadata": {
    "tags": []
   },
   "source": [
    "## Part 7: Dates and Times"
   ]
  },
  {
   "cell_type": "markdown",
   "id": "468dcb17-d1a3-48d9-9f8a-4b9918101ac3",
   "metadata": {
    "tags": []
   },
   "source": [
    "What to cover:\n",
    "* time module\n",
    "  * time stamps\n",
    "  * UTC\n",
    "  * time zones - aware/naive\n",
    "  * leap seconds\n",
    "  * strftime\n",
    "  * timetuples\n",
    "* datetime\n",
    "  * dates\n",
    "  * times\n",
    "  * timezones - UTC offsets\n",
    "  * datetimes\n",
    "  * timedeltas"
   ]
  },
  {
   "cell_type": "markdown",
   "id": "cbf2c9cc-ac3c-4a26-a49a-b35731efacb2",
   "metadata": {
    "tags": []
   },
   "source": [
    "<a id=\"Iters_Gens\"></a>\n",
    "## Part 8: Iterators and Generators"
   ]
  },
  {
   "cell_type": "markdown",
   "id": "163d12da-7114-4584-84b9-6c773938da8d",
   "metadata": {
    "tags": []
   },
   "source": [
    "What to cover:\n",
    "* iteration\n",
    "  * iterables\n",
    "  * iter\n",
    "  * over same iterable concurrently\n",
    "  * next\n",
    "* generators\n",
    "  * generating functions\n",
    "  * yield\n",
    "  * infinte generators\n",
    "  * short circuiting\n",
    "  * exhaustion\n",
    "  * send\n",
    "  * throw\n",
    "* assignment expression in while loop"
   ]
  },
  {
   "cell_type": "markdown",
   "id": "494eee59-5825-4688-bd57-39c92aec9d86",
   "metadata": {
    "tags": []
   },
   "source": [
    "## Part 9: Error Handling <a id=\"error_handling\"></a>"
   ]
  },
  {
   "cell_type": "markdown",
   "id": "27bb3899-61ed-4e32-bb56-f38d436f3f72",
   "metadata": {
    "tags": []
   },
   "source": [
    "What to cover:\n",
    "* the concept of errors\n",
    "  * overt/covert\n",
    "  * persistent/intermittent\n",
    "  * syntax errors, runtime errors, and logic errors\n",
    "* raise\n",
    "* try, except, else, finally\n",
    "* identify existence, find in code, understand cause, fix\n",
    "* testing (glassbox and whitebox) and debugging\n",
    "* finding errors\n",
    "  * print and logging\n",
    "  * commenting out code\n",
    "  * setting the seed\n",
    "  * defensive programming - fail fast (pros & cons)\n",
    "* error messages\n",
    "  * reading\n",
    "  * documentation\n",
    "  * googling\n",
    "* understanding errors\n",
    "  * object types\n",
    "  * mutability/immutability\n",
    "  * incorrect logic\n",
    "* common errors for beginners, and Python gotchas\n",
    "* warnings\n",
    "  * vs errors\n",
    "  * creating your own"
   ]
  },
  {
   "cell_type": "markdown",
   "id": "d519ce92-ff41-4f7b-9ad0-9622ce5fe18a",
   "metadata": {
    "tags": []
   },
   "source": [
    "## Part 10: Classes <a id=\"classes\"></a>"
   ]
  },
  {
   "cell_type": "markdown",
   "id": "c3aec29b-e7f2-4ab0-873b-9feea300d67c",
   "metadata": {
    "tags": []
   },
   "source": [
    "## Part 11: Regex and match statements <a id=\"regex_and_match\"></a>"
   ]
  },
  {
   "cell_type": "markdown",
   "id": "bbfce69b-0c8d-4081-ba8b-90ab7a117672",
   "metadata": {
    "tags": []
   },
   "source": [
    "## Part 12: HTML and XML <a id=\"html_and_xml\"></a>"
   ]
  },
  {
   "cell_type": "markdown",
   "id": "4fb7c576-7bab-49df-b542-0f5677838d27",
   "metadata": {
    "tags": []
   },
   "source": [
    "## Part 13: Modules and Packages <a id=\"modules\"></a>"
   ]
  },
  {
   "cell_type": "markdown",
   "id": "851df8a3-25a9-4b2c-9376-c1293cbf3004",
   "metadata": {
    "tags": []
   },
   "source": [
    "## Part 14: Advanced Function Topics"
   ]
  },
  {
   "cell_type": "markdown",
   "id": "0a2b3c0a-9fee-4127-bf94-469422942caf",
   "metadata": {
    "tags": []
   },
   "source": [
    "What to cover:\n",
    "* Scoping: global, local, nonlocal\n",
    "* Closures\n",
    "* functools\n",
    "* Decorators\n",
    "* recursive functions"
   ]
  },
  {
   "cell_type": "markdown",
   "id": "b8d2b502-d560-4a6e-9fc1-58d60d450942",
   "metadata": {
    "tags": []
   },
   "source": [
    "## Part 15: More on file/os functionality"
   ]
  },
  {
   "cell_type": "markdown",
   "id": "353f76a8-eb2c-4850-a3c1-3ac15cb54817",
   "metadata": {
    "tags": []
   },
   "source": [
    "What to cover:\n",
    "* Checking if files or directories exist\n",
    "* Making directories\n",
    "* Copying files and directories\n",
    "* Deleting directories\n",
    "* Walking directories\n",
    "* Filename pattern matching\n",
    "* Constructing paths\n",
    "* File/Directory Metadata\n",
    "* Disk Usage"
   ]
  },
  {
   "cell_type": "markdown",
   "id": "11f2b604-5bec-4b17-b3b9-0983c508c7c4",
   "metadata": {
    "tags": []
   },
   "source": [
    "## Part 16: Multiprocessing"
   ]
  },
  {
   "cell_type": "markdown",
   "id": "4ebf3fae-49ef-49fb-9c22-fdbe6222e3b6",
   "metadata": {
    "tags": []
   },
   "source": [
    "## Part 17: Databases/SQLite"
   ]
  },
  {
   "cell_type": "markdown",
   "id": "e6c0e586-17b9-4c35-8b39-849e8c8256fe",
   "metadata": {},
   "source": [
    "# Index"
   ]
  },
  {
   "cell_type": "code",
   "execution_count": null,
   "id": "5e65b366-1a09-4d9d-9052-0ba44ee3aadc",
   "metadata": {
    "tags": []
   },
   "outputs": [],
   "source": []
  },
  {
   "cell_type": "code",
   "execution_count": null,
   "id": "46fb59bf",
   "metadata": {},
   "outputs": [],
   "source": []
  },
  {
   "cell_type": "markdown",
   "id": "ca3452bc-96fa-49d2-9142-df422896cae2",
   "metadata": {
    "tags": []
   },
   "source": [
    "## reused markdown syntax"
   ]
  },
  {
   "cell_type": "raw",
   "id": "8d0cf6eb-9415-4f8f-b98d-fee32f57307c",
   "metadata": {},
   "source": [
    "<a id=\"some_id\"></a>\n",
    "<span style=\"color:red\">***NameError***</span>\n",
    "<details>\n",
    "    <summary><b>Solution</b></summary>\n",
    "    \n",
    "    Hidden text\n",
    "</details>"
   ]
  },
  {
   "cell_type": "markdown",
   "id": "dc59415c-b01e-4bd4-be93-679d5647132b",
   "metadata": {
    "tags": []
   },
   "source": [
    "<details>\n",
    "    <summary><b>Solution</b></summary>\n",
    "    \n",
    "    <span style=\"color:red\">***NameError***</span>\n",
    "</details>"
   ]
  },
  {
   "cell_type": "markdown",
   "id": "9ed54b16-281a-4afd-985e-704cef2b4bfb",
   "metadata": {
    "tags": []
   },
   "source": [
    "<details>\n",
    "    <summary><b>Remember</b></summary>\n",
    "    \n",
    "    What is a <span style=\"color:red\">***NameError***</span>?\n",
    "</details>"
   ]
  },
  {
   "cell_type": "markdown",
   "id": "af0f9b88-a7fd-43e1-a313-02abc923594a",
   "metadata": {},
   "source": [
    "***[Errors](https://docs.python.org/3/tutorial/errors.html#):***\n",
    "\n",
    "The two most important lines to read are:\n",
    "1. The line at the very bottom, which usually states what kind of error it is (e.g. <span style=\"color:red\">***NameError***</span>).\n",
    "2. The line that shows which line (with line number) caused the error.\n",
    "\n",
    "<a id=\"some_id\"></a>"
   ]
  },
  {
   "cell_type": "markdown",
   "id": "460f14fe-04a1-4cff-ae78-f04162c03c1f",
   "metadata": {},
   "source": [
    "<details>\n",
    "    <summary><b>Remember</b></summary>\n",
    "\n",
    "What is a <span style=\"color:red\">***NameError***</span>?\n",
    "</details>"
   ]
  },
  {
   "cell_type": "markdown",
   "id": "6ce18921-c85b-463d-a7fa-edd8cf7b1432",
   "metadata": {},
   "source": [
    "<details>\n",
    "    <summary><b>Remember</b></summary>\n",
    "What is a <span style=\"color:red\">***NameError***</span>?\n",
    "</details>"
   ]
  },
  {
   "cell_type": "markdown",
   "id": "777b36be-3ff8-4a92-a94a-8be41a8b8ed2",
   "metadata": {},
   "source": [
    "<details>\n",
    "    <summary><b>Remember</b></summary>\n",
    "    \n",
    "    What is a <span style=\"color:red\">***NameError***</span>?\n",
    "</details>"
   ]
  },
  {
   "cell_type": "code",
   "execution_count": null,
   "id": "b48885bd-ffa0-4556-99f2-aa13edeb0eb3",
   "metadata": {},
   "outputs": [],
   "source": []
  }
 ],
 "metadata": {
  "kernelspec": {
   "display_name": "Python [conda env:joe312]",
   "language": "python",
   "name": "conda-env-joe312-py"
  },
  "language_info": {
   "codemirror_mode": {
    "name": "ipython",
    "version": 3
   },
   "file_extension": ".py",
   "mimetype": "text/x-python",
   "name": "python",
   "nbconvert_exporter": "python",
   "pygments_lexer": "ipython3",
   "version": "3.12.1"
  },
  "toc-autonumbering": false
 },
 "nbformat": 4,
 "nbformat_minor": 5
}
